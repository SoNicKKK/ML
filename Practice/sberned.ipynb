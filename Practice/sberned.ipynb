{
 "cells": [
  {
   "cell_type": "code",
   "execution_count": 113,
   "metadata": {
    "collapsed": true
   },
   "outputs": [],
   "source": [
    "import re\n",
    "import pandas as pd"
   ]
  },
  {
   "cell_type": "markdown",
   "metadata": {},
   "source": [
    "## Работа с файлом TASK 1\n",
    "\n",
    "На основе первого столбца данной матрицы необходимо проделать следующие шаги:\n",
    "* Если в строчках есть кавычки (два типа кавычек), то оставить только то, что находится внутри них\n",
    "* Все пробелы (в том числе, двойные, тройные и т.д.), знаки табуляции, переносы заменить на одиночный пробел\n",
    "* Удалить пробелы в начале, и в конце строки \n",
    "* Удалить всё, что находится в скобках (вместе со скобками)\n",
    "* Удалить строчки, содержащие слова \"жилой дом\"или \"таунхаус\"\n",
    "* Удалить \"ЖК\"в началах строк\n",
    "* Сделать первую букву каждого слова в строках - заглавной\n",
    "* Извлечь уникальные значения и сделать таблицу датафреймом, экспортировать её в формате csv"
   ]
  },
  {
   "cell_type": "code",
   "execution_count": 115,
   "metadata": {
    "collapsed": false
   },
   "outputs": [],
   "source": [
    "def replace_bad(x):\n",
    "    x = x.replace('\"', '')\n",
    "    x = ' '.join(x.split())\n",
    "    bad = ['-', '\\t']\n",
    "    for b in bad: x = x.replace(b, ' ')\n",
    "    x = re.sub(r'\\(.*\\)', '', x)\n",
    "    x = x[2:] if 'ЖК' in x[:2] else x    \n",
    "    return x.strip().title()\n",
    "\n",
    "df = pd.read_csv('task1.csv', sep=';')\n",
    "df['estate_object_name'] = df.estate_object_name.apply(replace_bad)\n",
    "df.drop_duplicates('estate_object_name').to_csv('task1_fixed.csv', index=False, sep=';', encoding='utf-8')"
   ]
  },
  {
   "cell_type": "markdown",
   "metadata": {},
   "source": [
    "## Работа с файлом TASK 2\n",
    "\n",
    "Каждый столбец матрицы разбить на большее количество столбцов по соответствующим разделителям\n",
    "* Из первого исходного столбца необходимо извлечь идентификатор, который идет в конце каждой записи\n",
    "* Также необходимо извлечь название городов и название метро для каждой строчки первого столбца\n",
    "* Сопоставить координаты из второго исходного столбца (располагаются в порядке X, Y ) - станциям метро и городам из первого исходного столбца используя уникальный идентификатор\n",
    "* Должен получиться следующий dataframe со столбцами: (\"Город, Метро, ID, X, Y\"), который необходимо экспортировать в csv-формате в кодировке UTF8\n",
    "* Подключить на Google disc следующий плагин: fusion tables. Импортировать туда полученный csv-файл\n",
    "* В столбце rows поменять формат переменной Y на location (two column location, latitude -Y , longitude - X) переключить вкладку на карту и выбрать в поле location - Y)\n",
    "* Далее карту нужно опубликовать, в Tools выбрать Publish, в Change visibility поменять Private на Anyone with the link, сохранить, и скопировать ссылку в всплывающем окне"
   ]
  },
  {
   "cell_type": "code",
   "execution_count": 116,
   "metadata": {
    "collapsed": false
   },
   "outputs": [
    {
     "name": "stdout",
     "output_type": "stream",
     "text": [
      "Cannot parse metro: ['Россия', 'Москва', 'Ломоносовский проспект', '242789']\n",
      "Cannot parse metro: ['Россия', 'Москва', 'Мичуринский проспект', '179419']\n",
      "Cannot parse metro: ['Россия', 'Москва', 'Нижегородская улица', '216510']\n",
      "Cannot parse metro: ['Россия', 'Москва', 'улица Верхняя Масловка', '153754']\n",
      "Cannot parse metro: ['Россия', 'Москва', 'Окская улица', '223821']\n",
      "Cannot parse metro: ['Россия', 'Москва', 'Стахановская улица', '178803']\n",
      "Cannot parse metro: ['Россия', 'Москва', 'улица Дмитриевского', '94218']\n",
      "\n",
      "Link to share map: https://www.google.com/fusiontables/DataSource?docid=1kcEqMroQUBgQv0im9C8LdiXxEvTURsHUn_ymkePH\n"
     ]
    }
   ],
   "source": [
    "df = pd.read_csv('task2.csv', sep=';')\n",
    "df.columns = ['text', 'coord']\n",
    "\n",
    "def parse_text(x):    \n",
    "    s = [i.strip().replace('\"', '') for i in x.split(',')]\n",
    "    if len(s) == 6:\n",
    "        cnt, reg, city, line, station, ind = s\n",
    "    else:\n",
    "        reg = '-'\n",
    "        try:\n",
    "            cnt, city, line, station, ind = s            \n",
    "        except:\n",
    "            cnt, city, line, station, ind = ['-'] * 5\n",
    "            print('Cannot parse metro:', s)\n",
    "    line = line[:-6]\n",
    "    station = station[6:]\n",
    "    return pd.Series([cnt, reg, city, line, station, ind])\n",
    "\n",
    "def parse_coord(x):\n",
    "    sp = x.split('|')\n",
    "    return pd.Series([sp[0], sp[1], sp[2]])\n",
    "\n",
    "df[['cnt', 'reg', 'city', 'line', 'station', 'item_id']] = df.text.apply(parse_text)\n",
    "df[['x', 'y', 'val']] = df.coord.apply(parse_coord)\n",
    "df_final = df[(df.city != '-') & (df.city != 'Северный административный округ')][['item_id', 'city', 'station', 'x', 'y']].copy()\n",
    "df_final.columns = ['ID', 'Город', 'Метро', 'X', 'Y']\n",
    "df_final.to_csv('task2_fixed.csv', index=False, encoding='utf-8')\n",
    "\n",
    "print('\\nLink to share map: https://www.google.com/fusiontables/DataSource?docid=1kcEqMroQUBgQv0im9C8LdiXxEvTURsHUn_ymkePH')"
   ]
  },
  {
   "cell_type": "markdown",
   "metadata": {},
   "source": [
    "### Задача 1\n",
    "\n",
    "Что больше: $e^\\pi$ или $\\pi^e$?\n",
    "\n",
    "#### Решение\n",
    "\n",
    "Возьмем логарифм от обоих выражений и немного преобразуем: $$\\ln(e^\\pi) \\quad v \\quad \\ln(\\pi^e)$$\n",
    "$$\\pi \\quad v \\quad e\\ln(\\pi)$$\n",
    "$$\\frac{\\pi}{e} \\quad v \\quad \\ln(\\pi) - \\ln(e) + \\ln(e)$$\n",
    "$$\\frac{\\pi}{e} \\quad v \\quad \\ln\\left(\\frac{\\pi}{e}\\right) + 1$$\n",
    "$$\\frac{\\pi}{e}-1 \\quad v \\quad \\ln\\left(\\frac{\\pi}{e}\\right)$$\n",
    "\n",
    "Пусть $f(x)=x-1, \\quad g(x)=\\ln(x)$. Тогда нам надо сравнить $f(x)$ и $g(x)$ при $x=\\frac{\\pi}{e}$. Сделаем замену переменных $x=t+1$. Тогда $f(t) = t, \\quad g(t)=\\ln(1+t)$. Но $g(t) = \\ln(1+t) = t - \\frac{t^2}{2} + \\frac{t^3}{3} + \\ldots < t$. Значит, $f(x) > g(x)$ и $e^\\pi > \\pi^e$."
   ]
  }
 ],
 "metadata": {
  "kernelspec": {
   "display_name": "Python 3",
   "language": "python",
   "name": "python3"
  },
  "language_info": {
   "codemirror_mode": {
    "name": "ipython",
    "version": 3
   },
   "file_extension": ".py",
   "mimetype": "text/x-python",
   "name": "python",
   "nbconvert_exporter": "python",
   "pygments_lexer": "ipython3",
   "version": "3.5.1"
  }
 },
 "nbformat": 4,
 "nbformat_minor": 0
}
