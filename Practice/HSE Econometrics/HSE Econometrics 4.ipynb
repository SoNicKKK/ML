{
 "cells": [
  {
   "cell_type": "markdown",
   "metadata": {},
   "source": [
    "# Мультиколлинеарность и метод главных компонент\n",
    "\n",
    "В этом задании требуется оценить модель, в которой присутствуют регрессоры с мультиколлинеарностью. Для решения используются штрафы в МНК (методы Лассо и Ридж).\n",
    "\n",
    "Главная проблема: лассо- и ридж-регрессии работают по-разному в пакетах `statsmodels` и `sklearn`."
   ]
  },
  {
   "cell_type": "code",
   "execution_count": null,
   "metadata": {
    "collapsed": true
   },
   "outputs": [],
   "source": [
    "import numpy as np\n",
    "import pandas as pd\n",
    "import matplotlib.pyplot as plt\n",
    "import seaborn as sns\n",
    "import statsmodels.api as sm\n",
    "import statsmodels.formula.api as sfm\n",
    "%matplotlib inline"
   ]
  },
  {
   "cell_type": "markdown",
   "metadata": {},
   "source": [
    "Набор данных `airquality` из R. В наборе указаны данные по содержанию озона в воздухе, солнечной радиации, скорости ветра, температуре."
   ]
  },
  {
   "cell_type": "code",
   "execution_count": 21,
   "metadata": {
    "collapsed": false
   },
   "outputs": [
    {
     "data": {
      "text/html": [
       "<div>\n",
       "<table border=\"1\" class=\"dataframe\">\n",
       "  <thead>\n",
       "    <tr style=\"text-align: right;\">\n",
       "      <th></th>\n",
       "      <th>ozone</th>\n",
       "      <th>solar_rad</th>\n",
       "      <th>wind</th>\n",
       "      <th>temp</th>\n",
       "      <th>month</th>\n",
       "      <th>day</th>\n",
       "    </tr>\n",
       "  </thead>\n",
       "  <tbody>\n",
       "    <tr>\n",
       "      <th>1</th>\n",
       "      <td>41</td>\n",
       "      <td>190</td>\n",
       "      <td>7.4</td>\n",
       "      <td>67</td>\n",
       "      <td>5</td>\n",
       "      <td>1</td>\n",
       "    </tr>\n",
       "    <tr>\n",
       "      <th>2</th>\n",
       "      <td>36</td>\n",
       "      <td>118</td>\n",
       "      <td>8.0</td>\n",
       "      <td>72</td>\n",
       "      <td>5</td>\n",
       "      <td>2</td>\n",
       "    </tr>\n",
       "    <tr>\n",
       "      <th>3</th>\n",
       "      <td>12</td>\n",
       "      <td>149</td>\n",
       "      <td>12.6</td>\n",
       "      <td>74</td>\n",
       "      <td>5</td>\n",
       "      <td>3</td>\n",
       "    </tr>\n",
       "    <tr>\n",
       "      <th>4</th>\n",
       "      <td>18</td>\n",
       "      <td>313</td>\n",
       "      <td>11.5</td>\n",
       "      <td>62</td>\n",
       "      <td>5</td>\n",
       "      <td>4</td>\n",
       "    </tr>\n",
       "    <tr>\n",
       "      <th>5</th>\n",
       "      <td>NaN</td>\n",
       "      <td>NaN</td>\n",
       "      <td>14.3</td>\n",
       "      <td>56</td>\n",
       "      <td>5</td>\n",
       "      <td>5</td>\n",
       "    </tr>\n",
       "  </tbody>\n",
       "</table>\n",
       "</div>"
      ],
      "text/plain": [
       "   ozone  solar_rad  wind  temp  month  day\n",
       "1     41        190   7.4    67      5    1\n",
       "2     36        118   8.0    72      5    2\n",
       "3     12        149  12.6    74      5    3\n",
       "4     18        313  11.5    62      5    4\n",
       "5    NaN        NaN  14.3    56      5    5"
      ]
     },
     "execution_count": 21,
     "metadata": {},
     "output_type": "execute_result"
    }
   ],
   "source": [
    "df = pd.read_csv('airquality.csv', index_col=0)\n",
    "df.rename(columns={'Ozone':'ozone', 'Solar.R':'solar_rad', 'Wind':'wind', 'Temp':'temp', 'Month':'month', 'Day':'day'},\n",
    "         inplace=True)\n",
    "df.head()"
   ]
  },
  {
   "cell_type": "code",
   "execution_count": 22,
   "metadata": {
    "collapsed": false
   },
   "outputs": [
    {
     "data": {
      "text/plain": [
       "<matplotlib.collections.PathCollection at 0x262e25f32b0>"
      ]
     },
     "execution_count": 22,
     "metadata": {},
     "output_type": "execute_result"
    },
    {
     "data": {
      "image/png": "[encoded data removed]",
      "text/plain": [
       "<matplotlib.figure.Figure at 0x262e25a09e8>"
      ]
     },
     "metadata": {},
     "output_type": "display_data"
    }
   ],
   "source": [
    "df.describe()\n",
    "sns.set(style='whitegrid', context='notebook')\n",
    "plt.scatter(df.ozone, df.solar_rad)"
   ]
  },
  {
   "cell_type": "markdown",
   "metadata": {},
   "source": [
    "## Выявление мультиколлинеарности\n",
    "\n",
    "Чтобы примерно оценить, есть ли мультиколлинеарность между регрессорами, можно вычислить параметры $VIF$. Для этого надо посчитать регрессию одного регрессора на остальные и вычислить значение $VIF_j = \\frac{1}{1 - R_j^2}$. Если это значение получается большое (на глаз - больше 10), то это значит, что значение $R^2$ маленькое - и это может свидетельствовать о мультиколлинеарности.\n",
    "\n",
    "Рассчитать VIF можно вручную, а можно воспользоваться функцией `statsmodels.stats.outliers_influence.variance_inflation_factor()`."
   ]
  },
  {
   "cell_type": "code",
   "execution_count": 48,
   "metadata": {
    "collapsed": false
   },
   "outputs": [
    {
     "name": "stdout",
     "output_type": "stream",
     "text": [
      "VIF for solar_rad = 5.624\n",
      "VIF for wind = 6.135\n",
      "VIF for temp = 10.918\n"
     ]
    }
   ],
   "source": [
    "df = df.dropna()\n",
    "cols = ['solar_rad','wind','temp']\n",
    "model = sm.OLS(df.ozone, df[['solar_rad', 'wind', 'temp']])\n",
    "res = model.fit()\n",
    "\n",
    "for col in cols:\n",
    "    regr = [i for i in cols if i != col]\n",
    "    model_regr = sm.OLS(df[col], df[regr])\n",
    "    r2 = model_regr.fit().rsquared\n",
    "    print('VIF for %s = %.3f' % (col, round(1 / (1 - r2), 3)))"
   ]
  },
  {
   "cell_type": "code",
   "execution_count": 50,
   "metadata": {
    "collapsed": false
   },
   "outputs": [
    {
     "name": "stdout",
     "output_type": "stream",
     "text": [
      "VIF for solar_rad = 5.624\n",
      "VIF for wind = 6.135\n",
      "VIF for temp = 10.918\n"
     ]
    }
   ],
   "source": [
    "from statsmodels import stats\n",
    "cols = ['solar_rad', 'wind', 'temp']\n",
    "X = df[cols].as_matrix()\n",
    "for i in range(len(cols)):\n",
    "    vif = stats.outliers_influence.variance_inflation_factor(X, i)\n",
    "    print('VIF for %s = %.3f' % (cols[i], vif))"
   ]
  },
  {
   "cell_type": "markdown",
   "metadata": {},
   "source": [
    "## Обход мультиколлинеарности\n",
    "\n",
    "Лассо- и ридж-регрессия, а также метод главных компонент реализованы в пакете `statsmodels` (см. ниже). Проблема в том, что результаты не совпадают с результатми работы аналогичных функций из пакета `sklearn`. Поскольку при отправке на курсеру решений, полученных в `statsmodels`, решение не было принято как правильное, то рискну предположить, что эти функции в `statsmodels` работают неудовлетворительно. Поэтому предлагается использовать их из `sklearn`.\n",
    "\n",
    "\n",
    "**alpha** : *scalar or array-like*\n",
    "\n",
    "The penalty weight. If a scalar, the same penalty weight applies to all variables in the model. If a vector, it must have the same length as params, and contains a penalty weight for each coefficient.\n"
   ]
  },
  {
   "cell_type": "code",
   "execution_count": 153,
   "metadata": {
    "collapsed": false
   },
   "outputs": [
    {
     "data": {
      "text/plain": [
       "solar_rad    0.063\n",
       "wind        -4.537\n",
       "temp         0.977\n",
       "dtype: float64"
      ]
     },
     "execution_count": 153,
     "metadata": {},
     "output_type": "execute_result"
    }
   ],
   "source": [
    "model = sm.OLS(df.ozone, df[cols])\n",
    "res = model.fit_regularized(alpha=1.0, L1_wt=1.0)                  # L1_wt = 1.0 for LASSO, 0.0 for Ridge\n",
    "res.params.apply(lambda x: round(x, 3))"
   ]
  },
  {
   "cell_type": "code",
   "execution_count": 154,
   "metadata": {
    "collapsed": false
   },
   "outputs": [
    {
     "data": {
      "text/plain": [
       "solar_rad    0.063\n",
       "wind        -4.906\n",
       "temp         1.023\n",
       "dtype: float64"
      ]
     },
     "execution_count": 154,
     "metadata": {},
     "output_type": "execute_result"
    }
   ],
   "source": [
    "model = sm.OLS(df.ozone, df[cols])\n",
    "res = model.fit_regularized(alpha=2.0, L1_wt=2.0)                  # L1_wt = 1.0 for LASSO, 0.0 for Ridge\n",
    "res.params.apply(lambda x: round(x, 3))"
   ]
  },
  {
   "cell_type": "code",
   "execution_count": 155,
   "metadata": {
    "collapsed": false
   },
   "outputs": [
    {
     "data": {
      "text/plain": [
       "array([ 0.06 , -3.248,  1.656])"
      ]
     },
     "execution_count": 155,
     "metadata": {},
     "output_type": "execute_result"
    }
   ],
   "source": [
    "from sklearn import linear_model\n",
    "reg = linear_model.Lasso(alpha = 1.0)\n",
    "reg.fit(df[cols], df.ozone)\n",
    "np.round(reg.coef_, 3)"
   ]
  },
  {
   "cell_type": "code",
   "execution_count": 156,
   "metadata": {
    "collapsed": false
   },
   "outputs": [
    {
     "data": {
      "text/plain": [
       "array([ 0.06 , -3.331,  1.652])"
      ]
     },
     "execution_count": 156,
     "metadata": {},
     "output_type": "execute_result"
    }
   ],
   "source": [
    "from sklearn import linear_model\n",
    "reg = linear_model.Ridge(alpha = 1.0)\n",
    "reg.fit(df[cols], df.ozone)\n",
    "np.round(reg.coef_, 3)"
   ]
  },
  {
   "cell_type": "markdown",
   "metadata": {},
   "source": [
    "## Метод главных компонент\n",
    "\n",
    "Проблемы аналогичны: картинки, которые получаются из РСА в `statsmodels` отличаются от `sklearn` и R. Вполне возможно, что я неправильно использую функцию из `statsmodels`, но подробной документации по ней я не нашел."
   ]
  },
  {
   "cell_type": "markdown",
   "metadata": {},
   "source": [
    "### `Statsmodels`"
   ]
  },
  {
   "cell_type": "code",
   "execution_count": 121,
   "metadata": {
    "collapsed": false
   },
   "outputs": [
    {
     "data": {
      "text/plain": [
       "<matplotlib.collections.PathCollection at 0x262e4ea8470>"
      ]
     },
     "execution_count": 121,
     "metadata": {},
     "output_type": "execute_result"
    },
    {
     "data": {
      "image/png": "[encoded data removed]",
      "text/plain": [
       "<matplotlib.figure.Figure at 0x262e36bfa90>"
      ]
     },
     "metadata": {},
     "output_type": "display_data"
    }
   ],
   "source": [
    "from statsmodels.sandbox.tools.tools_pca import pca\n",
    "X = df[cols].apply(lambda x: (x - x.mean()) / x.std())\n",
    "xreduced, factors, evals,evecs = pca(X)\n",
    "plt.subplots(1, 3, figsize=(16, 4))\n",
    "plt.subplot(1, 3, 1)\n",
    "plt.scatter(factors[:,0], factors[:,1], label='PCA0 vs PCA1', c='r') \n",
    "plt.subplot(1, 3, 2)\n",
    "plt.scatter(factors[:,0], factors[:,2], label='PCA0 vs PCA2', c='g')\n",
    "plt.subplot(1, 3, 3)\n",
    "plt.scatter(factors[:,1], factors[:,2], label='PCA1 vs PCA2', c='b')"
   ]
  },
  {
   "cell_type": "markdown",
   "metadata": {},
   "source": [
    "### `Sklearn`"
   ]
  },
  {
   "cell_type": "code",
   "execution_count": 135,
   "metadata": {
    "collapsed": false
   },
   "outputs": [
    {
     "data": {
      "text/plain": [
       "<matplotlib.collections.PathCollection at 0x262e6068908>"
      ]
     },
     "execution_count": 135,
     "metadata": {},
     "output_type": "execute_result"
    },
    {
     "data": {
      "image/png": "[encoded data removed]",
      "text/plain": [
       "<matplotlib.figure.Figure at 0x262e49e2588>"
      ]
     },
     "metadata": {},
     "output_type": "display_data"
    }
   ],
   "source": [
    "from sklearn.decomposition import PCA\n",
    "pca = PCA(n_components=3)\n",
    "pca.fit(X)\n",
    "pc = pca.fit_transform(X)\n",
    "pc1, pc2, pc3 = pc[:,0], pc[:,1], pc[:,2]\n",
    "plt.subplots(1, 3, figsize=(16, 4))\n",
    "plt.subplot(1, 3, 1)\n",
    "plt.scatter(pc1, pc2, label='PCA0 vs PCA1', c='r') \n",
    "plt.subplot(1, 3, 2)\n",
    "plt.scatter(pc1, pc3, label='PCA0 vs PCA2', c='g')\n",
    "plt.subplot(1, 3, 3)\n",
    "plt.scatter(pc2, pc3, label='PCA1 vs PCA2', c='b')"
   ]
  }
 ],
 "metadata": {
  "kernelspec": {
   "display_name": "Python 3",
   "language": "python",
   "name": "python3"
  },
  "language_info": {
   "codemirror_mode": {
    "name": "ipython",
    "version": 3
   },
   "file_extension": ".py",
   "mimetype": "text/x-python",
   "name": "python",
   "nbconvert_exporter": "python",
   "pygments_lexer": "ipython3",
   "version": "3.5.1"
  }
 },
 "nbformat": 4,
 "nbformat_minor": 0
}
