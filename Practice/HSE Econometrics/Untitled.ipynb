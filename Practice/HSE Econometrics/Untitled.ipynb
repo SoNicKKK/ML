{
 "cells": [
  {
   "cell_type": "code",
   "execution_count": 1,
   "metadata": {
    "collapsed": true
   },
   "outputs": [],
   "source": [
    "import pandas as pd\n",
    "import numpy as np"
   ]
  },
  {
   "cell_type": "code",
   "execution_count": 4,
   "metadata": {
    "collapsed": false
   },
   "outputs": [
    {
     "data": {
      "text/plain": [
       "soybean      14\n",
       "linseed      12\n",
       "sunflower    12\n",
       "casein       12\n",
       "meatmeal     11\n",
       "horsebean    10\n",
       "Name: feed, dtype: int64"
      ]
     },
     "execution_count": 4,
     "metadata": {},
     "output_type": "execute_result"
    }
   ],
   "source": [
    "df = pd.read_csv('chickwts.csv', index_col=0)\n",
    "df.feed.value_counts()"
   ]
  },
  {
   "cell_type": "code",
   "execution_count": 5,
   "metadata": {
    "collapsed": false
   },
   "outputs": [
    {
     "data": {
      "text/html": [
       "<div>\n",
       "<table border=\"1\" class=\"dataframe\">\n",
       "  <thead>\n",
       "    <tr style=\"text-align: right;\">\n",
       "      <th></th>\n",
       "      <th>weight</th>\n",
       "      <th>feed</th>\n",
       "    </tr>\n",
       "  </thead>\n",
       "  <tbody>\n",
       "    <tr>\n",
       "      <th>1</th>\n",
       "      <td>179</td>\n",
       "      <td>horsebean</td>\n",
       "    </tr>\n",
       "    <tr>\n",
       "      <th>2</th>\n",
       "      <td>160</td>\n",
       "      <td>horsebean</td>\n",
       "    </tr>\n",
       "    <tr>\n",
       "      <th>3</th>\n",
       "      <td>136</td>\n",
       "      <td>horsebean</td>\n",
       "    </tr>\n",
       "    <tr>\n",
       "      <th>4</th>\n",
       "      <td>227</td>\n",
       "      <td>horsebean</td>\n",
       "    </tr>\n",
       "    <tr>\n",
       "      <th>5</th>\n",
       "      <td>217</td>\n",
       "      <td>horsebean</td>\n",
       "    </tr>\n",
       "  </tbody>\n",
       "</table>\n",
       "</div>"
      ],
      "text/plain": [
       "   weight       feed\n",
       "1     179  horsebean\n",
       "2     160  horsebean\n",
       "3     136  horsebean\n",
       "4     227  horsebean\n",
       "5     217  horsebean"
      ]
     },
     "execution_count": 5,
     "metadata": {},
     "output_type": "execute_result"
    }
   ],
   "source": [
    "df.head()"
   ]
  },
  {
   "cell_type": "code",
   "execution_count": 6,
   "metadata": {
    "collapsed": false
   },
   "outputs": [
    {
     "data": {
      "text/plain": [
       "feed\n",
       "casein       323.583333\n",
       "horsebean    160.200000\n",
       "linseed      218.750000\n",
       "meatmeal     276.909091\n",
       "soybean      246.428571\n",
       "sunflower    328.916667\n",
       "Name: weight, dtype: float64"
      ]
     },
     "execution_count": 6,
     "metadata": {},
     "output_type": "execute_result"
    }
   ],
   "source": [
    "df.groupby('feed').weight.mean()"
   ]
  },
  {
   "cell_type": "code",
   "execution_count": 10,
   "metadata": {
    "collapsed": false
   },
   "outputs": [
    {
     "data": {
      "text/plain": [
       "SI1     13065\n",
       "VS2     12258\n",
       "SI2      9194\n",
       "VS1      8171\n",
       "VVS2     5066\n",
       "VVS1     3655\n",
       "IF       1790\n",
       "I1        741\n",
       "Name: clarity, dtype: int64"
      ]
     },
     "execution_count": 10,
     "metadata": {},
     "output_type": "execute_result"
    }
   ],
   "source": [
    "df = pd.read_csv('diamonds.csv')\n",
    "df.head()\n",
    "df.clarity.value_counts()"
   ]
  },
  {
   "cell_type": "code",
   "execution_count": 18,
   "metadata": {
    "collapsed": false
   },
   "outputs": [
    {
     "name": "stdout",
     "output_type": "stream",
     "text": [
      "                            OLS Regression Results                            \n",
      "==============================================================================\n",
      "Dep. Variable:                  price   R-squared:                       0.859\n",
      "Model:                            OLS   Adj. R-squared:                  0.859\n",
      "Method:                 Least Squares   F-statistic:                 6.583e+04\n",
      "Date:                Sun, 28 Aug 2016   Prob (F-statistic):               0.00\n",
      "Time:                        23:46:59   Log-Likelihood:            -4.7090e+05\n",
      "No. Observations:               53940   AIC:                         9.418e+05\n",
      "Df Residuals:                   53934   BIC:                         9.419e+05\n",
      "Df Model:                           5                                         \n",
      "Covariance Type:            nonrobust                                         \n",
      "==============================================================================\n",
      "                 coef    std err          t      P>|t|      [95.0% Conf. Int.]\n",
      "------------------------------------------------------------------------------\n",
      "const        2.07e+04    419.575     49.343      0.000      1.99e+04  2.15e+04\n",
      "carat       1.069e+04     63.199    169.095      0.000      1.06e+04  1.08e+04\n",
      "table       -102.4901      3.084    -33.234      0.000      -108.534   -96.446\n",
      "x          -1293.5423     36.063    -35.869      0.000     -1364.225 -1222.859\n",
      "y             69.5753     25.287      2.751      0.006        20.013   119.138\n",
      "depth       -200.7176      4.855    -41.344      0.000      -210.233  -191.202\n",
      "==============================================================================\n",
      "Omnibus:                    14094.014   Durbin-Watson:                   1.250\n",
      "Prob(Omnibus):                  0.000   Jarque-Bera (JB):           373375.505\n",
      "Skew:                           0.675   Prob(JB):                         0.00\n",
      "Kurtosis:                      15.818   Cond. No.                     5.53e+03\n",
      "==============================================================================\n",
      "\n",
      "Warnings:\n",
      "[1] Standard Errors assume that the covariance matrix of the errors is correctly specified.\n",
      "[2] The condition number is large, 5.53e+03. This might indicate that there are\n",
      "strong multicollinearity or other numerical problems.\n"
     ]
    }
   ],
   "source": [
    "import statsmodels.api as sm\n",
    "model = sm.OLS(df.price, sm.add_constant(df[['carat', 'table', 'x', 'y', 'depth']]))\n",
    "res = model.fit()\n",
    "print(res.summary())"
   ]
  },
  {
   "cell_type": "code",
   "execution_count": 23,
   "metadata": {
    "collapsed": false
   },
   "outputs": [
    {
     "name": "stdout",
     "output_type": "stream",
     "text": [
      "                  0             1\n",
      "const  20012.795543  21393.097786\n",
      "carat  10582.751486  10790.662319\n",
      "table   -107.562656    -97.417527\n",
      "x      -1352.861121  -1234.223396\n",
      "y         27.981239    111.169413\n",
      "depth   -208.703180   -192.731963\n"
     ]
    }
   ],
   "source": [
    "print(res.conf_int(alpha=0.1))"
   ]
  },
  {
   "cell_type": "code",
   "execution_count": 25,
   "metadata": {
    "collapsed": false
   },
   "outputs": [
    {
     "data": {
      "text/html": [
       "<div>\n",
       "<table border=\"1\" class=\"dataframe\">\n",
       "  <thead>\n",
       "    <tr style=\"text-align: right;\">\n",
       "      <th></th>\n",
       "      <th>wfood</th>\n",
       "      <th>totexp</th>\n",
       "      <th>age</th>\n",
       "      <th>size</th>\n",
       "      <th>town</th>\n",
       "      <th>sex</th>\n",
       "    </tr>\n",
       "  </thead>\n",
       "  <tbody>\n",
       "    <tr>\n",
       "      <th>1</th>\n",
       "      <td>0.467699</td>\n",
       "      <td>1290941</td>\n",
       "      <td>43</td>\n",
       "      <td>5</td>\n",
       "      <td>2</td>\n",
       "      <td>man</td>\n",
       "    </tr>\n",
       "    <tr>\n",
       "      <th>2</th>\n",
       "      <td>0.313023</td>\n",
       "      <td>1277978</td>\n",
       "      <td>40</td>\n",
       "      <td>3</td>\n",
       "      <td>2</td>\n",
       "      <td>man</td>\n",
       "    </tr>\n",
       "    <tr>\n",
       "      <th>3</th>\n",
       "      <td>0.376482</td>\n",
       "      <td>845852</td>\n",
       "      <td>28</td>\n",
       "      <td>3</td>\n",
       "      <td>2</td>\n",
       "      <td>man</td>\n",
       "    </tr>\n",
       "    <tr>\n",
       "      <th>4</th>\n",
       "      <td>0.439691</td>\n",
       "      <td>527698</td>\n",
       "      <td>60</td>\n",
       "      <td>1</td>\n",
       "      <td>2</td>\n",
       "      <td>woman</td>\n",
       "    </tr>\n",
       "    <tr>\n",
       "      <th>5</th>\n",
       "      <td>0.403615</td>\n",
       "      <td>1103220</td>\n",
       "      <td>37</td>\n",
       "      <td>5</td>\n",
       "      <td>2</td>\n",
       "      <td>man</td>\n",
       "    </tr>\n",
       "  </tbody>\n",
       "</table>\n",
       "</div>"
      ],
      "text/plain": [
       "      wfood   totexp  age  size  town    sex\n",
       "1  0.467699  1290941   43     5     2    man\n",
       "2  0.313023  1277978   40     3     2    man\n",
       "3  0.376482   845852   28     3     2    man\n",
       "4  0.439691   527698   60     1     2  woman\n",
       "5  0.403615  1103220   37     5     2    man"
      ]
     },
     "execution_count": 25,
     "metadata": {},
     "output_type": "execute_result"
    }
   ],
   "source": [
    "df = pd.read_csv('BudgetFood.csv', index_col=0)\n",
    "df.head()"
   ]
  },
  {
   "cell_type": "code",
   "execution_count": 54,
   "metadata": {
    "collapsed": false
   },
   "outputs": [
    {
     "data": {
      "text/plain": [
       "array([-0.27])"
      ]
     },
     "execution_count": 54,
     "metadata": {},
     "output_type": "execute_result"
    }
   ],
   "source": [
    "model = sm.OLS(df.wfood, sm.add_constant(df[['totexp', 'size']]))\n",
    "res = model.fit()\n",
    "from statsmodels.sandbox.regression.predstd import wls_prediction_std\n",
    "se, li, ui = wls_prediction_std(res, exog=[0, 700000, 4], alpha=0.1)\n",
    "np.round(li, 2)"
   ]
  },
  {
   "cell_type": "code",
   "execution_count": 61,
   "metadata": {
    "collapsed": false
   },
   "outputs": [
    {
     "name": "stdout",
     "output_type": "stream",
     "text": [
      "<F test: F=array([[ 845879.6654704]]), p=0.0, df_denom=23967, df_num=2>\n"
     ]
    }
   ],
   "source": [
    "df['w2'] = df.wfood ** 2\n",
    "df['w3'] = df.wfood ** 3\n",
    "model2 = sm.OLS(df.wfood, sm.add_constant(df[['totexp', 'size', 'w2', 'w3']]))\n",
    "res2 = model2.fit()\n",
    "print(res2.wald_test(np.eye(len(res2.params))[-2:]))"
   ]
  },
  {
   "cell_type": "code",
   "execution_count": 63,
   "metadata": {
    "collapsed": false
   },
   "outputs": [
    {
     "data": {
      "text/html": [
       "<table class=\"simpletable\">\n",
       "<caption>OLS Regression Results</caption>\n",
       "<tr>\n",
       "  <th>Dep. Variable:</th>          <td>wfood</td>      <th>  R-squared:         </th>  <td>   0.990</td> \n",
       "</tr>\n",
       "<tr>\n",
       "  <th>Model:</th>                   <td>OLS</td>       <th>  Adj. R-squared:    </th>  <td>   0.990</td> \n",
       "</tr>\n",
       "<tr>\n",
       "  <th>Method:</th>             <td>Least Squares</td>  <th>  F-statistic:       </th>  <td>5.999e+05</td>\n",
       "</tr>\n",
       "<tr>\n",
       "  <th>Date:</th>             <td>Mon, 29 Aug 2016</td> <th>  Prob (F-statistic):</th>   <td>  0.00</td>  \n",
       "</tr>\n",
       "<tr>\n",
       "  <th>Time:</th>                 <td>00:31:18</td>     <th>  Log-Likelihood:    </th>  <td>  64417.</td> \n",
       "</tr>\n",
       "<tr>\n",
       "  <th>No. Observations:</th>      <td> 23972</td>      <th>  AIC:               </th> <td>-1.288e+05</td>\n",
       "</tr>\n",
       "<tr>\n",
       "  <th>Df Residuals:</th>          <td> 23967</td>      <th>  BIC:               </th> <td>-1.288e+05</td>\n",
       "</tr>\n",
       "<tr>\n",
       "  <th>Df Model:</th>              <td>     4</td>      <th>                     </th>      <td> </td>    \n",
       "</tr>\n",
       "<tr>\n",
       "  <th>Covariance Type:</th>      <td>nonrobust</td>    <th>                     </th>      <td> </td>    \n",
       "</tr>\n",
       "</table>\n",
       "<table class=\"simpletable\">\n",
       "<tr>\n",
       "     <td></td>       <th>coef</th>     <th>std err</th>      <th>t</th>      <th>P>|t|</th> <th>[95.0% Conf. Int.]</th> \n",
       "</tr>\n",
       "<tr>\n",
       "  <th>const</th>  <td>    0.1162</td> <td>    0.000</td> <td>  287.473</td> <td> 0.000</td> <td>    0.115     0.117</td>\n",
       "</tr>\n",
       "<tr>\n",
       "  <th>totexp</th> <td>-6.415e-09</td> <td>  2.2e-10</td> <td>  -29.098</td> <td> 0.000</td> <td>-6.85e-09 -5.98e-09</td>\n",
       "</tr>\n",
       "<tr>\n",
       "  <th>size</th>   <td>    0.0018</td> <td> 6.66e-05</td> <td>   26.557</td> <td> 0.000</td> <td>    0.002     0.002</td>\n",
       "</tr>\n",
       "<tr>\n",
       "  <th>w2</th>     <td>    2.4093</td> <td>    0.004</td> <td>  581.415</td> <td> 0.000</td> <td>    2.401     2.417</td>\n",
       "</tr>\n",
       "<tr>\n",
       "  <th>w3</th>     <td>   -1.7198</td> <td>    0.005</td> <td> -328.518</td> <td> 0.000</td> <td>   -1.730    -1.710</td>\n",
       "</tr>\n",
       "</table>\n",
       "<table class=\"simpletable\">\n",
       "<tr>\n",
       "  <th>Omnibus:</th>       <td>11556.953</td> <th>  Durbin-Watson:     </th>  <td>   1.946</td> \n",
       "</tr>\n",
       "<tr>\n",
       "  <th>Prob(Omnibus):</th>  <td> 0.000</td>   <th>  Jarque-Bera (JB):  </th> <td>245544.617</td>\n",
       "</tr>\n",
       "<tr>\n",
       "  <th>Skew:</th>           <td>-1.830</td>   <th>  Prob(JB):          </th>  <td>    0.00</td> \n",
       "</tr>\n",
       "<tr>\n",
       "  <th>Kurtosis:</th>       <td>18.246</td>   <th>  Cond. No.          </th>  <td>6.69e+07</td> \n",
       "</tr>\n",
       "</table>"
      ],
      "text/plain": [
       "<class 'statsmodels.iolib.summary.Summary'>\n",
       "\"\"\"\n",
       "                            OLS Regression Results                            \n",
       "==============================================================================\n",
       "Dep. Variable:                  wfood   R-squared:                       0.990\n",
       "Model:                            OLS   Adj. R-squared:                  0.990\n",
       "Method:                 Least Squares   F-statistic:                 5.999e+05\n",
       "Date:                Mon, 29 Aug 2016   Prob (F-statistic):               0.00\n",
       "Time:                        00:31:18   Log-Likelihood:                 64417.\n",
       "No. Observations:               23972   AIC:                        -1.288e+05\n",
       "Df Residuals:                   23967   BIC:                        -1.288e+05\n",
       "Df Model:                           4                                         \n",
       "Covariance Type:            nonrobust                                         \n",
       "==============================================================================\n",
       "                 coef    std err          t      P>|t|      [95.0% Conf. Int.]\n",
       "------------------------------------------------------------------------------\n",
       "const          0.1162      0.000    287.473      0.000         0.115     0.117\n",
       "totexp     -6.415e-09    2.2e-10    -29.098      0.000     -6.85e-09 -5.98e-09\n",
       "size           0.0018   6.66e-05     26.557      0.000         0.002     0.002\n",
       "w2             2.4093      0.004    581.415      0.000         2.401     2.417\n",
       "w3            -1.7198      0.005   -328.518      0.000        -1.730    -1.710\n",
       "==============================================================================\n",
       "Omnibus:                    11556.953   Durbin-Watson:                   1.946\n",
       "Prob(Omnibus):                  0.000   Jarque-Bera (JB):           245544.617\n",
       "Skew:                          -1.830   Prob(JB):                         0.00\n",
       "Kurtosis:                      18.246   Cond. No.                     6.69e+07\n",
       "==============================================================================\n",
       "\n",
       "Warnings:\n",
       "[1] Standard Errors assume that the covariance matrix of the errors is correctly specified.\n",
       "[2] The condition number is large, 6.69e+07. This might indicate that there are\n",
       "strong multicollinearity or other numerical problems.\n",
       "\"\"\""
      ]
     },
     "execution_count": 63,
     "metadata": {},
     "output_type": "execute_result"
    }
   ],
   "source": [
    "res2.summary()"
   ]
  },
  {
   "cell_type": "code",
   "execution_count": 69,
   "metadata": {
    "collapsed": false
   },
   "outputs": [
    {
     "data": {
      "text/html": [
       "<div>\n",
       "<table border=\"1\" class=\"dataframe\">\n",
       "  <thead>\n",
       "    <tr style=\"text-align: right;\">\n",
       "      <th></th>\n",
       "      <th>wfood</th>\n",
       "      <th>totexp</th>\n",
       "      <th>age</th>\n",
       "      <th>size</th>\n",
       "      <th>town</th>\n",
       "      <th>sex</th>\n",
       "      <th>w2</th>\n",
       "      <th>w3</th>\n",
       "    </tr>\n",
       "  </thead>\n",
       "  <tbody>\n",
       "    <tr>\n",
       "      <th>1</th>\n",
       "      <td>0.467699</td>\n",
       "      <td>1290941</td>\n",
       "      <td>43</td>\n",
       "      <td>5</td>\n",
       "      <td>2</td>\n",
       "      <td>man</td>\n",
       "      <td>0.218742</td>\n",
       "      <td>0.102306</td>\n",
       "    </tr>\n",
       "    <tr>\n",
       "      <th>2</th>\n",
       "      <td>0.313023</td>\n",
       "      <td>1277978</td>\n",
       "      <td>40</td>\n",
       "      <td>3</td>\n",
       "      <td>2</td>\n",
       "      <td>man</td>\n",
       "      <td>0.097983</td>\n",
       "      <td>0.030671</td>\n",
       "    </tr>\n",
       "    <tr>\n",
       "      <th>3</th>\n",
       "      <td>0.376482</td>\n",
       "      <td>845852</td>\n",
       "      <td>28</td>\n",
       "      <td>3</td>\n",
       "      <td>2</td>\n",
       "      <td>man</td>\n",
       "      <td>0.141739</td>\n",
       "      <td>0.053362</td>\n",
       "    </tr>\n",
       "    <tr>\n",
       "      <th>4</th>\n",
       "      <td>0.439691</td>\n",
       "      <td>527698</td>\n",
       "      <td>60</td>\n",
       "      <td>1</td>\n",
       "      <td>2</td>\n",
       "      <td>woman</td>\n",
       "      <td>0.193328</td>\n",
       "      <td>0.085005</td>\n",
       "    </tr>\n",
       "    <tr>\n",
       "      <th>5</th>\n",
       "      <td>0.403615</td>\n",
       "      <td>1103220</td>\n",
       "      <td>37</td>\n",
       "      <td>5</td>\n",
       "      <td>2</td>\n",
       "      <td>man</td>\n",
       "      <td>0.162905</td>\n",
       "      <td>0.065751</td>\n",
       "    </tr>\n",
       "  </tbody>\n",
       "</table>\n",
       "</div>"
      ],
      "text/plain": [
       "      wfood   totexp  age  size  town    sex        w2        w3\n",
       "1  0.467699  1290941   43     5     2    man  0.218742  0.102306\n",
       "2  0.313023  1277978   40     3     2    man  0.097983  0.030671\n",
       "3  0.376482   845852   28     3     2    man  0.141739  0.053362\n",
       "4  0.439691   527698   60     1     2  woman  0.193328  0.085005\n",
       "5  0.403615  1103220   37     5     2    man  0.162905  0.065751"
      ]
     },
     "execution_count": 69,
     "metadata": {},
     "output_type": "execute_result"
    }
   ],
   "source": [
    "df.head()\n",
    "df['sex'] = df.sex.apply(lambda x: 1 if x == 'man')"
   ]
  }
 ],
 "metadata": {
  "kernelspec": {
   "display_name": "Python 3",
   "language": "python",
   "name": "python3"
  },
  "language_info": {
   "codemirror_mode": {
    "name": "ipython",
    "version": 3
   },
   "file_extension": ".py",
   "mimetype": "text/x-python",
   "name": "python",
   "nbconvert_exporter": "python",
   "pygments_lexer": "ipython3",
   "version": "3.5.1"
  }
 },
 "nbformat": 4,
 "nbformat_minor": 0
}
