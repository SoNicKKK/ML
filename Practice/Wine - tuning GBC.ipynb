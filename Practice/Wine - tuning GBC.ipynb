{
 "cells": [
  {
   "cell_type": "markdown",
   "metadata": {},
   "source": [
    "# Tuning Gradient Boosting Classifier\n",
    "\n",
    "In this problem we'll examine the wine quality dataset hosted on the UCI website. This data records 11 chemical properties (such as the concentrations of sugar, citric acid, alcohol, pH etc.) of thousands of red and white wines from northern Portugal, as well as the quality of the wines, recorded on a scale from 1 to 10. In this problem, we will only look at the data for red wine.\n",
    "\n",
    "We will use gradient boosting classifier to predict wine quality."
   ]
  },
  {
   "cell_type": "code",
   "execution_count": 212,
   "metadata": {
    "collapsed": true
   },
   "outputs": [],
   "source": [
    "import numpy as np\n",
    "import pandas as pd\n",
    "import matplotlib.pyplot as plt\n",
    "import seaborn as sns\n",
    "from sklearn.ensemble import RandomForestClassifier\n",
    "from sklearn.ensemble import GradientBoostingClassifier\n",
    "from sklearn import metrics, preprocessing\n",
    "from sklearn import cross_validation\n",
    "from IPython.display import Image\n",
    "from IPython.core.display import HTML \n",
    "%matplotlib inline"
   ]
  },
  {
   "cell_type": "code",
   "execution_count": 213,
   "metadata": {
    "collapsed": false
   },
   "outputs": [
    {
     "data": {
      "text/html": [
       "<div>\n",
       "<table border=\"1\" class=\"dataframe\">\n",
       "  <thead>\n",
       "    <tr style=\"text-align: right;\">\n",
       "      <th></th>\n",
       "      <th>fixed acidity</th>\n",
       "      <th>volatile acidity</th>\n",
       "      <th>citric acid</th>\n",
       "      <th>residual sugar</th>\n",
       "      <th>chlorides</th>\n",
       "      <th>free sulfur dioxide</th>\n",
       "      <th>total sulfur dioxide</th>\n",
       "      <th>density</th>\n",
       "      <th>pH</th>\n",
       "      <th>sulphates</th>\n",
       "      <th>alcohol</th>\n",
       "      <th>quality</th>\n",
       "    </tr>\n",
       "  </thead>\n",
       "  <tbody>\n",
       "    <tr>\n",
       "      <th>0</th>\n",
       "      <td>7.4</td>\n",
       "      <td>0.70</td>\n",
       "      <td>0.00</td>\n",
       "      <td>1.9</td>\n",
       "      <td>0.076</td>\n",
       "      <td>11</td>\n",
       "      <td>34</td>\n",
       "      <td>0.9978</td>\n",
       "      <td>3.51</td>\n",
       "      <td>0.56</td>\n",
       "      <td>9.4</td>\n",
       "      <td>5</td>\n",
       "    </tr>\n",
       "    <tr>\n",
       "      <th>1</th>\n",
       "      <td>7.8</td>\n",
       "      <td>0.88</td>\n",
       "      <td>0.00</td>\n",
       "      <td>2.6</td>\n",
       "      <td>0.098</td>\n",
       "      <td>25</td>\n",
       "      <td>67</td>\n",
       "      <td>0.9968</td>\n",
       "      <td>3.20</td>\n",
       "      <td>0.68</td>\n",
       "      <td>9.8</td>\n",
       "      <td>5</td>\n",
       "    </tr>\n",
       "    <tr>\n",
       "      <th>2</th>\n",
       "      <td>7.8</td>\n",
       "      <td>0.76</td>\n",
       "      <td>0.04</td>\n",
       "      <td>2.3</td>\n",
       "      <td>0.092</td>\n",
       "      <td>15</td>\n",
       "      <td>54</td>\n",
       "      <td>0.9970</td>\n",
       "      <td>3.26</td>\n",
       "      <td>0.65</td>\n",
       "      <td>9.8</td>\n",
       "      <td>5</td>\n",
       "    </tr>\n",
       "    <tr>\n",
       "      <th>3</th>\n",
       "      <td>11.2</td>\n",
       "      <td>0.28</td>\n",
       "      <td>0.56</td>\n",
       "      <td>1.9</td>\n",
       "      <td>0.075</td>\n",
       "      <td>17</td>\n",
       "      <td>60</td>\n",
       "      <td>0.9980</td>\n",
       "      <td>3.16</td>\n",
       "      <td>0.58</td>\n",
       "      <td>9.8</td>\n",
       "      <td>6</td>\n",
       "    </tr>\n",
       "    <tr>\n",
       "      <th>4</th>\n",
       "      <td>7.4</td>\n",
       "      <td>0.70</td>\n",
       "      <td>0.00</td>\n",
       "      <td>1.9</td>\n",
       "      <td>0.076</td>\n",
       "      <td>11</td>\n",
       "      <td>34</td>\n",
       "      <td>0.9978</td>\n",
       "      <td>3.51</td>\n",
       "      <td>0.56</td>\n",
       "      <td>9.4</td>\n",
       "      <td>5</td>\n",
       "    </tr>\n",
       "  </tbody>\n",
       "</table>\n",
       "</div>"
      ],
      "text/plain": [
       "   fixed acidity  volatile acidity  citric acid  residual sugar  chlorides  \\\n",
       "0            7.4              0.70         0.00             1.9      0.076   \n",
       "1            7.8              0.88         0.00             2.6      0.098   \n",
       "2            7.8              0.76         0.04             2.3      0.092   \n",
       "3           11.2              0.28         0.56             1.9      0.075   \n",
       "4            7.4              0.70         0.00             1.9      0.076   \n",
       "\n",
       "   free sulfur dioxide  total sulfur dioxide  density    pH  sulphates  \\\n",
       "0                   11                    34   0.9978  3.51       0.56   \n",
       "1                   25                    67   0.9968  3.20       0.68   \n",
       "2                   15                    54   0.9970  3.26       0.65   \n",
       "3                   17                    60   0.9980  3.16       0.58   \n",
       "4                   11                    34   0.9978  3.51       0.56   \n",
       "\n",
       "   alcohol  quality  \n",
       "0      9.4        5  \n",
       "1      9.8        5  \n",
       "2      9.8        5  \n",
       "3      9.8        6  \n",
       "4      9.4        5  "
      ]
     },
     "execution_count": 213,
     "metadata": {},
     "output_type": "execute_result"
    }
   ],
   "source": [
    "df = pd.read_csv('wine.csv', sep=';')\n",
    "df.head()"
   ]
  },
  {
   "cell_type": "code",
   "execution_count": 214,
   "metadata": {
    "collapsed": false
   },
   "outputs": [
    {
     "data": {
      "text/plain": [
       "<matplotlib.axes._subplots.AxesSubplot at 0x29472710dd8>"
      ]
     },
     "execution_count": 214,
     "metadata": {},
     "output_type": "execute_result"
    },
    {
     "data": {
      "image/png": "[encoded data removed]",
      "text/plain": [
       "<matplotlib.figure.Figure at 0x29473781f28>"
      ]
     },
     "metadata": {},
     "output_type": "display_data"
    }
   ],
   "source": [
    "sns.set(style='white', context='notebook')\n",
    "plt.figure(figsize=(8, 4))\n",
    "sns.countplot(x='quality',data=df)"
   ]
  },
  {
   "cell_type": "markdown",
   "metadata": {},
   "source": [
    "Transform multi-class problem to binary class problem. Let wine is 'good' if its quality is greater than 6."
   ]
  },
  {
   "cell_type": "code",
   "execution_count": 215,
   "metadata": {
    "collapsed": false
   },
   "outputs": [
    {
     "data": {
      "text/plain": [
       "0    1382\n",
       "1     217\n",
       "Name: quality, dtype: int64"
      ]
     },
     "execution_count": 215,
     "metadata": {},
     "output_type": "execute_result"
    }
   ],
   "source": [
    "df['quality'] = df.quality.apply(lambda x: 1 if x >= 7 else 0)\n",
    "df.quality.value_counts()"
   ]
  },
  {
   "cell_type": "code",
   "execution_count": 216,
   "metadata": {
    "collapsed": false
   },
   "outputs": [
    {
     "data": {
      "text/plain": [
       "((1599, 11), (1599,))"
      ]
     },
     "execution_count": 216,
     "metadata": {},
     "output_type": "execute_result"
    }
   ],
   "source": [
    "X = df[[col for col in df.columns if 'quality' != col]]\n",
    "y = df.quality\n",
    "\n",
    "X.shape, y.shape"
   ]
  },
  {
   "cell_type": "markdown",
   "metadata": {},
   "source": [
    "Because this problem is imbalanced, we'll use custom scorer for class selection. Let's classify item to class 1, if its probability is more than some `cutoff` value (we use `cutoff` = 0.3).\n",
    "\n",
    "Also we will use f1-score as metrics. Using 'accuracy' as metrics seems not to be so good idea because of class imbalance."
   ]
  },
  {
   "cell_type": "code",
   "execution_count": 217,
   "metadata": {
    "collapsed": true
   },
   "outputs": [],
   "source": [
    "def custom_scorer(cutoff):\n",
    "    def score(clf, X, y):        \n",
    "        y_pred_proba = clf.predict_proba(X)[:,1]\n",
    "        y_pred = [1 if y > cutoff else 0 for y in y_pred_proba]\n",
    "        return metrics.f1_score(y, y_pred)\n",
    "    return score"
   ]
  },
  {
   "cell_type": "code",
   "execution_count": 218,
   "metadata": {
    "collapsed": true
   },
   "outputs": [],
   "source": [
    "def modelfit(clf, X, y, performCV=True, printFeatureImportance=True, cv_folds=5, cutoff=0.3):\n",
    "    clf.fit(X, y)\n",
    "    y_pred = clf.predict(X)\n",
    "    y_pred_prob = clf.predict_proba(X)[:,1]\n",
    "    \n",
    "    if performCV:\n",
    "        cv_score = cross_validation.cross_val_score(clf, X, y, cv=cv_folds, scoring=custom_scorer(cutoff))        \n",
    "        print('CV Score : Mean - %.7g | Std - %.7g | Min - %.7g | Max - %.7g | cutoff = %.2f'\n",
    "            % (np.mean(cv_score),np.std(cv_score),np.min(cv_score),np.max(cv_score), cutoff))"
   ]
  },
  {
   "cell_type": "markdown",
   "metadata": {},
   "source": [
    "Use Random Forest Classifier without any tuning as simple benchmark."
   ]
  },
  {
   "cell_type": "code",
   "execution_count": 219,
   "metadata": {
    "collapsed": false
   },
   "outputs": [],
   "source": [
    "X_scaled = preprocessing.scale(X)"
   ]
  },
  {
   "cell_type": "code",
   "execution_count": 220,
   "metadata": {
    "collapsed": false
   },
   "outputs": [
    {
     "name": "stdout",
     "output_type": "stream",
     "text": [
      "CV Score : Mean - 0.4604901 | Std - 0.08252234 | Min - 0.3448276 | Max - 0.5882353 | cutoff = 0.30\n",
      "CV Score : Mean - 0.4672629 | Std - 0.07474165 | Min - 0.3728814 | Max - 0.5882353 | cutoff = 0.30\n"
     ]
    }
   ],
   "source": [
    "modelfit(RandomForestClassifier(random_state=42), X, y)\n",
    "modelfit(RandomForestClassifier(random_state=42), X_scaled, y)"
   ]
  },
  {
   "cell_type": "code",
   "execution_count": 221,
   "metadata": {
    "collapsed": false
   },
   "outputs": [
    {
     "name": "stdout",
     "output_type": "stream",
     "text": [
      "CV Score : Mean - 0.4585658 | Std - 0.07945892 | Min - 0.3214286 | Max - 0.5555556 | cutoff = 0.30\n"
     ]
    }
   ],
   "source": [
    "clf = GradientBoostingClassifier(learning_rate=0.1, n_estimators=50, subsample=0.8, max_depth=3, max_features='sqrt',\n",
    "                                random_state=42)\n",
    "modelfit(clf, X_scaled, y)"
   ]
  },
  {
   "cell_type": "markdown",
   "metadata": {},
   "source": [
    "## Tuning parameters\n",
    "\n",
    "In order to decide on boosting parameters, we need to set some initial values of other parameters. Lets take the following values:\n",
    "\n",
    "* **min_samples_split** = 500 : This should be ~0.5-1% of total values. Since this is imbalanced class problem, we’ll take a small value from the range.\n",
    "* **min_samples_leaf** = 50 : Can be selected based on intuition. This is just used for preventing overfitting and again a small value because of imbalanced classes.\n",
    "* **max_depth = 8** : Should be chosen (5-8) based on the number of observations and predictors. This has 87K rows and 49 columns so lets take 8 here.\n",
    "* **max_features = ‘sqrt’** : Its a general thumb-rule to start with square root.\n",
    "* **subsample = 0.8** : This is a commonly used used start value\n",
    "\n",
    "![Picture](https://www.analyticsvidhya.com/wp-content/uploads/2016/02/tree-infographic.png)\n",
    "\n",
    "Source: [link](https://www.analyticsvidhya.com/blog/2016/03/complete-guide-parameter-tuning-xgboost-with-codes-python/)"
   ]
  },
  {
   "cell_type": "code",
   "execution_count": 222,
   "metadata": {
    "collapsed": false
   },
   "outputs": [],
   "source": [
    "min_samples_split = round(0.005 * X.shape[0])\n",
    "min_samples_leaf = 10\n",
    "max_depth = 5\n",
    "max_features = 'sqrt'\n",
    "subsample = 0.8"
   ]
  },
  {
   "cell_type": "code",
   "execution_count": 223,
   "metadata": {
    "collapsed": false
   },
   "outputs": [
    {
     "name": "stdout",
     "output_type": "stream",
     "text": [
      "[mean: 0.44982, std: 0.07477, params: {'n_estimators': 10}, mean: 0.48489, std: 0.09886, params: {'n_estimators': 20}, mean: 0.49623, std: 0.07387, params: {'n_estimators': 30}, mean: 0.52116, std: 0.08825, params: {'n_estimators': 40}, mean: 0.51902, std: 0.08519, params: {'n_estimators': 50}, mean: 0.50230, std: 0.08632, params: {'n_estimators': 60}, mean: 0.50350, std: 0.09534, params: {'n_estimators': 70}, mean: 0.49826, std: 0.08907, params: {'n_estimators': 80}, mean: 0.50608, std: 0.09195, params: {'n_estimators': 90}, mean: 0.51006, std: 0.08728, params: {'n_estimators': 100}]\n"
     ]
    }
   ],
   "source": [
    "from sklearn.grid_search import GridSearchCV\n",
    "parameters = {'n_estimators':np.arange(10, 110, 10)}\n",
    "clf = GridSearchCV(GradientBoostingClassifier(learning_rate=0.1, min_samples_split=min_samples_split, max_depth=max_depth,\n",
    "                                             min_samples_leaf=min_samples_leaf, max_features=max_features, subsample=subsample,\n",
    "                                             random_state=42),\n",
    "                   parameters, cv=5, scoring=custom_scorer(0.3))\n",
    "clf.fit(X_scaled, y)\n",
    "print(clf.grid_scores_)"
   ]
  },
  {
   "cell_type": "code",
   "execution_count": 224,
   "metadata": {
    "collapsed": false
   },
   "outputs": [
    {
     "data": {
      "text/plain": [
       "({'n_estimators': 40}, 0.52116206403932253)"
      ]
     },
     "execution_count": 224,
     "metadata": {},
     "output_type": "execute_result"
    }
   ],
   "source": [
    "bp, bs = clf.best_params_, clf.best_score_\n",
    "bp, bs"
   ]
  },
  {
   "cell_type": "code",
   "execution_count": 225,
   "metadata": {
    "collapsed": false
   },
   "outputs": [
    {
     "data": {
      "text/plain": [
       "({'max_depth': 5, 'min_samples_split': 5}, 0.52116206403932253)"
      ]
     },
     "execution_count": 225,
     "metadata": {},
     "output_type": "execute_result"
    }
   ],
   "source": [
    "param_test2 = {'max_depth':np.arange(3, 16, 2), 'min_samples_split':np.arange(5, 100, 10)}\n",
    "clf = GridSearchCV(GradientBoostingClassifier(learning_rate=0.1, n_estimators=40,\n",
    "                                             min_samples_leaf=min_samples_leaf, max_features=max_features, subsample=subsample,\n",
    "                                             random_state=42),\n",
    "                   param_test2, cv=5, scoring=custom_scorer(0.3))\n",
    "clf.fit(X_scaled, y)\n",
    "bp, bs = clf.best_params_, clf.best_score_\n",
    "bp, bs"
   ]
  },
  {
   "cell_type": "code",
   "execution_count": 226,
   "metadata": {
    "collapsed": false
   },
   "outputs": [
    {
     "data": {
      "text/plain": [
       "({'max_features': 3}, 0.52116206403932253)"
      ]
     },
     "execution_count": 226,
     "metadata": {},
     "output_type": "execute_result"
    }
   ],
   "source": [
    "param_test4 = {'max_features':np.arange(2,12)}\n",
    "clf = GridSearchCV(GradientBoostingClassifier(learning_rate=0.1, n_estimators=40, max_depth=5, min_samples_split=5,\n",
    "                                             min_samples_leaf=min_samples_leaf, subsample=subsample,\n",
    "                                             random_state=42),\n",
    "                   param_test4, cv=5, scoring=custom_scorer(0.3))\n",
    "clf.fit(X_scaled, y)\n",
    "bp, bs = clf.best_params_, clf.best_score_\n",
    "bp, bs"
   ]
  },
  {
   "cell_type": "code",
   "execution_count": 227,
   "metadata": {
    "collapsed": false
   },
   "outputs": [
    {
     "name": "stdout",
     "output_type": "stream",
     "text": [
      "CV Score : Mean - 0.521323 | Std - 0.08825065 | Min - 0.3859649 | Max - 0.6588235 | cutoff = 0.30\n"
     ]
    }
   ],
   "source": [
    "modelfit(GradientBoostingClassifier(learning_rate=0.1, n_estimators=40, max_depth=5, min_samples_split=5,\n",
    "                                   min_samples_leaf=min_samples_leaf, max_features=3, subsample=subsample,\n",
    "                                   random_state=42), X_scaled, y)"
   ]
  },
  {
   "cell_type": "code",
   "execution_count": 228,
   "metadata": {
    "collapsed": false
   },
   "outputs": [
    {
     "data": {
      "text/plain": [
       "({'subsample': 0.8}, 0.52116206403932253)"
      ]
     },
     "execution_count": 228,
     "metadata": {},
     "output_type": "execute_result"
    }
   ],
   "source": [
    "param_test5 = {'subsample':[0.6,0.7,0.75,0.8,0.85,0.9]}\n",
    "clf = GridSearchCV(GradientBoostingClassifier(learning_rate=0.1, n_estimators=40, max_depth=5, min_samples_split=5,\n",
    "                                             min_samples_leaf=min_samples_leaf, max_features=3,\n",
    "                                             random_state=42),\n",
    "                   param_test5, cv=5, scoring=custom_scorer(0.3))\n",
    "clf.fit(X_scaled, y)\n",
    "bp, bs = clf.best_params_, clf.best_score_\n",
    "bp, bs"
   ]
  },
  {
   "cell_type": "code",
   "execution_count": 229,
   "metadata": {
    "collapsed": false
   },
   "outputs": [
    {
     "data": {
      "text/plain": [
       "({'min_samples_leaf': 10}, 0.52116206403932253)"
      ]
     },
     "execution_count": 229,
     "metadata": {},
     "output_type": "execute_result"
    }
   ],
   "source": [
    "param_test6 = {'min_samples_leaf':np.arange(10, 101, 10)}\n",
    "clf = GridSearchCV(GradientBoostingClassifier(learning_rate=0.1, n_estimators=40, max_depth=5, min_samples_split=5,\n",
    "                                             max_features=3, subsample=0.8, random_state=42),\n",
    "                   param_test6, cv=5, scoring=custom_scorer(0.3))\n",
    "clf.fit(X_scaled, y)\n",
    "bp, bs = clf.best_params_, clf.best_score_\n",
    "bp, bs"
   ]
  },
  {
   "cell_type": "code",
   "execution_count": 230,
   "metadata": {
    "collapsed": false
   },
   "outputs": [
    {
     "name": "stdout",
     "output_type": "stream",
     "text": [
      "CV Score : Mean - 0.5030049 | Std - 0.06990824 | Min - 0.3793103 | Max - 0.5952381 | cutoff = 0.30\n"
     ]
    }
   ],
   "source": [
    "lr = 0.1 / 2\n",
    "ne = 40 * 2\n",
    "modelfit(GradientBoostingClassifier(learning_rate=lr, n_estimators=ne, max_depth=5, min_samples_split=5,\n",
    "                                   min_samples_leaf=10, max_features=3, subsample=0.8,\n",
    "                                   random_state=42), X_scaled, y)"
   ]
  },
  {
   "cell_type": "code",
   "execution_count": 231,
   "metadata": {
    "collapsed": false
   },
   "outputs": [
    {
     "name": "stdout",
     "output_type": "stream",
     "text": [
      "CV Score : Mean - 0.4955755 | Std - 0.0819878 | Min - 0.3508772 | Max - 0.6046512 | cutoff = 0.30\n"
     ]
    }
   ],
   "source": [
    "lr = 0.1 / 10\n",
    "ne = 40 * 10\n",
    "modelfit(GradientBoostingClassifier(learning_rate=lr, n_estimators=ne, max_depth=5, min_samples_split=5,\n",
    "                                   min_samples_leaf=10, max_features=3, subsample=0.8,\n",
    "                                   random_state=42), X_scaled, y)"
   ]
  },
  {
   "cell_type": "code",
   "execution_count": 232,
   "metadata": {
    "collapsed": false
   },
   "outputs": [
    {
     "name": "stdout",
     "output_type": "stream",
     "text": [
      "CV Score : Mean - 0.4885044 | Std - 0.08985706 | Min - 0.3508772 | Max - 0.627907 | cutoff = 0.30\n"
     ]
    }
   ],
   "source": [
    "lr = 0.1 / 15\n",
    "ne = 40 * 15\n",
    "modelfit(GradientBoostingClassifier(learning_rate=lr, n_estimators=ne, max_depth=5, min_samples_split=5,\n",
    "                                   min_samples_leaf=10, max_features=3, subsample=0.8,\n",
    "                                   random_state=42), X_scaled, y)"
   ]
  },
  {
   "cell_type": "code",
   "execution_count": 239,
   "metadata": {
    "collapsed": false
   },
   "outputs": [
    {
     "name": "stdout",
     "output_type": "stream",
     "text": [
      "CV Score : Mean - 0.4836459 | Std - 0.04577267 | Min - 0.4228571 | Max - 0.5517241 | cutoff = 0.10\n",
      "CV Score : Mean - 0.4956259 | Std - 0.04254329 | Min - 0.4516129 | Max - 0.5688073 | cutoff = 0.15\n",
      "CV Score : Mean - 0.5191068 | Std - 0.04742442 | Min - 0.46875 | Max - 0.6041667 | cutoff = 0.20\n",
      "CV Score : Mean - 0.5267007 | Std - 0.07103371 | Min - 0.4333333 | Max - 0.6516854 | cutoff = 0.25\n",
      "CV Score : Mean - 0.521323 | Std - 0.08825065 | Min - 0.3859649 | Max - 0.6588235 | cutoff = 0.30\n",
      "CV Score : Mean - 0.4881117 | Std - 0.08438883 | Min - 0.3571429 | Max - 0.6075949 | cutoff = 0.35\n",
      "CV Score : Mean - 0.4597362 | Std - 0.08475609 | Min - 0.3571429 | Max - 0.5915493 | cutoff = 0.40\n",
      "CV Score : Mean - 0.4304454 | Std - 0.09012337 | Min - 0.2962963 | Max - 0.5416667 | cutoff = 0.45\n",
      "CV Score : Mean - 0.395945 | Std - 0.07925395 | Min - 0.2962963 | Max - 0.5274725 | cutoff = 0.50\n"
     ]
    }
   ],
   "source": [
    "best_clf = GradientBoostingClassifier(learning_rate=0.1, n_estimators=40, max_depth=5, min_samples_split=5,\n",
    "                                   min_samples_leaf=10, max_features=3, subsample=0.8, random_state=42)\n",
    "for cutoff in np.arange(0.1, 0.51, 0.05):\n",
    "    modelfit(best_clf, X_scaled, y, cutoff=cutoff)"
   ]
  },
  {
   "cell_type": "code",
   "execution_count": 240,
   "metadata": {
    "collapsed": false
   },
   "outputs": [
    {
     "name": "stdout",
     "output_type": "stream",
     "text": [
      "CV Score : Mean - 0.5267007 | Std - 0.07103371 | Min - 0.4333333 | Max - 0.6516854 | cutoff = 0.25\n"
     ]
    }
   ],
   "source": [
    "# Best result\n",
    "best_clf = GradientBoostingClassifier(learning_rate=0.1, n_estimators=40, max_depth=5, min_samples_split=5,\n",
    "                                   min_samples_leaf=10, max_features=3, subsample=0.8, random_state=42)\n",
    "modelfit(best_clf, X_scaled, y, cutoff=0.25)"
   ]
  },
  {
   "cell_type": "code",
   "execution_count": 247,
   "metadata": {
    "collapsed": false
   },
   "outputs": [
    {
     "data": {
      "text/plain": [
       "0.92895323014131659"
      ]
     },
     "execution_count": 247,
     "metadata": {},
     "output_type": "execute_result"
    }
   ],
   "source": [
    "y_pred = [1 if y > 0.25 else 0 for y in best_clf.predict_proba(X_scaled)[:,1]]\n",
    "metrics.accuracy_score(y, y_pred)"
   ]
  },
  {
   "cell_type": "code",
   "execution_count": 235,
   "metadata": {
    "collapsed": false
   },
   "outputs": [
    {
     "data": {
      "text/plain": [
       "GradientBoostingClassifier(init=None, learning_rate=0.1, loss='deviance',\n",
       "              max_depth=5, max_features=3, max_leaf_nodes=None,\n",
       "              min_samples_leaf=10, min_samples_split=5,\n",
       "              min_weight_fraction_leaf=0.0, n_estimators=40,\n",
       "              presort='auto', random_state=42, subsample=0.8, verbose=0,\n",
       "              warm_start=False)"
      ]
     },
     "execution_count": 235,
     "metadata": {},
     "output_type": "execute_result"
    }
   ],
   "source": [
    "clf = GradientBoostingClassifier(learning_rate=0.1, n_estimators=40, max_depth=5, min_samples_split=5,\n",
    "                                   min_samples_leaf=10, max_features=3, subsample=0.8,\n",
    "                                   random_state=42)\n",
    "clf.fit(X_scaled, y)"
   ]
  },
  {
   "cell_type": "markdown",
   "metadata": {},
   "source": [
    "Select two features with highest importance just to visualize decision surface. CV score for the model with only two features selected is quite low."
   ]
  },
  {
   "cell_type": "code",
   "execution_count": 236,
   "metadata": {
    "collapsed": false
   },
   "outputs": [
    {
     "data": {
      "text/plain": [
       "<matplotlib.axes._subplots.AxesSubplot at 0x2947382b860>"
      ]
     },
     "execution_count": 236,
     "metadata": {},
     "output_type": "execute_result"
    },
    {
     "data": {
      "image/png": "[encoded data removed]",
      "text/plain": [
       "<matplotlib.figure.Figure at 0x2947382bd68>"
      ]
     },
     "metadata": {},
     "output_type": "display_data"
    }
   ],
   "source": [
    "clf.feature_importances_\n",
    "feat_imp = pd.DataFrame()\n",
    "feat_imp['feature'] = X.columns\n",
    "feat_imp['imp'] = clf.feature_importances_\n",
    "sns.barplot(x='imp', y='feature', data=feat_imp.sort_values('imp'), orient='h', palette='Blues')"
   ]
  },
  {
   "cell_type": "code",
   "execution_count": 237,
   "metadata": {
    "collapsed": false
   },
   "outputs": [
    {
     "name": "stdout",
     "output_type": "stream",
     "text": [
      "CV Score : Mean - 0.4528759 | Std - 0.04770204 | Min - 0.4 | Max - 0.5411765 | cutoff = 0.25\n"
     ]
    },
    {
     "data": {
      "image/png": "[encoded data removed]",
      "text/plain": [
       "<matplotlib.figure.Figure at 0x2947376b2b0>"
      ]
     },
     "metadata": {},
     "output_type": "display_data"
    }
   ],
   "source": [
    "def plot_decision_surface(clf, X_train, Y_train):\n",
    "    plot_step=0.1\n",
    "    \n",
    "    if X_train.shape[1] != 2:\n",
    "        raise ValueError(\"X_train should have exactly 2 columnns!\")\n",
    "    \n",
    "    x_min, x_max = X_train[:, 0].min() - plot_step, X_train[:, 0].max() + plot_step\n",
    "    y_min, y_max = X_train[:, 1].min() - plot_step, X_train[:, 1].max() + plot_step\n",
    "    xx, yy = np.meshgrid(np.arange(x_min, x_max, plot_step),\n",
    "                         np.arange(y_min, y_max, plot_step))\n",
    "\n",
    "    clf.fit(X_train,Y_train)\n",
    "    if hasattr(clf, 'predict_proba'):\n",
    "        Z = clf.predict_proba(np.c_[xx.ravel(), yy.ravel()])[:,1]\n",
    "    else:\n",
    "        Z = clf.predict(np.c_[xx.ravel(), yy.ravel()])    \n",
    "    Z = Z.reshape(xx.shape)\n",
    "    cs = plt.contourf(xx, yy, Z, cmap=plt.cm.Reds, alpha=0.7)\n",
    "    plt.scatter(X_train[:,0],X_train[:,1],c=Y_train,cmap=plt.cm.Paired)\n",
    "    #plt.show()\n",
    "    \n",
    "X_imp = preprocessing.scale(X[['alcohol', 'sulphates']])\n",
    "\n",
    "clf = GradientBoostingClassifier(learning_rate=0.1, n_estimators=40, max_depth=5, min_samples_split=5,\n",
    "                                   min_samples_leaf=10, max_features=2, subsample=0.8,\n",
    "                                   random_state=42)\n",
    "plt.title('GradientBoostingClassifier')\n",
    "plot_decision_surface(clf, X_imp, y)\n",
    "modelfit(clf, X_imp, y, cutoff=0.25)"
   ]
  }
 ],
 "metadata": {
  "kernelspec": {
   "display_name": "Python 3",
   "language": "python",
   "name": "python3"
  },
  "language_info": {
   "codemirror_mode": {
    "name": "ipython",
    "version": 3
   },
   "file_extension": ".py",
   "mimetype": "text/x-python",
   "name": "python",
   "nbconvert_exporter": "python",
   "pygments_lexer": "ipython3",
   "version": "3.5.1"
  }
 },
 "nbformat": 4,
 "nbformat_minor": 0
}
