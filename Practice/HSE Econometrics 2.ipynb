{
 "cells": [
  {
   "cell_type": "code",
   "execution_count": 2,
   "metadata": {
    "collapsed": true
   },
   "outputs": [],
   "source": [
    "import numpy as np\n",
    "from scipy import stats"
   ]
  },
  {
   "cell_type": "code",
   "execution_count": 12,
   "metadata": {
    "collapsed": false
   },
   "outputs": [],
   "source": [
    "a, b = np.round(stats.norm.interval(0.9, loc=2, scale=0.3), 2)"
   ]
  },
  {
   "cell_type": "code",
   "execution_count": 24,
   "metadata": {
    "collapsed": false
   },
   "outputs": [
    {
     "data": {
      "text/plain": [
       "<matplotlib.collections.PathCollection at 0x1edf1d56710>"
      ]
     },
     "execution_count": 24,
     "metadata": {},
     "output_type": "execute_result"
    },
    {
     "data": {
      "image/png": "[encoded data removed]",
      "text/plain": [
       "<matplotlib.figure.Figure at 0x1edf0d3fef0>"
      ]
     },
     "metadata": {},
     "output_type": "display_data"
    }
   ],
   "source": [
    "chi = stats.chi2(df=10)\n",
    "x = np.linspace(0, 20, 100)\n",
    "import matplotlib.pyplot as plt\n",
    "%matplotlib inline\n",
    "plt.scatter(x, stats.chi2.pdf(x, df=10))"
   ]
  },
  {
   "cell_type": "code",
   "execution_count": 31,
   "metadata": {
    "collapsed": false
   },
   "outputs": [
    {
     "data": {
      "text/plain": [
       "0.46999999999999997"
      ]
     },
     "execution_count": 31,
     "metadata": {},
     "output_type": "execute_result"
    }
   ],
   "source": [
    "round(stats.chi2.cdf(9, df=10), 2)"
   ]
  },
  {
   "cell_type": "code",
   "execution_count": 106,
   "metadata": {
    "collapsed": false
   },
   "outputs": [
    {
     "data": {
      "text/html": [
       "<div>\n",
       "<table border=\"1\" class=\"dataframe\">\n",
       "  <thead>\n",
       "    <tr style=\"text-align: right;\">\n",
       "      <th></th>\n",
       "      <th>carat</th>\n",
       "      <th>cut</th>\n",
       "      <th>color</th>\n",
       "      <th>clarity</th>\n",
       "      <th>depth</th>\n",
       "      <th>table</th>\n",
       "      <th>price</th>\n",
       "      <th>x</th>\n",
       "      <th>y</th>\n",
       "      <th>z</th>\n",
       "    </tr>\n",
       "  </thead>\n",
       "  <tbody>\n",
       "    <tr>\n",
       "      <th>1</th>\n",
       "      <td>0.23</td>\n",
       "      <td>Ideal</td>\n",
       "      <td>E</td>\n",
       "      <td>SI2</td>\n",
       "      <td>61.5</td>\n",
       "      <td>55</td>\n",
       "      <td>326</td>\n",
       "      <td>3.95</td>\n",
       "      <td>3.98</td>\n",
       "      <td>2.43</td>\n",
       "    </tr>\n",
       "    <tr>\n",
       "      <th>2</th>\n",
       "      <td>0.21</td>\n",
       "      <td>Premium</td>\n",
       "      <td>E</td>\n",
       "      <td>SI1</td>\n",
       "      <td>59.8</td>\n",
       "      <td>61</td>\n",
       "      <td>326</td>\n",
       "      <td>3.89</td>\n",
       "      <td>3.84</td>\n",
       "      <td>2.31</td>\n",
       "    </tr>\n",
       "    <tr>\n",
       "      <th>3</th>\n",
       "      <td>0.23</td>\n",
       "      <td>Good</td>\n",
       "      <td>E</td>\n",
       "      <td>VS1</td>\n",
       "      <td>56.9</td>\n",
       "      <td>65</td>\n",
       "      <td>327</td>\n",
       "      <td>4.05</td>\n",
       "      <td>4.07</td>\n",
       "      <td>2.31</td>\n",
       "    </tr>\n",
       "    <tr>\n",
       "      <th>4</th>\n",
       "      <td>0.29</td>\n",
       "      <td>Premium</td>\n",
       "      <td>I</td>\n",
       "      <td>VS2</td>\n",
       "      <td>62.4</td>\n",
       "      <td>58</td>\n",
       "      <td>334</td>\n",
       "      <td>4.20</td>\n",
       "      <td>4.23</td>\n",
       "      <td>2.63</td>\n",
       "    </tr>\n",
       "    <tr>\n",
       "      <th>5</th>\n",
       "      <td>0.31</td>\n",
       "      <td>Good</td>\n",
       "      <td>J</td>\n",
       "      <td>SI2</td>\n",
       "      <td>63.3</td>\n",
       "      <td>58</td>\n",
       "      <td>335</td>\n",
       "      <td>4.34</td>\n",
       "      <td>4.35</td>\n",
       "      <td>2.75</td>\n",
       "    </tr>\n",
       "  </tbody>\n",
       "</table>\n",
       "</div>"
      ],
      "text/plain": [
       "   carat      cut color clarity  depth  table  price     x     y     z\n",
       "1   0.23    Ideal     E     SI2   61.5     55    326  3.95  3.98  2.43\n",
       "2   0.21  Premium     E     SI1   59.8     61    326  3.89  3.84  2.31\n",
       "3   0.23     Good     E     VS1   56.9     65    327  4.05  4.07  2.31\n",
       "4   0.29  Premium     I     VS2   62.4     58    334  4.20  4.23  2.63\n",
       "5   0.31     Good     J     SI2   63.3     58    335  4.34  4.35  2.75"
      ]
     },
     "execution_count": 106,
     "metadata": {},
     "output_type": "execute_result"
    }
   ],
   "source": [
    "import pandas as pd\n",
    "df = pd.read_csv('diamonds.csv', index_col = 0)\n",
    "df.head()"
   ]
  },
  {
   "cell_type": "code",
   "execution_count": 107,
   "metadata": {
    "collapsed": false
   },
   "outputs": [
    {
     "name": "stdout",
     "output_type": "stream",
     "text": [
      "Mean price =  3933\n",
      "Number of premiums =  13791\n"
     ]
    },
    {
     "data": {
      "text/plain": [
       "Ideal        21551\n",
       "Premium      13791\n",
       "Very Good    12082\n",
       "Good          4906\n",
       "Fair          1610\n",
       "Name: cut, dtype: int64"
      ]
     },
     "execution_count": 107,
     "metadata": {},
     "output_type": "execute_result"
    }
   ],
   "source": [
    "print('Mean price = ', round(df.price.mean()))\n",
    "print('Number of premiums = ', len(df[df.cut == 'Premium'].index))\n",
    "df['cut'].value_counts()"
   ]
  },
  {
   "cell_type": "code",
   "execution_count": 108,
   "metadata": {
    "collapsed": false
   },
   "outputs": [
    {
     "data": {
      "text/plain": [
       "\n",
       "-------------------------Summary of Regression Analysis-------------------------\n",
       "\n",
       "Formula: Y ~ <carat> + <x> + <y> + <intercept>\n",
       "\n",
       "Number of Observations:         53940\n",
       "Number of Degrees of Freedom:   4\n",
       "\n",
       "R-squared:         0.8535\n",
       "Adj R-squared:     0.8535\n",
       "\n",
       "Rmse:           1527.0318\n",
       "\n",
       "F-stat (3, 53936): 104739.6241, p-value:     0.0000\n",
       "\n",
       "Degrees of Freedom: model 3, resid 53936\n",
       "\n",
       "-----------------------Summary of Estimated Coefficients------------------------\n",
       "      Variable       Coef    Std Err     t-stat    p-value    CI 2.5%   CI 97.5%\n",
       "--------------------------------------------------------------------------------\n",
       "         carat 10117.9863    62.5623     161.73     0.0000  9995.3642 10240.6084\n",
       "             x -1148.6055    36.3066     -31.64     0.0000 -1219.7665 -1077.4446\n",
       "             y   126.0026    25.7650       4.89     0.0000    75.5033   176.5019\n",
       "     intercept  1719.5301   103.6694      16.59     0.0000  1516.3381  1922.7220\n",
       "---------------------------------End of Summary---------------------------------"
      ]
     },
     "execution_count": 108,
     "metadata": {},
     "output_type": "execute_result"
    }
   ],
   "source": [
    "from pandas.stats.api import ols\n",
    "res = ols(y=df.price, x=df[['carat', 'x', 'y']])\n",
    "res"
   ]
  },
  {
   "cell_type": "code",
   "execution_count": 109,
   "metadata": {
    "collapsed": false
   },
   "outputs": [
    {
     "data": {
      "text/plain": [
       "161.72657175327635"
      ]
     },
     "execution_count": 109,
     "metadata": {},
     "output_type": "execute_result"
    }
   ],
   "source": [
    "10117.9863 / 62.5623"
   ]
  },
  {
   "cell_type": "code",
   "execution_count": 110,
   "metadata": {
    "collapsed": false
   },
   "outputs": [
    {
     "data": {
      "text/plain": [
       "3.2967115542778735"
      ]
     },
     "execution_count": 110,
     "metadata": {},
     "output_type": "execute_result"
    }
   ],
   "source": [
    "stats.t.ppf(0.95, df=27)\n",
    "l = 5 - stats.t.ppf(0.95, df=27) * 1\n",
    "l"
   ]
  },
  {
   "cell_type": "code",
   "execution_count": 111,
   "metadata": {
    "collapsed": false
   },
   "outputs": [
    {
     "data": {
      "text/plain": [
       "0.69146246127401312"
      ]
     },
     "execution_count": 111,
     "metadata": {},
     "output_type": "execute_result"
    }
   ],
   "source": [
    "stats.norm.cdf(9, loc=7, scale=4)"
   ]
  },
  {
   "cell_type": "code",
   "execution_count": 112,
   "metadata": {
    "collapsed": false
   },
   "outputs": [
    {
     "data": {
      "text/plain": [
       "18823"
      ]
     },
     "execution_count": 112,
     "metadata": {},
     "output_type": "execute_result"
    }
   ],
   "source": [
    "df.price.max()"
   ]
  },
  {
   "cell_type": "code",
   "execution_count": 113,
   "metadata": {
    "collapsed": false
   },
   "outputs": [
    {
     "data": {
      "text/plain": [
       "\n",
       "-------------------------Summary of Regression Analysis-------------------------\n",
       "\n",
       "Formula: Y ~ <carat> + <x> + <y> + <table> + <intercept>\n",
       "\n",
       "Number of Observations:         53940\n",
       "Number of Degrees of Freedom:   5\n",
       "\n",
       "R-squared:         0.8548\n",
       "Adj R-squared:     0.8547\n",
       "\n",
       "Rmse:           1520.4750\n",
       "\n",
       "F-stat (4, 53935): 79350.4783, p-value:     0.0000\n",
       "\n",
       "Degrees of Freedom: model 4, resid 53935\n",
       "\n",
       "-----------------------Summary of Estimated Coefficients------------------------\n",
       "      Variable       Coef    Std Err     t-stat    p-value    CI 2.5%   CI 97.5%\n",
       "--------------------------------------------------------------------------------\n",
       "         carat 10064.1142    62.3435     161.43     0.0000  9941.9209 10186.3075\n",
       "             x -1085.1368    36.2698     -29.92     0.0000 -1156.2256 -1014.0481\n",
       "             y   109.7652    25.6653       4.28     0.0000    59.4611   160.0692\n",
       "         table   -64.6527     2.9912     -21.61     0.0000   -70.5155   -58.7900\n",
       "     intercept  5206.6451   191.5298      27.18     0.0000  4831.2467  5582.0436\n",
       "---------------------------------End of Summary---------------------------------"
      ]
     },
     "execution_count": 113,
     "metadata": {},
     "output_type": "execute_result"
    }
   ],
   "source": [
    "res = ols(y=df.price, x=df[['carat', 'x', 'y', 'table']])\n",
    "res"
   ]
  },
  {
   "cell_type": "code",
   "execution_count": 114,
   "metadata": {
    "collapsed": false
   },
   "outputs": [
    {
     "data": {
      "text/plain": [
       "4.2626024537202282e-05"
      ]
     },
     "execution_count": 114,
     "metadata": {},
     "output_type": "execute_result"
    }
   ],
   "source": [
    "p = 109.7652 / 25.6653\n",
    "p\n",
    "deg_f = 53935\n",
    "stats.t.pdf(p, df=deg_f)"
   ]
  },
  {
   "cell_type": "code",
   "execution_count": 116,
   "metadata": {
    "collapsed": false
   },
   "outputs": [
    {
     "data": {
      "text/plain": [
       "\n",
       "-------------------------Summary of Regression Analysis-------------------------\n",
       "\n",
       "Formula: Y ~ <carat> + <x> + <y> + <intercept>\n",
       "\n",
       "Number of Observations:         53940\n",
       "Number of Degrees of Freedom:   4\n",
       "\n",
       "R-squared:         0.8535\n",
       "Adj R-squared:     0.8535\n",
       "\n",
       "Rmse:           1527.0318\n",
       "\n",
       "F-stat (3, 53936): 104739.6241, p-value:     0.0000\n",
       "\n",
       "Degrees of Freedom: model 3, resid 53936\n",
       "\n",
       "-----------------------Summary of Estimated Coefficients------------------------\n",
       "      Variable       Coef    Std Err     t-stat    p-value    CI 2.5%   CI 97.5%\n",
       "--------------------------------------------------------------------------------\n",
       "         carat 10117.9863    62.5623     161.73     0.0000  9995.3642 10240.6084\n",
       "             x -1148.6055    36.3066     -31.64     0.0000 -1219.7665 -1077.4446\n",
       "             y   126.0026    25.7650       4.89     0.0000    75.5033   176.5019\n",
       "     intercept  1719.5301   103.6694      16.59     0.0000  1516.3381  1922.7220\n",
       "---------------------------------End of Summary---------------------------------"
      ]
     },
     "execution_count": 116,
     "metadata": {},
     "output_type": "execute_result"
    }
   ],
   "source": [
    "res = ols(y=df.price, x=df[['carat', 'x', 'y']])\n",
    "res"
   ]
  },
  {
   "cell_type": "code",
   "execution_count": 134,
   "metadata": {
    "collapsed": false
   },
   "outputs": [
    {
     "data": {
      "text/plain": [
       "(10015.07, 10220.9)"
      ]
     },
     "execution_count": 134,
     "metadata": {},
     "output_type": "execute_result"
    }
   ],
   "source": [
    "t = res.beta.carat / res.std_err.carat\n",
    "a = 0.9\n",
    "t_cr = stats.t.ppf(0.95, df=res.df_resid)\n",
    "t, t_cr\n",
    "t_cr_round = round(t_cr, 3)\n",
    "left_conf_int, right_conf_int = round(res.beta.carat - t_cr_round * res.std_err.carat, 2), \\\n",
    "            round(res.beta.carat + t_cr_round * res.std_err.carat, 2)\n",
    "left_conf_int, right_conf_int"
   ]
  }
 ],
 "metadata": {
  "kernelspec": {
   "display_name": "Python 3",
   "language": "python",
   "name": "python3"
  },
  "language_info": {
   "codemirror_mode": {
    "name": "ipython",
    "version": 3
   },
   "file_extension": ".py",
   "mimetype": "text/x-python",
   "name": "python",
   "nbconvert_exporter": "python",
   "pygments_lexer": "ipython3",
   "version": "3.5.1"
  }
 },
 "nbformat": 4,
 "nbformat_minor": 0
}
