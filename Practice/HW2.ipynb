{
 "cells": [
  {
   "cell_type": "markdown",
   "metadata": {},
   "source": [
    "# Homework 2: More Exploratory Data Analysis\n",
    "## Gene Expression Data and Election Polls \n",
    "\n",
    "Due: Thursday, October 2, 2014 11:59 PM\n",
    "\n",
    "<a href=https://raw.githubusercontent.com/cs109/2014/master/homework/HW2.ipynb download=HW2.ipynb> Download this assignment</a>\n",
    "\n",
    "#### Submission Instructions\n",
    "To submit your homework, create a folder named lastname_firstinitial_hw# and place your IPython notebooks, data files, and any other files in this folder. Your IPython Notebooks should be completely executed with the results visible in the notebook. We should not have to run any code. Compress the folder (please use .zip compression) and submit to the CS109 dropbox in the appropriate folder. If we cannot access your work because these directions are not followed correctly, we will not grade your work.\n",
    "\n",
    "\n",
    "---"
   ]
  },
  {
   "cell_type": "markdown",
   "metadata": {},
   "source": [
    "## Introduction\n",
    "\n",
    "John Tukey wrote in [Exploratory Data Analysis, 1977](http://www.amazon.com/Exploratory-Data-Analysis-Wilder-Tukey/dp/0201076160/ref=pd_bbs_sr_2/103-4466654-5303007?ie=UTF8&s=books&qid=1189739816&sr=8-2): \"The greatest value of a picture is when it forces us to notice what we never expected to see.\" In this assignment we will continue using our exploratory data analysis tools, but apply it to new sets of data: [gene expression](http://en.wikipedia.org/wiki/Gene_expression) and polls from the [2012 Presidental Election](http://en.wikipedia.org/wiki/United_States_presidential_election,_2012) and from the [2014 Senate Midterm Elections](http://en.wikipedia.org/wiki/United_States_Senate_elections,_2014).   \n",
    "\n",
    "**First**: You will use exploratory data analysis and apply the [singular value decomposition](http://en.wikipedia.org/wiki/Singular_value_decomposition) (SVD) to a gene expression data matrix to determine if the the date that the gene expression samples are processed has large effect on the variability seen in the data.  \n",
    "\n",
    "**Second**: You will use the polls from the 2012 Presidential Elections to determine (1) Is there a pollster bias in presidential election polls? and (2) Is the average of polls better than just one poll?\n",
    "\n",
    "**Finally**: You will use the [HuffPost Pollster API](http://elections.huffingtonpost.com/pollster/api) to extract the polls for the current 2014 Senate Midterm Elections and provide a preliminary prediction of the result of each state.\n",
    "\n",
    "#### Data\n",
    "\n",
    "We will use the following data sets: \n",
    "\n",
    "1. A gene expression data set called `exprs_GSE5859.csv` and sample annotation table called `sampleinfo_GSE5859.csv` which are both available on Github in the 2014_data repository: [expression data set](https://github.com/cs109/2014_data/blob/master/exprs_GSE5859.csv) and [sample annotation table](https://github.com/cs109/2014_data/blob/master/sampleinfo_GSE5859.csv).  \n",
    "\n",
    "2. Polls from the [2012 Presidential Election: Barack Obama vs Mitt Romney](http://elections.huffingtonpost.com/pollster/2012-general-election-romney-vs-obama). The polls we will use are from the [Huffington Post Pollster](http://elections.huffingtonpost.com/pollster).  \n",
    "\n",
    "3. Polls from the [2014 Senate Midterm Elections](http://elections.huffingtonpost.com/pollster) from the [HuffPost Pollster API](http://elections.huffingtonpost.com/pollster/api). \n",
    "\n",
    "---"
   ]
  },
  {
   "cell_type": "markdown",
   "metadata": {},
   "source": [
    "## Load Python modules"
   ]
  },
  {
   "cell_type": "code",
   "execution_count": 134,
   "metadata": {
    "collapsed": false
   },
   "outputs": [],
   "source": [
    "# special IPython command to prepare the notebook for matplotlib\n",
    "%matplotlib inline \n",
    "\n",
    "import requests \n",
    "from io import StringIO\n",
    "import numpy as np\n",
    "import pandas as pd # pandas\n",
    "import matplotlib.pyplot as plt # module for plotting \n",
    "import datetime as dt # module for manipulating dates and times\n",
    "import numpy.linalg as lin # module for performing linear algebra operations"
   ]
  },
  {
   "cell_type": "markdown",
   "metadata": {},
   "source": [
    "## Problem 1\n",
    "\n",
    "In this problem we will be using a [gene expression](http://en.wikipedia.org/wiki/Gene_expression) data set obtained from a [microarray](http://en.wikipedia.org/wiki/DNA_microarray) experiement [Read more about the specific experiment here](http://www.ncbi.nlm.nih.gov/geo/query/acc.cgi?acc=GSE5859).  There are two data sets we will use:  \n",
    "\n",
    "1. The gene expression intensities where the rows represent the features on the microarray (e.g. genes) and the columsns represent the different microarray samples.  \n",
    "\n",
    "2. A table that contains the information about each of the samples (columns in the gene expression data set) such as the sex, the age, the treatment status, the date the samples were processed.  Each row represents one sample. "
   ]
  },
  {
   "cell_type": "markdown",
   "metadata": {},
   "source": [
    "#### Problem 1(a) \n",
    "Read in the two files from Github: [exprs_GSE5859.csv](https://github.com/cs109/2014_data/blob/master/exprs_GSE5859.csv) and [sampleinfo_GSE5859.csv](https://github.com/cs109/2014_data/blob/master/sampleinfo_GSE5859.csv) as pandas DataFrames called `exprs` and `sampleinfo`. Use the gene names as the index of the `exprs` DataFrame."
   ]
  },
  {
   "cell_type": "code",
   "execution_count": 135,
   "metadata": {
    "collapsed": false
   },
   "outputs": [],
   "source": [
    "#url = 'https://github.com/cs109/2014_data/blob/master/exprs_GSE5859.csv'\n",
    "#df = pd.read_csv(url, sep=',')\n",
    "import io\n",
    "url_exprs = \"https://raw.githubusercontent.com/cs109/2014_data/master/exprs_GSE5859.csv\"\n",
    "url_sample = \"https://raw.githubusercontent.com/cs109/2014_data/master/sampleinfo_GSE5859.csv\"\n",
    "s1 = io.BytesIO(requests.get(url_exprs).content)\n",
    "s2 = io.BytesIO(requests.get(url_sample).content)\n",
    "exprs = pd.read_csv(s1)\n",
    "sampleinfo = pd.read_csv(s2)"
   ]
  },
  {
   "cell_type": "markdown",
   "metadata": {},
   "source": [
    "Make sure the order of the columns in the gene expression DataFrame match the order of file names in the sample annotation DataFrame. If the order of the columns the `exprs` DataFrame do not match the order of the file names in the `sampleinfo` DataFrame, reorder the columns in the `exprs` DataFrame. \n",
    "\n",
    "**Note**: The column names of the gene expression DataFrame are the filenames of the orignal files from which these data were obtained.  \n",
    "\n",
    "**Hint**: The method `list.index(x)` [[read here](https://docs.python.org/2/tutorial/datastructures.html)] can be used to return the index in the list of the first item whose value is x. It is an error if there is no such item. To check if the order of the columns in `exprs` matches the order of the rows in `sampleinfo`, you can check using the method `.all()` on a Boolean or list of Booleans: \n",
    "\n",
    "Example code: `(exprs.columns == sampleinfo.filename).all()`"
   ]
  },
  {
   "cell_type": "code",
   "execution_count": 136,
   "metadata": {
    "collapsed": false
   },
   "outputs": [
    {
     "data": {
      "text/plain": [
       "Index(['GSM25349.CEL.gz', 'GSM25350.CEL.gz', 'GSM25356.CEL.gz',\n",
       "       'GSM25357.CEL.gz', 'GSM25358.CEL.gz', 'GSM25359.CEL.gz',\n",
       "       'GSM25360.CEL.gz', 'GSM25361.CEL.gz', 'GSM25377.CEL.gz',\n",
       "       'GSM25378.CEL.gz',\n",
       "       ...\n",
       "       'GSM136719.CEL.gz', 'GSM136720.CEL.gz', 'GSM136721.CEL.gz',\n",
       "       'GSM136722.CEL.gz', 'GSM136723.CEL.gz', 'GSM136724.CEL.gz',\n",
       "       'GSM136725.CEL.gz', 'GSM136726.CEL.gz', 'GSM136727.CEL.gz',\n",
       "       'GSM136729.CEL.gz'],\n",
       "      dtype='object', length=208)"
      ]
     },
     "execution_count": 136,
     "metadata": {},
     "output_type": "execute_result"
    }
   ],
   "source": [
    "#exprs = exprs[['Unnamed: 0'] + list(samples.filename.unique())]\n",
    "exprs = exprs[list(sampleinfo.filename.unique())]\n",
    "exprs.columns"
   ]
  },
  {
   "cell_type": "markdown",
   "metadata": {},
   "source": [
    "Show the head of the two tables: `exprs` and `sampleinfo`. "
   ]
  },
  {
   "cell_type": "code",
   "execution_count": 137,
   "metadata": {
    "collapsed": false
   },
   "outputs": [
    {
     "data": {
      "text/html": [
       "<div>\n",
       "<table border=\"1\" class=\"dataframe\">\n",
       "  <thead>\n",
       "    <tr style=\"text-align: right;\">\n",
       "      <th></th>\n",
       "      <th>GSM25349.CEL.gz</th>\n",
       "      <th>GSM25350.CEL.gz</th>\n",
       "      <th>GSM25356.CEL.gz</th>\n",
       "      <th>GSM25357.CEL.gz</th>\n",
       "      <th>GSM25358.CEL.gz</th>\n",
       "      <th>GSM25359.CEL.gz</th>\n",
       "      <th>GSM25360.CEL.gz</th>\n",
       "      <th>GSM25361.CEL.gz</th>\n",
       "      <th>GSM25377.CEL.gz</th>\n",
       "      <th>GSM25378.CEL.gz</th>\n",
       "      <th>...</th>\n",
       "      <th>GSM136719.CEL.gz</th>\n",
       "      <th>GSM136720.CEL.gz</th>\n",
       "      <th>GSM136721.CEL.gz</th>\n",
       "      <th>GSM136722.CEL.gz</th>\n",
       "      <th>GSM136723.CEL.gz</th>\n",
       "      <th>GSM136724.CEL.gz</th>\n",
       "      <th>GSM136725.CEL.gz</th>\n",
       "      <th>GSM136726.CEL.gz</th>\n",
       "      <th>GSM136727.CEL.gz</th>\n",
       "      <th>GSM136729.CEL.gz</th>\n",
       "    </tr>\n",
       "  </thead>\n",
       "  <tbody>\n",
       "    <tr>\n",
       "      <th>0</th>\n",
       "      <td>6.627014</td>\n",
       "      <td>6.249807</td>\n",
       "      <td>5.934128</td>\n",
       "      <td>6.145268</td>\n",
       "      <td>6.091270</td>\n",
       "      <td>6.041186</td>\n",
       "      <td>6.050375</td>\n",
       "      <td>6.063847</td>\n",
       "      <td>6.226106</td>\n",
       "      <td>6.358282</td>\n",
       "      <td>...</td>\n",
       "      <td>6.466445</td>\n",
       "      <td>6.533592</td>\n",
       "      <td>6.631492</td>\n",
       "      <td>6.513362</td>\n",
       "      <td>6.440706</td>\n",
       "      <td>6.704324</td>\n",
       "      <td>6.488579</td>\n",
       "      <td>6.809481</td>\n",
       "      <td>6.133068</td>\n",
       "      <td>6.155473</td>\n",
       "    </tr>\n",
       "    <tr>\n",
       "      <th>1</th>\n",
       "      <td>6.939184</td>\n",
       "      <td>6.818038</td>\n",
       "      <td>7.047962</td>\n",
       "      <td>7.422477</td>\n",
       "      <td>7.272361</td>\n",
       "      <td>7.128216</td>\n",
       "      <td>6.750719</td>\n",
       "      <td>6.836287</td>\n",
       "      <td>6.738022</td>\n",
       "      <td>7.367895</td>\n",
       "      <td>...</td>\n",
       "      <td>7.032885</td>\n",
       "      <td>7.156344</td>\n",
       "      <td>7.018025</td>\n",
       "      <td>6.973322</td>\n",
       "      <td>6.884738</td>\n",
       "      <td>7.120898</td>\n",
       "      <td>7.517410</td>\n",
       "      <td>7.200596</td>\n",
       "      <td>7.280781</td>\n",
       "      <td>7.111583</td>\n",
       "    </tr>\n",
       "    <tr>\n",
       "      <th>2</th>\n",
       "      <td>5.113570</td>\n",
       "      <td>5.074096</td>\n",
       "      <td>5.371201</td>\n",
       "      <td>5.266550</td>\n",
       "      <td>5.342047</td>\n",
       "      <td>5.063876</td>\n",
       "      <td>5.315898</td>\n",
       "      <td>5.483652</td>\n",
       "      <td>6.689444</td>\n",
       "      <td>6.482782</td>\n",
       "      <td>...</td>\n",
       "      <td>5.661112</td>\n",
       "      <td>5.127260</td>\n",
       "      <td>5.151840</td>\n",
       "      <td>5.505602</td>\n",
       "      <td>5.687689</td>\n",
       "      <td>4.942651</td>\n",
       "      <td>5.247190</td>\n",
       "      <td>5.237239</td>\n",
       "      <td>5.401876</td>\n",
       "      <td>5.302628</td>\n",
       "    </tr>\n",
       "    <tr>\n",
       "      <th>3</th>\n",
       "      <td>7.833862</td>\n",
       "      <td>7.780682</td>\n",
       "      <td>7.458197</td>\n",
       "      <td>7.655948</td>\n",
       "      <td>7.546555</td>\n",
       "      <td>7.072670</td>\n",
       "      <td>7.092984</td>\n",
       "      <td>6.954225</td>\n",
       "      <td>7.489785</td>\n",
       "      <td>7.388539</td>\n",
       "      <td>...</td>\n",
       "      <td>7.769734</td>\n",
       "      <td>7.815864</td>\n",
       "      <td>7.683279</td>\n",
       "      <td>7.883231</td>\n",
       "      <td>7.913621</td>\n",
       "      <td>7.834196</td>\n",
       "      <td>7.331864</td>\n",
       "      <td>7.357102</td>\n",
       "      <td>7.607461</td>\n",
       "      <td>7.456453</td>\n",
       "    </tr>\n",
       "    <tr>\n",
       "      <th>4</th>\n",
       "      <td>3.152269</td>\n",
       "      <td>3.111747</td>\n",
       "      <td>3.018932</td>\n",
       "      <td>3.154545</td>\n",
       "      <td>3.107954</td>\n",
       "      <td>3.224284</td>\n",
       "      <td>3.114241</td>\n",
       "      <td>3.044975</td>\n",
       "      <td>3.304038</td>\n",
       "      <td>2.887919</td>\n",
       "      <td>...</td>\n",
       "      <td>3.257484</td>\n",
       "      <td>3.339234</td>\n",
       "      <td>3.298384</td>\n",
       "      <td>3.150654</td>\n",
       "      <td>3.344501</td>\n",
       "      <td>3.230285</td>\n",
       "      <td>3.175846</td>\n",
       "      <td>3.105092</td>\n",
       "      <td>3.225123</td>\n",
       "      <td>3.090149</td>\n",
       "    </tr>\n",
       "  </tbody>\n",
       "</table>\n",
       "<p>5 rows × 208 columns</p>\n",
       "</div>"
      ],
      "text/plain": [
       "   GSM25349.CEL.gz  GSM25350.CEL.gz  GSM25356.CEL.gz  GSM25357.CEL.gz  \\\n",
       "0         6.627014         6.249807         5.934128         6.145268   \n",
       "1         6.939184         6.818038         7.047962         7.422477   \n",
       "2         5.113570         5.074096         5.371201         5.266550   \n",
       "3         7.833862         7.780682         7.458197         7.655948   \n",
       "4         3.152269         3.111747         3.018932         3.154545   \n",
       "\n",
       "   GSM25358.CEL.gz  GSM25359.CEL.gz  GSM25360.CEL.gz  GSM25361.CEL.gz  \\\n",
       "0         6.091270         6.041186         6.050375         6.063847   \n",
       "1         7.272361         7.128216         6.750719         6.836287   \n",
       "2         5.342047         5.063876         5.315898         5.483652   \n",
       "3         7.546555         7.072670         7.092984         6.954225   \n",
       "4         3.107954         3.224284         3.114241         3.044975   \n",
       "\n",
       "   GSM25377.CEL.gz  GSM25378.CEL.gz        ...         GSM136719.CEL.gz  \\\n",
       "0         6.226106         6.358282        ...                 6.466445   \n",
       "1         6.738022         7.367895        ...                 7.032885   \n",
       "2         6.689444         6.482782        ...                 5.661112   \n",
       "3         7.489785         7.388539        ...                 7.769734   \n",
       "4         3.304038         2.887919        ...                 3.257484   \n",
       "\n",
       "   GSM136720.CEL.gz  GSM136721.CEL.gz  GSM136722.CEL.gz  GSM136723.CEL.gz  \\\n",
       "0          6.533592          6.631492          6.513362          6.440706   \n",
       "1          7.156344          7.018025          6.973322          6.884738   \n",
       "2          5.127260          5.151840          5.505602          5.687689   \n",
       "3          7.815864          7.683279          7.883231          7.913621   \n",
       "4          3.339234          3.298384          3.150654          3.344501   \n",
       "\n",
       "   GSM136724.CEL.gz  GSM136725.CEL.gz  GSM136726.CEL.gz  GSM136727.CEL.gz  \\\n",
       "0          6.704324          6.488579          6.809481          6.133068   \n",
       "1          7.120898          7.517410          7.200596          7.280781   \n",
       "2          4.942651          5.247190          5.237239          5.401876   \n",
       "3          7.834196          7.331864          7.357102          7.607461   \n",
       "4          3.230285          3.175846          3.105092          3.225123   \n",
       "\n",
       "   GSM136729.CEL.gz  \n",
       "0          6.155473  \n",
       "1          7.111583  \n",
       "2          5.302628  \n",
       "3          7.456453  \n",
       "4          3.090149  \n",
       "\n",
       "[5 rows x 208 columns]"
      ]
     },
     "execution_count": 137,
     "metadata": {},
     "output_type": "execute_result"
    }
   ],
   "source": [
    "exprs.head()"
   ]
  },
  {
   "cell_type": "code",
   "execution_count": 138,
   "metadata": {
    "collapsed": false
   },
   "outputs": [
    {
     "data": {
      "text/html": [
       "<div>\n",
       "<table border=\"1\" class=\"dataframe\">\n",
       "  <thead>\n",
       "    <tr style=\"text-align: right;\">\n",
       "      <th></th>\n",
       "      <th>ethnicity</th>\n",
       "      <th>date</th>\n",
       "      <th>filename</th>\n",
       "      <th>sex</th>\n",
       "    </tr>\n",
       "  </thead>\n",
       "  <tbody>\n",
       "    <tr>\n",
       "      <th>0</th>\n",
       "      <td>CEU</td>\n",
       "      <td>2003-02-04</td>\n",
       "      <td>GSM25349.CEL.gz</td>\n",
       "      <td>M</td>\n",
       "    </tr>\n",
       "    <tr>\n",
       "      <th>1</th>\n",
       "      <td>CEU</td>\n",
       "      <td>2003-02-04</td>\n",
       "      <td>GSM25350.CEL.gz</td>\n",
       "      <td>M</td>\n",
       "    </tr>\n",
       "    <tr>\n",
       "      <th>2</th>\n",
       "      <td>CEU</td>\n",
       "      <td>2002-12-17</td>\n",
       "      <td>GSM25356.CEL.gz</td>\n",
       "      <td>M</td>\n",
       "    </tr>\n",
       "    <tr>\n",
       "      <th>3</th>\n",
       "      <td>CEU</td>\n",
       "      <td>2003-01-30</td>\n",
       "      <td>GSM25357.CEL.gz</td>\n",
       "      <td>M</td>\n",
       "    </tr>\n",
       "    <tr>\n",
       "      <th>4</th>\n",
       "      <td>CEU</td>\n",
       "      <td>2003-01-03</td>\n",
       "      <td>GSM25358.CEL.gz</td>\n",
       "      <td>M</td>\n",
       "    </tr>\n",
       "  </tbody>\n",
       "</table>\n",
       "</div>"
      ],
      "text/plain": [
       "  ethnicity        date         filename sex\n",
       "0       CEU  2003-02-04  GSM25349.CEL.gz   M\n",
       "1       CEU  2003-02-04  GSM25350.CEL.gz   M\n",
       "2       CEU  2002-12-17  GSM25356.CEL.gz   M\n",
       "3       CEU  2003-01-30  GSM25357.CEL.gz   M\n",
       "4       CEU  2003-01-03  GSM25358.CEL.gz   M"
      ]
     },
     "execution_count": 138,
     "metadata": {},
     "output_type": "execute_result"
    }
   ],
   "source": [
    "sampleinfo.head()"
   ]
  },
  {
   "cell_type": "markdown",
   "metadata": {},
   "source": [
    "#### Problem 1(b)\n",
    "\n",
    "Extract the year and month as integers from the `sampleinfo` table. \n",
    "\n",
    "**Hint**: To convert a Series or a column of a pandas DataFrame that contains a date-like object, you can use the `to_datetime` function [[read here](http://pandas.pydata.org/pandas-docs/stable/timeseries.html)].  This will create a `DatetimeIndex` which can be used to extract the month and year for each row in the DataFrame. "
   ]
  },
  {
   "cell_type": "code",
   "execution_count": 139,
   "metadata": {
    "collapsed": false
   },
   "outputs": [
    {
     "data": {
      "text/html": [
       "<div>\n",
       "<table border=\"1\" class=\"dataframe\">\n",
       "  <thead>\n",
       "    <tr style=\"text-align: right;\">\n",
       "      <th></th>\n",
       "      <th>ethnicity</th>\n",
       "      <th>date</th>\n",
       "      <th>filename</th>\n",
       "      <th>sex</th>\n",
       "      <th>year</th>\n",
       "      <th>month</th>\n",
       "      <th>day</th>\n",
       "    </tr>\n",
       "  </thead>\n",
       "  <tbody>\n",
       "    <tr>\n",
       "      <th>0</th>\n",
       "      <td>CEU</td>\n",
       "      <td>2003-02-04</td>\n",
       "      <td>GSM25349.CEL.gz</td>\n",
       "      <td>M</td>\n",
       "      <td>2003</td>\n",
       "      <td>2</td>\n",
       "      <td>4</td>\n",
       "    </tr>\n",
       "    <tr>\n",
       "      <th>1</th>\n",
       "      <td>CEU</td>\n",
       "      <td>2003-02-04</td>\n",
       "      <td>GSM25350.CEL.gz</td>\n",
       "      <td>M</td>\n",
       "      <td>2003</td>\n",
       "      <td>2</td>\n",
       "      <td>4</td>\n",
       "    </tr>\n",
       "    <tr>\n",
       "      <th>2</th>\n",
       "      <td>CEU</td>\n",
       "      <td>2002-12-17</td>\n",
       "      <td>GSM25356.CEL.gz</td>\n",
       "      <td>M</td>\n",
       "      <td>2002</td>\n",
       "      <td>12</td>\n",
       "      <td>17</td>\n",
       "    </tr>\n",
       "    <tr>\n",
       "      <th>3</th>\n",
       "      <td>CEU</td>\n",
       "      <td>2003-01-30</td>\n",
       "      <td>GSM25357.CEL.gz</td>\n",
       "      <td>M</td>\n",
       "      <td>2003</td>\n",
       "      <td>1</td>\n",
       "      <td>30</td>\n",
       "    </tr>\n",
       "    <tr>\n",
       "      <th>4</th>\n",
       "      <td>CEU</td>\n",
       "      <td>2003-01-03</td>\n",
       "      <td>GSM25358.CEL.gz</td>\n",
       "      <td>M</td>\n",
       "      <td>2003</td>\n",
       "      <td>1</td>\n",
       "      <td>3</td>\n",
       "    </tr>\n",
       "  </tbody>\n",
       "</table>\n",
       "</div>"
      ],
      "text/plain": [
       "  ethnicity       date         filename sex  year  month  day\n",
       "0       CEU 2003-02-04  GSM25349.CEL.gz   M  2003      2    4\n",
       "1       CEU 2003-02-04  GSM25350.CEL.gz   M  2003      2    4\n",
       "2       CEU 2002-12-17  GSM25356.CEL.gz   M  2002     12   17\n",
       "3       CEU 2003-01-30  GSM25357.CEL.gz   M  2003      1   30\n",
       "4       CEU 2003-01-03  GSM25358.CEL.gz   M  2003      1    3"
      ]
     },
     "execution_count": 139,
     "metadata": {},
     "output_type": "execute_result"
    }
   ],
   "source": [
    "#your code here\n",
    "import datetime\n",
    "sampleinfo['date'] = pd.to_datetime(sampleinfo.date)\n",
    "sampleinfo['year'] = sampleinfo.date.apply(lambda x: x.year)\n",
    "sampleinfo['month'] = sampleinfo.date.apply(lambda x: x.month)\n",
    "sampleinfo['day'] = sampleinfo.date.apply(lambda x: x.day)\n",
    "sampleinfo.head()"
   ]
  },
  {
   "cell_type": "markdown",
   "metadata": {},
   "source": [
    "#### Problem 1(c)\n",
    "\n",
    "Convert the dates in the `date` column from the `sampleinfo` table into days since October 31, 2002. Add a column to the `sampleinfo` DataFrame titled `elapsedInDays` containing the days since October 31, 2002.  Show the head of the `sampleinfo` DataFrame which includes the new column.  \n",
    "\n",
    "**Hint**: Use the `datetime` module to create a new `datetime` object for the specific date October 31, 2002. Then, subtract the October 31, 2002 date from each date from the `date` column in the `sampleinfo` DataFrame. "
   ]
  },
  {
   "cell_type": "code",
   "execution_count": 140,
   "metadata": {
    "collapsed": false
   },
   "outputs": [
    {
     "data": {
      "text/html": [
       "<div>\n",
       "<table border=\"1\" class=\"dataframe\">\n",
       "  <thead>\n",
       "    <tr style=\"text-align: right;\">\n",
       "      <th></th>\n",
       "      <th>ethnicity</th>\n",
       "      <th>date</th>\n",
       "      <th>filename</th>\n",
       "      <th>sex</th>\n",
       "      <th>year</th>\n",
       "      <th>month</th>\n",
       "      <th>day</th>\n",
       "      <th>elapsedInDays</th>\n",
       "    </tr>\n",
       "  </thead>\n",
       "  <tbody>\n",
       "    <tr>\n",
       "      <th>0</th>\n",
       "      <td>CEU</td>\n",
       "      <td>2003-02-04</td>\n",
       "      <td>GSM25349.CEL.gz</td>\n",
       "      <td>M</td>\n",
       "      <td>2003</td>\n",
       "      <td>2</td>\n",
       "      <td>4</td>\n",
       "      <td>96 days</td>\n",
       "    </tr>\n",
       "    <tr>\n",
       "      <th>1</th>\n",
       "      <td>CEU</td>\n",
       "      <td>2003-02-04</td>\n",
       "      <td>GSM25350.CEL.gz</td>\n",
       "      <td>M</td>\n",
       "      <td>2003</td>\n",
       "      <td>2</td>\n",
       "      <td>4</td>\n",
       "      <td>96 days</td>\n",
       "    </tr>\n",
       "    <tr>\n",
       "      <th>2</th>\n",
       "      <td>CEU</td>\n",
       "      <td>2002-12-17</td>\n",
       "      <td>GSM25356.CEL.gz</td>\n",
       "      <td>M</td>\n",
       "      <td>2002</td>\n",
       "      <td>12</td>\n",
       "      <td>17</td>\n",
       "      <td>47 days</td>\n",
       "    </tr>\n",
       "    <tr>\n",
       "      <th>3</th>\n",
       "      <td>CEU</td>\n",
       "      <td>2003-01-30</td>\n",
       "      <td>GSM25357.CEL.gz</td>\n",
       "      <td>M</td>\n",
       "      <td>2003</td>\n",
       "      <td>1</td>\n",
       "      <td>30</td>\n",
       "      <td>91 days</td>\n",
       "    </tr>\n",
       "    <tr>\n",
       "      <th>4</th>\n",
       "      <td>CEU</td>\n",
       "      <td>2003-01-03</td>\n",
       "      <td>GSM25358.CEL.gz</td>\n",
       "      <td>M</td>\n",
       "      <td>2003</td>\n",
       "      <td>1</td>\n",
       "      <td>3</td>\n",
       "      <td>64 days</td>\n",
       "    </tr>\n",
       "  </tbody>\n",
       "</table>\n",
       "</div>"
      ],
      "text/plain": [
       "  ethnicity       date         filename sex  year  month  day  elapsedInDays\n",
       "0       CEU 2003-02-04  GSM25349.CEL.gz   M  2003      2    4        96 days\n",
       "1       CEU 2003-02-04  GSM25350.CEL.gz   M  2003      2    4        96 days\n",
       "2       CEU 2002-12-17  GSM25356.CEL.gz   M  2002     12   17        47 days\n",
       "3       CEU 2003-01-30  GSM25357.CEL.gz   M  2003      1   30        91 days\n",
       "4       CEU 2003-01-03  GSM25358.CEL.gz   M  2003      1    3        64 days"
      ]
     },
     "execution_count": 140,
     "metadata": {},
     "output_type": "execute_result"
    }
   ],
   "source": [
    "#your code here\n",
    "sampleinfo['elapsedInDays'] = sampleinfo.date - datetime.datetime(2002, 10, 31)\n",
    "sampleinfo.head()"
   ]
  },
  {
   "cell_type": "markdown",
   "metadata": {},
   "source": [
    "#### Problem 1(d)\n",
    "\n",
    "Use exploratory analysis and the singular value decomposition (SVD) of the gene expression data matrix to determine if the date the samples were processed has large effect on the variability seen in the data or if it is just ethnicity (which is confounded with date). \n",
    "\n",
    "**Hint**: See the end of the [lecture from 9/23/2014 for help with SVD](http://nbviewer.ipython.org/github/cs109/2014/blob/master/lectures/lecture07/data_scraping_transcript.ipynb). \n",
    "\n",
    "First subset the the `sampleinfo` DataFrame to include only the CEU ethnicity.  Call this new subsetted DataFrame `sampleinfoCEU`.  Show the head of `sampleinfoCEU` DataFrame. "
   ]
  },
  {
   "cell_type": "code",
   "execution_count": 141,
   "metadata": {
    "collapsed": false
   },
   "outputs": [
    {
     "data": {
      "text/html": [
       "<div>\n",
       "<table border=\"1\" class=\"dataframe\">\n",
       "  <thead>\n",
       "    <tr style=\"text-align: right;\">\n",
       "      <th></th>\n",
       "      <th>ethnicity</th>\n",
       "      <th>date</th>\n",
       "      <th>filename</th>\n",
       "      <th>sex</th>\n",
       "      <th>year</th>\n",
       "      <th>month</th>\n",
       "      <th>day</th>\n",
       "      <th>elapsedInDays</th>\n",
       "    </tr>\n",
       "  </thead>\n",
       "  <tbody>\n",
       "    <tr>\n",
       "      <th>0</th>\n",
       "      <td>CEU</td>\n",
       "      <td>2003-02-04</td>\n",
       "      <td>GSM25349.CEL.gz</td>\n",
       "      <td>M</td>\n",
       "      <td>2003</td>\n",
       "      <td>2</td>\n",
       "      <td>4</td>\n",
       "      <td>96 days</td>\n",
       "    </tr>\n",
       "    <tr>\n",
       "      <th>1</th>\n",
       "      <td>CEU</td>\n",
       "      <td>2003-02-04</td>\n",
       "      <td>GSM25350.CEL.gz</td>\n",
       "      <td>M</td>\n",
       "      <td>2003</td>\n",
       "      <td>2</td>\n",
       "      <td>4</td>\n",
       "      <td>96 days</td>\n",
       "    </tr>\n",
       "    <tr>\n",
       "      <th>2</th>\n",
       "      <td>CEU</td>\n",
       "      <td>2002-12-17</td>\n",
       "      <td>GSM25356.CEL.gz</td>\n",
       "      <td>M</td>\n",
       "      <td>2002</td>\n",
       "      <td>12</td>\n",
       "      <td>17</td>\n",
       "      <td>47 days</td>\n",
       "    </tr>\n",
       "    <tr>\n",
       "      <th>3</th>\n",
       "      <td>CEU</td>\n",
       "      <td>2003-01-30</td>\n",
       "      <td>GSM25357.CEL.gz</td>\n",
       "      <td>M</td>\n",
       "      <td>2003</td>\n",
       "      <td>1</td>\n",
       "      <td>30</td>\n",
       "      <td>91 days</td>\n",
       "    </tr>\n",
       "    <tr>\n",
       "      <th>4</th>\n",
       "      <td>CEU</td>\n",
       "      <td>2003-01-03</td>\n",
       "      <td>GSM25358.CEL.gz</td>\n",
       "      <td>M</td>\n",
       "      <td>2003</td>\n",
       "      <td>1</td>\n",
       "      <td>3</td>\n",
       "      <td>64 days</td>\n",
       "    </tr>\n",
       "  </tbody>\n",
       "</table>\n",
       "</div>"
      ],
      "text/plain": [
       "  ethnicity       date         filename sex  year  month  day  elapsedInDays\n",
       "0       CEU 2003-02-04  GSM25349.CEL.gz   M  2003      2    4        96 days\n",
       "1       CEU 2003-02-04  GSM25350.CEL.gz   M  2003      2    4        96 days\n",
       "2       CEU 2002-12-17  GSM25356.CEL.gz   M  2002     12   17        47 days\n",
       "3       CEU 2003-01-30  GSM25357.CEL.gz   M  2003      1   30        91 days\n",
       "4       CEU 2003-01-03  GSM25358.CEL.gz   M  2003      1    3        64 days"
      ]
     },
     "execution_count": 141,
     "metadata": {},
     "output_type": "execute_result"
    }
   ],
   "source": [
    "#your code here\n",
    "sampleinfoCEU = sampleinfo[sampleinfo.ethnicity == 'CEU']\n",
    "sampleinfoCEU.head()"
   ]
  },
  {
   "cell_type": "markdown",
   "metadata": {},
   "source": [
    "Next, subset the `exprs` DataFrame to only include the samples with the CEU ethnicity. Name this new subsetted DataFrame `exprsCEU`. Show the head of the `exprsCEU` DataFrame. "
   ]
  },
  {
   "cell_type": "code",
   "execution_count": 142,
   "metadata": {
    "collapsed": false
   },
   "outputs": [
    {
     "data": {
      "text/html": [
       "<div>\n",
       "<table border=\"1\" class=\"dataframe\">\n",
       "  <thead>\n",
       "    <tr style=\"text-align: right;\">\n",
       "      <th></th>\n",
       "      <th>GSM25349.CEL.gz</th>\n",
       "      <th>GSM25350.CEL.gz</th>\n",
       "      <th>GSM25356.CEL.gz</th>\n",
       "      <th>GSM25357.CEL.gz</th>\n",
       "      <th>GSM25358.CEL.gz</th>\n",
       "      <th>GSM25359.CEL.gz</th>\n",
       "      <th>GSM25360.CEL.gz</th>\n",
       "      <th>GSM25361.CEL.gz</th>\n",
       "      <th>GSM25377.CEL.gz</th>\n",
       "      <th>GSM25378.CEL.gz</th>\n",
       "      <th>...</th>\n",
       "      <th>GSM48658.CEL.gz</th>\n",
       "      <th>GSM48660.CEL.gz</th>\n",
       "      <th>GSM48661.CEL.gz</th>\n",
       "      <th>GSM48662.CEL.gz</th>\n",
       "      <th>GSM48663.CEL.gz</th>\n",
       "      <th>GSM48664.CEL.gz</th>\n",
       "      <th>GSM48665.CEL.gz</th>\n",
       "      <th>GSM136725.CEL.gz</th>\n",
       "      <th>GSM136726.CEL.gz</th>\n",
       "      <th>GSM136727.CEL.gz</th>\n",
       "    </tr>\n",
       "  </thead>\n",
       "  <tbody>\n",
       "    <tr>\n",
       "      <th>0</th>\n",
       "      <td>6.627014</td>\n",
       "      <td>6.249807</td>\n",
       "      <td>5.934128</td>\n",
       "      <td>6.145268</td>\n",
       "      <td>6.091270</td>\n",
       "      <td>6.041186</td>\n",
       "      <td>6.050375</td>\n",
       "      <td>6.063847</td>\n",
       "      <td>6.226106</td>\n",
       "      <td>6.358282</td>\n",
       "      <td>...</td>\n",
       "      <td>6.501510</td>\n",
       "      <td>6.558100</td>\n",
       "      <td>6.618286</td>\n",
       "      <td>6.869995</td>\n",
       "      <td>5.981000</td>\n",
       "      <td>6.403285</td>\n",
       "      <td>6.248702</td>\n",
       "      <td>6.488579</td>\n",
       "      <td>6.809481</td>\n",
       "      <td>6.133068</td>\n",
       "    </tr>\n",
       "    <tr>\n",
       "      <th>1</th>\n",
       "      <td>6.939184</td>\n",
       "      <td>6.818038</td>\n",
       "      <td>7.047962</td>\n",
       "      <td>7.422477</td>\n",
       "      <td>7.272361</td>\n",
       "      <td>7.128216</td>\n",
       "      <td>6.750719</td>\n",
       "      <td>6.836287</td>\n",
       "      <td>6.738022</td>\n",
       "      <td>7.367895</td>\n",
       "      <td>...</td>\n",
       "      <td>7.066686</td>\n",
       "      <td>7.386702</td>\n",
       "      <td>6.407958</td>\n",
       "      <td>7.089180</td>\n",
       "      <td>7.120923</td>\n",
       "      <td>7.018998</td>\n",
       "      <td>7.155419</td>\n",
       "      <td>7.517410</td>\n",
       "      <td>7.200596</td>\n",
       "      <td>7.280781</td>\n",
       "    </tr>\n",
       "    <tr>\n",
       "      <th>2</th>\n",
       "      <td>5.113570</td>\n",
       "      <td>5.074096</td>\n",
       "      <td>5.371201</td>\n",
       "      <td>5.266550</td>\n",
       "      <td>5.342047</td>\n",
       "      <td>5.063876</td>\n",
       "      <td>5.315898</td>\n",
       "      <td>5.483652</td>\n",
       "      <td>6.689444</td>\n",
       "      <td>6.482782</td>\n",
       "      <td>...</td>\n",
       "      <td>5.600514</td>\n",
       "      <td>5.232676</td>\n",
       "      <td>5.630720</td>\n",
       "      <td>4.944748</td>\n",
       "      <td>5.275577</td>\n",
       "      <td>5.770358</td>\n",
       "      <td>5.616842</td>\n",
       "      <td>5.247190</td>\n",
       "      <td>5.237239</td>\n",
       "      <td>5.401876</td>\n",
       "    </tr>\n",
       "    <tr>\n",
       "      <th>3</th>\n",
       "      <td>7.833862</td>\n",
       "      <td>7.780682</td>\n",
       "      <td>7.458197</td>\n",
       "      <td>7.655948</td>\n",
       "      <td>7.546555</td>\n",
       "      <td>7.072670</td>\n",
       "      <td>7.092984</td>\n",
       "      <td>6.954225</td>\n",
       "      <td>7.489785</td>\n",
       "      <td>7.388539</td>\n",
       "      <td>...</td>\n",
       "      <td>7.437535</td>\n",
       "      <td>7.714650</td>\n",
       "      <td>7.416252</td>\n",
       "      <td>7.746448</td>\n",
       "      <td>8.001434</td>\n",
       "      <td>7.626723</td>\n",
       "      <td>7.452299</td>\n",
       "      <td>7.331864</td>\n",
       "      <td>7.357102</td>\n",
       "      <td>7.607461</td>\n",
       "    </tr>\n",
       "    <tr>\n",
       "      <th>4</th>\n",
       "      <td>3.152269</td>\n",
       "      <td>3.111747</td>\n",
       "      <td>3.018932</td>\n",
       "      <td>3.154545</td>\n",
       "      <td>3.107954</td>\n",
       "      <td>3.224284</td>\n",
       "      <td>3.114241</td>\n",
       "      <td>3.044975</td>\n",
       "      <td>3.304038</td>\n",
       "      <td>2.887919</td>\n",
       "      <td>...</td>\n",
       "      <td>3.009983</td>\n",
       "      <td>3.151203</td>\n",
       "      <td>3.199709</td>\n",
       "      <td>3.159496</td>\n",
       "      <td>3.149710</td>\n",
       "      <td>3.242780</td>\n",
       "      <td>3.433125</td>\n",
       "      <td>3.175846</td>\n",
       "      <td>3.105092</td>\n",
       "      <td>3.225123</td>\n",
       "    </tr>\n",
       "  </tbody>\n",
       "</table>\n",
       "<p>5 rows × 102 columns</p>\n",
       "</div>"
      ],
      "text/plain": [
       "   GSM25349.CEL.gz  GSM25350.CEL.gz  GSM25356.CEL.gz  GSM25357.CEL.gz  \\\n",
       "0         6.627014         6.249807         5.934128         6.145268   \n",
       "1         6.939184         6.818038         7.047962         7.422477   \n",
       "2         5.113570         5.074096         5.371201         5.266550   \n",
       "3         7.833862         7.780682         7.458197         7.655948   \n",
       "4         3.152269         3.111747         3.018932         3.154545   \n",
       "\n",
       "   GSM25358.CEL.gz  GSM25359.CEL.gz  GSM25360.CEL.gz  GSM25361.CEL.gz  \\\n",
       "0         6.091270         6.041186         6.050375         6.063847   \n",
       "1         7.272361         7.128216         6.750719         6.836287   \n",
       "2         5.342047         5.063876         5.315898         5.483652   \n",
       "3         7.546555         7.072670         7.092984         6.954225   \n",
       "4         3.107954         3.224284         3.114241         3.044975   \n",
       "\n",
       "   GSM25377.CEL.gz  GSM25378.CEL.gz        ...         GSM48658.CEL.gz  \\\n",
       "0         6.226106         6.358282        ...                6.501510   \n",
       "1         6.738022         7.367895        ...                7.066686   \n",
       "2         6.689444         6.482782        ...                5.600514   \n",
       "3         7.489785         7.388539        ...                7.437535   \n",
       "4         3.304038         2.887919        ...                3.009983   \n",
       "\n",
       "   GSM48660.CEL.gz  GSM48661.CEL.gz  GSM48662.CEL.gz  GSM48663.CEL.gz  \\\n",
       "0         6.558100         6.618286         6.869995         5.981000   \n",
       "1         7.386702         6.407958         7.089180         7.120923   \n",
       "2         5.232676         5.630720         4.944748         5.275577   \n",
       "3         7.714650         7.416252         7.746448         8.001434   \n",
       "4         3.151203         3.199709         3.159496         3.149710   \n",
       "\n",
       "   GSM48664.CEL.gz  GSM48665.CEL.gz  GSM136725.CEL.gz  GSM136726.CEL.gz  \\\n",
       "0         6.403285         6.248702          6.488579          6.809481   \n",
       "1         7.018998         7.155419          7.517410          7.200596   \n",
       "2         5.770358         5.616842          5.247190          5.237239   \n",
       "3         7.626723         7.452299          7.331864          7.357102   \n",
       "4         3.242780         3.433125          3.175846          3.105092   \n",
       "\n",
       "   GSM136727.CEL.gz  \n",
       "0          6.133068  \n",
       "1          7.280781  \n",
       "2          5.401876  \n",
       "3          7.607461  \n",
       "4          3.225123  \n",
       "\n",
       "[5 rows x 102 columns]"
      ]
     },
     "execution_count": 142,
     "metadata": {},
     "output_type": "execute_result"
    }
   ],
   "source": [
    "exprsCEU = exprs[[col for col in exprs.columns if col in sampleinfoCEU.filename.unique()]]\n",
    "exprsCEU.head()"
   ]
  },
  {
   "cell_type": "markdown",
   "metadata": {},
   "source": [
    "Check to make sure the order of the columns in the `exprsCEU` DataFrame matches the rows in the `sampleinfoCEU` DataFrame.  "
   ]
  },
  {
   "cell_type": "code",
   "execution_count": 143,
   "metadata": {
    "collapsed": false
   },
   "outputs": [
    {
     "data": {
      "text/plain": [
       "True"
      ]
     },
     "execution_count": 143,
     "metadata": {},
     "output_type": "execute_result"
    }
   ],
   "source": [
    "(exprsCEU.columns == sampleinfoCEU.filename).all()"
   ]
  },
  {
   "cell_type": "markdown",
   "metadata": {},
   "source": [
    "Compute the average gene expression intensity in the `exprsCEU` DataFrame across all the samples. For each sample in the `exprsCEU` DataFrame, subtract the average gene expression intensity from each of the samples. Show the head of the mean normalized gene expression data.  "
   ]
  },
  {
   "cell_type": "code",
   "execution_count": 149,
   "metadata": {
    "collapsed": false
   },
   "outputs": [
    {
     "data": {
      "text/html": [
       "<div>\n",
       "<table border=\"1\" class=\"dataframe\">\n",
       "  <thead>\n",
       "    <tr style=\"text-align: right;\">\n",
       "      <th></th>\n",
       "      <th>GSM25349.CEL.gz</th>\n",
       "      <th>GSM25350.CEL.gz</th>\n",
       "      <th>GSM25356.CEL.gz</th>\n",
       "      <th>GSM25357.CEL.gz</th>\n",
       "      <th>GSM25358.CEL.gz</th>\n",
       "      <th>GSM25359.CEL.gz</th>\n",
       "      <th>GSM25360.CEL.gz</th>\n",
       "      <th>GSM25361.CEL.gz</th>\n",
       "      <th>GSM25377.CEL.gz</th>\n",
       "      <th>GSM25378.CEL.gz</th>\n",
       "      <th>...</th>\n",
       "      <th>GSM48658.CEL.gz</th>\n",
       "      <th>GSM48660.CEL.gz</th>\n",
       "      <th>GSM48661.CEL.gz</th>\n",
       "      <th>GSM48662.CEL.gz</th>\n",
       "      <th>GSM48663.CEL.gz</th>\n",
       "      <th>GSM48664.CEL.gz</th>\n",
       "      <th>GSM48665.CEL.gz</th>\n",
       "      <th>GSM136725.CEL.gz</th>\n",
       "      <th>GSM136726.CEL.gz</th>\n",
       "      <th>GSM136727.CEL.gz</th>\n",
       "    </tr>\n",
       "  </thead>\n",
       "  <tbody>\n",
       "    <tr>\n",
       "      <th>0</th>\n",
       "      <td>0.889683</td>\n",
       "      <td>0.504320</td>\n",
       "      <td>0.239911</td>\n",
       "      <td>0.414682</td>\n",
       "      <td>0.375837</td>\n",
       "      <td>0.318789</td>\n",
       "      <td>0.330471</td>\n",
       "      <td>0.313837</td>\n",
       "      <td>0.601632</td>\n",
       "      <td>0.630257</td>\n",
       "      <td>...</td>\n",
       "      <td>0.781012</td>\n",
       "      <td>0.849726</td>\n",
       "      <td>0.880097</td>\n",
       "      <td>1.157170</td>\n",
       "      <td>0.289480</td>\n",
       "      <td>0.753281</td>\n",
       "      <td>0.567560</td>\n",
       "      <td>0.744457</td>\n",
       "      <td>1.075995</td>\n",
       "      <td>0.393314</td>\n",
       "    </tr>\n",
       "    <tr>\n",
       "      <th>1</th>\n",
       "      <td>1.201854</td>\n",
       "      <td>1.072552</td>\n",
       "      <td>1.353745</td>\n",
       "      <td>1.691891</td>\n",
       "      <td>1.556928</td>\n",
       "      <td>1.405819</td>\n",
       "      <td>1.030815</td>\n",
       "      <td>1.086277</td>\n",
       "      <td>1.113548</td>\n",
       "      <td>1.639870</td>\n",
       "      <td>...</td>\n",
       "      <td>1.346188</td>\n",
       "      <td>1.678328</td>\n",
       "      <td>0.669769</td>\n",
       "      <td>1.376355</td>\n",
       "      <td>1.429403</td>\n",
       "      <td>1.368994</td>\n",
       "      <td>1.474277</td>\n",
       "      <td>1.773287</td>\n",
       "      <td>1.467110</td>\n",
       "      <td>1.541026</td>\n",
       "    </tr>\n",
       "    <tr>\n",
       "      <th>2</th>\n",
       "      <td>-0.623760</td>\n",
       "      <td>-0.671391</td>\n",
       "      <td>-0.323016</td>\n",
       "      <td>-0.464036</td>\n",
       "      <td>-0.373386</td>\n",
       "      <td>-0.658521</td>\n",
       "      <td>-0.404006</td>\n",
       "      <td>-0.266358</td>\n",
       "      <td>1.064970</td>\n",
       "      <td>0.754757</td>\n",
       "      <td>...</td>\n",
       "      <td>-0.119984</td>\n",
       "      <td>-0.475697</td>\n",
       "      <td>-0.107469</td>\n",
       "      <td>-0.768077</td>\n",
       "      <td>-0.415942</td>\n",
       "      <td>0.120354</td>\n",
       "      <td>-0.064300</td>\n",
       "      <td>-0.496932</td>\n",
       "      <td>-0.496247</td>\n",
       "      <td>-0.337878</td>\n",
       "    </tr>\n",
       "    <tr>\n",
       "      <th>3</th>\n",
       "      <td>2.096531</td>\n",
       "      <td>2.035195</td>\n",
       "      <td>1.763980</td>\n",
       "      <td>1.925362</td>\n",
       "      <td>1.831122</td>\n",
       "      <td>1.350273</td>\n",
       "      <td>1.373079</td>\n",
       "      <td>1.204215</td>\n",
       "      <td>1.865310</td>\n",
       "      <td>1.660514</td>\n",
       "      <td>...</td>\n",
       "      <td>1.717037</td>\n",
       "      <td>2.006276</td>\n",
       "      <td>1.678063</td>\n",
       "      <td>2.033623</td>\n",
       "      <td>2.309914</td>\n",
       "      <td>1.976719</td>\n",
       "      <td>1.771157</td>\n",
       "      <td>1.587741</td>\n",
       "      <td>1.623616</td>\n",
       "      <td>1.867707</td>\n",
       "    </tr>\n",
       "    <tr>\n",
       "      <th>4</th>\n",
       "      <td>-2.585061</td>\n",
       "      <td>-2.633739</td>\n",
       "      <td>-2.675285</td>\n",
       "      <td>-2.576041</td>\n",
       "      <td>-2.607479</td>\n",
       "      <td>-2.498112</td>\n",
       "      <td>-2.605663</td>\n",
       "      <td>-2.705035</td>\n",
       "      <td>-2.320436</td>\n",
       "      <td>-2.840106</td>\n",
       "      <td>...</td>\n",
       "      <td>-2.710515</td>\n",
       "      <td>-2.557171</td>\n",
       "      <td>-2.538480</td>\n",
       "      <td>-2.553329</td>\n",
       "      <td>-2.541810</td>\n",
       "      <td>-2.407224</td>\n",
       "      <td>-2.248017</td>\n",
       "      <td>-2.568276</td>\n",
       "      <td>-2.628394</td>\n",
       "      <td>-2.514631</td>\n",
       "    </tr>\n",
       "  </tbody>\n",
       "</table>\n",
       "<p>5 rows × 102 columns</p>\n",
       "</div>"
      ],
      "text/plain": [
       "   GSM25349.CEL.gz  GSM25350.CEL.gz  GSM25356.CEL.gz  GSM25357.CEL.gz  \\\n",
       "0         0.889683         0.504320         0.239911         0.414682   \n",
       "1         1.201854         1.072552         1.353745         1.691891   \n",
       "2        -0.623760        -0.671391        -0.323016        -0.464036   \n",
       "3         2.096531         2.035195         1.763980         1.925362   \n",
       "4        -2.585061        -2.633739        -2.675285        -2.576041   \n",
       "\n",
       "   GSM25358.CEL.gz  GSM25359.CEL.gz  GSM25360.CEL.gz  GSM25361.CEL.gz  \\\n",
       "0         0.375837         0.318789         0.330471         0.313837   \n",
       "1         1.556928         1.405819         1.030815         1.086277   \n",
       "2        -0.373386        -0.658521        -0.404006        -0.266358   \n",
       "3         1.831122         1.350273         1.373079         1.204215   \n",
       "4        -2.607479        -2.498112        -2.605663        -2.705035   \n",
       "\n",
       "   GSM25377.CEL.gz  GSM25378.CEL.gz        ...         GSM48658.CEL.gz  \\\n",
       "0         0.601632         0.630257        ...                0.781012   \n",
       "1         1.113548         1.639870        ...                1.346188   \n",
       "2         1.064970         0.754757        ...               -0.119984   \n",
       "3         1.865310         1.660514        ...                1.717037   \n",
       "4        -2.320436        -2.840106        ...               -2.710515   \n",
       "\n",
       "   GSM48660.CEL.gz  GSM48661.CEL.gz  GSM48662.CEL.gz  GSM48663.CEL.gz  \\\n",
       "0         0.849726         0.880097         1.157170         0.289480   \n",
       "1         1.678328         0.669769         1.376355         1.429403   \n",
       "2        -0.475697        -0.107469        -0.768077        -0.415942   \n",
       "3         2.006276         1.678063         2.033623         2.309914   \n",
       "4        -2.557171        -2.538480        -2.553329        -2.541810   \n",
       "\n",
       "   GSM48664.CEL.gz  GSM48665.CEL.gz  GSM136725.CEL.gz  GSM136726.CEL.gz  \\\n",
       "0         0.753281         0.567560          0.744457          1.075995   \n",
       "1         1.368994         1.474277          1.773287          1.467110   \n",
       "2         0.120354        -0.064300         -0.496932         -0.496247   \n",
       "3         1.976719         1.771157          1.587741          1.623616   \n",
       "4        -2.407224        -2.248017         -2.568276         -2.628394   \n",
       "\n",
       "   GSM136727.CEL.gz  \n",
       "0          0.393314  \n",
       "1          1.541026  \n",
       "2         -0.337878  \n",
       "3          1.867707  \n",
       "4         -2.514631  \n",
       "\n",
       "[5 rows x 102 columns]"
      ]
     },
     "execution_count": 149,
     "metadata": {},
     "output_type": "execute_result"
    }
   ],
   "source": [
    "exprsCEU_norm = exprsCEU.apply(lambda x: x - x.mean())\n",
    "exprsCEU_norm.head()"
   ]
  },
  {
   "cell_type": "markdown",
   "metadata": {},
   "source": [
    "Using this mean normalized gene expression data, compute the projection to the first Principal Component (PC1).  \n",
    "\n",
    "**Hint**: Use the `numpy.linalg.svd()` function in the `numpy.linalg` module (or the `scipy.linalg.svd()` function in the `scipy.linalg` module) to apply an [singular value decomposition](http://en.wikipedia.org/wiki/Singular_value_decomposition) to a matrix.  "
   ]
  },
  {
   "cell_type": "code",
   "execution_count": 153,
   "metadata": {
    "collapsed": false
   },
   "outputs": [],
   "source": [
    "sp.linalg.svd?"
   ]
  },
  {
   "cell_type": "code",
   "execution_count": 151,
   "metadata": {
    "collapsed": false
   },
   "outputs": [
    {
     "data": {
      "text/plain": [
       "(array([[ -2.83579273e-03,   6.64667936e-03,  -6.13523199e-04, ...,\n",
       "          -2.09082964e-02,  -3.65466528e-02,  -3.78700579e-02],\n",
       "        [ -7.14973450e-03,   1.16223183e-02,  -6.69605394e-03, ...,\n",
       "          -2.31987944e-02,  -3.89612775e-02,  -1.55727158e-02],\n",
       "        [  6.09058835e-04,  -1.81133753e-02,  -9.17825658e-03, ...,\n",
       "          -2.38394087e-02,  -2.35819510e-02,  -1.90933149e-02],\n",
       "        ..., \n",
       "        [ -2.11098697e-02,   1.90453223e-02,  -1.23850424e-02, ...,\n",
       "           9.46390166e-01,   3.21413539e-02,   3.42651673e-02],\n",
       "        [ -1.51649564e-02,  -1.88803957e-01,  -4.75780241e-02, ...,\n",
       "           3.14193237e-02,   8.35272952e-01,  -1.61660840e-01],\n",
       "        [ -1.81234932e-02,  -1.91306280e-01,  -4.60391476e-02, ...,\n",
       "           3.36286422e-02,  -1.62562773e-01,   8.29583497e-01]]),\n",
       " array([ 1923.2306328 ,   131.38746535,   115.16124712,    95.71484582,\n",
       "           83.05067576,    72.22370327,    69.966314  ,    65.95400852,\n",
       "           61.17052075,    56.42071397,    52.35103217,    50.28338709,\n",
       "           47.90437985,    43.94753834,    42.91178485,    40.19961706,\n",
       "           38.68544739,    35.71232507,    35.34975717,    34.86719282,\n",
       "           33.97706182,    32.62631784,    31.91891258,    31.52404073,\n",
       "           30.67124234,    30.03311562,    29.36104229,    29.21582504,\n",
       "           28.3951623 ,    27.93339208,    27.71384184,    26.93168067,\n",
       "           26.67055077,    26.30719546,    26.20536885,    25.81181879,\n",
       "           25.66382042,    25.38910095,    24.80629152,    24.46052066,\n",
       "           24.01306071,    23.92778105,    23.53877068,    23.19833151,\n",
       "           23.04232391,    22.57982383,    22.43412526,    22.20763165,\n",
       "           21.84783666,    21.52484755,    21.38254404,    20.99614469,\n",
       "           20.94615238,    20.62284902,    20.22493573,    19.94084045,\n",
       "           19.83659442,    19.68997972,    19.36484046,    19.07341755,\n",
       "           18.91209088,    18.62013422,    18.40364688,    18.27785606,\n",
       "           18.08582334,    18.05051377,    17.4825461 ,    17.4400922 ,\n",
       "           17.34578203,    16.90347323,    16.85942709,    16.5993583 ,\n",
       "           16.40449635,    16.18796082,    16.06471708,    15.91006768,\n",
       "           15.78830176,    15.66369393,    15.49992449,    15.27785858,\n",
       "           15.03761274,    14.99365773,    14.85261534,    14.65525212,\n",
       "           14.52303162,    14.43911808,    14.14402434,    14.04289744,\n",
       "           13.78095674,    13.61304892,    12.9099642 ,    12.75251938,\n",
       "           12.57389886,    12.12030072,    11.88632763,    11.60923794,\n",
       "           10.90577408,    10.69880663,    10.28623625,     9.93570541,\n",
       "            9.45634775,     8.13289031]),\n",
       " array([[ -9.82225647e-02,  -9.73628327e-02,  -9.99315953e-02, ...,\n",
       "          -9.92782826e-02,  -9.82342964e-02,  -9.88759193e-02],\n",
       "        [  5.35907818e-02,   5.94278054e-02,  -1.73808284e-02, ...,\n",
       "           1.19846247e-01,   1.90669252e-01,   1.98940719e-01],\n",
       "        [ -1.35145702e-01,  -1.21548764e-01,  -1.41287905e-01, ...,\n",
       "           1.32638558e-01,   1.48946861e-01,  -9.07113787e-02],\n",
       "        ..., \n",
       "        [ -3.16355326e-02,   2.36129395e-02,  -1.26394642e-02, ...,\n",
       "           3.10576990e-02,   1.60886591e-03,   2.40785609e-03],\n",
       "        [  3.90523800e-02,  -3.43189829e-02,  -3.74621923e-03, ...,\n",
       "           1.60481574e-02,   1.32341942e-02,  -1.09161455e-02],\n",
       "        [ -9.61807140e-05,   7.90461016e-03,  -5.57502063e-03, ...,\n",
       "          -1.40461939e-02,  -8.38872031e-03,   7.02434560e-04]]))"
      ]
     },
     "execution_count": 151,
     "metadata": {},
     "output_type": "execute_result"
    }
   ],
   "source": [
    "import scipy as sp\n",
    "sp.linalg.svd(exprsCEU_norm)"
   ]
  },
  {
   "cell_type": "markdown",
   "metadata": {},
   "source": [
    "Create a histogram using the values from PC1.  Use a bin size of 25.  "
   ]
  },
  {
   "cell_type": "code",
   "execution_count": 11,
   "metadata": {
    "collapsed": false
   },
   "outputs": [],
   "source": [
    "#your code here"
   ]
  },
  {
   "cell_type": "markdown",
   "metadata": {},
   "source": [
    "Create a scatter plot with the days since October 31, 2002 on the x-axis and PC1 on the y-axis."
   ]
  },
  {
   "cell_type": "code",
   "execution_count": 12,
   "metadata": {
    "collapsed": false
   },
   "outputs": [],
   "source": [
    "#your code here"
   ]
  },
  {
   "cell_type": "markdown",
   "metadata": {},
   "source": [
    "Around what day do you notice a difference in the way the samples were processed?"
   ]
  },
  {
   "cell_type": "code",
   "execution_count": 13,
   "metadata": {
    "collapsed": false
   },
   "outputs": [],
   "source": [
    "#your code here"
   ]
  },
  {
   "cell_type": "markdown",
   "metadata": {},
   "source": [
    "Answer:"
   ]
  },
  {
   "cell_type": "markdown",
   "metadata": {},
   "source": [
    "## Discussion for Problem 1\n",
    "\n",
    "*Write a brief discussion of your conclusions to the questions and tasks above in 100 words or less.*\n",
    "\n",
    "---\n"
   ]
  },
  {
   "cell_type": "markdown",
   "metadata": {},
   "source": [
    "## Problem 2: Is there a pollster bias in presidential election polls?"
   ]
  },
  {
   "cell_type": "markdown",
   "metadata": {},
   "source": [
    "#### Problem 2(a)\n",
    "\n",
    "The [HuffPost Pollster](http://elections.huffingtonpost.com/pollster) contains many political polls. You can access these polls from individual races as a CSV but you can also access polls through the [HuffPost Pollster API](http://elections.huffingtonpost.com/pollster/api) to access the data.  \n",
    "\n",
    "Read in the polls from the [2012 Presidential Election: Barack Obama vs Mitt Romney](http://elections.huffingtonpost.com/pollster/2012-general-election-romney-vs-obama) into a pandas DataFrame called `election`. For this problem, you may read in the polls for this race directly using [the CSV file](http://elections.huffingtonpost.com/pollster/2012-general-election-romney-vs-obama.csv) available from the HuffPost Pollster page."
   ]
  },
  {
   "cell_type": "code",
   "execution_count": 14,
   "metadata": {
    "collapsed": false
   },
   "outputs": [],
   "source": [
    "#your code here"
   ]
  },
  {
   "cell_type": "markdown",
   "metadata": {},
   "source": [
    "Show the head of the `election` DataFrame. "
   ]
  },
  {
   "cell_type": "code",
   "execution_count": 15,
   "metadata": {
    "collapsed": false
   },
   "outputs": [],
   "source": [
    "#your code here"
   ]
  },
  {
   "cell_type": "markdown",
   "metadata": {},
   "source": [
    "How many polls were conducted in November? Define this number as M.  \n",
    "\n",
    "**Hint**: Subset the `election` DataFrame for only dates in the `Start Date` column that are in November 2012.  "
   ]
  },
  {
   "cell_type": "code",
   "execution_count": 16,
   "metadata": {
    "collapsed": false
   },
   "outputs": [],
   "source": [
    "#your code here"
   ]
  },
  {
   "cell_type": "markdown",
   "metadata": {},
   "source": [
    "Answer:"
   ]
  },
  {
   "cell_type": "markdown",
   "metadata": {},
   "source": [
    "What was the median of the number of observations in the November polls? Define this quantity as N. "
   ]
  },
  {
   "cell_type": "code",
   "execution_count": 17,
   "metadata": {
    "collapsed": false
   },
   "outputs": [],
   "source": [
    "#your code here"
   ]
  },
  {
   "cell_type": "markdown",
   "metadata": {},
   "source": [
    "Answer: "
   ]
  },
  {
   "cell_type": "markdown",
   "metadata": {},
   "source": [
    "#### Problem 2(b)\n",
    "\n",
    "Using the median sample size $N$ from Problem 1(a), simulate the results from a single poll:  simulate the number of votes for Obama out of a sample size $N$ where $p$ = 0.53 is the percent of voters who are voting for Obama.  \n",
    "\n",
    "**Hint**: Use the binomial distribution with parameters $N$ and $p$ = 0.53. "
   ]
  },
  {
   "cell_type": "code",
   "execution_count": 18,
   "metadata": {
    "collapsed": false
   },
   "outputs": [],
   "source": [
    "#your code here"
   ]
  },
  {
   "cell_type": "markdown",
   "metadata": {},
   "source": [
    "Now, perform a Monte Carlo simulation to obtain the estimated percentage of Obama votes with a sample size $N$ where $N$ is the median sample size calculated in Problem 2(a). Let $p$=0.53 be the percent of voters are voting for Obama. \n",
    "\n",
    "**Hint**: You will repeat the simulation above 1,000 times and plot the distribution of the estimated *percent* of Obama votes from a single poll.  The results from the single poll you simulate is random variable and will be different every time you sample. "
   ]
  },
  {
   "cell_type": "code",
   "execution_count": 19,
   "metadata": {
    "collapsed": false
   },
   "outputs": [],
   "source": [
    "#your code here"
   ]
  },
  {
   "cell_type": "markdown",
   "metadata": {},
   "source": [
    "Plot the distribution of the estimated percentage of Obama votes from your single poll. What is the distribution of the estimated percentage of Obama votes? "
   ]
  },
  {
   "cell_type": "code",
   "execution_count": 20,
   "metadata": {
    "collapsed": false
   },
   "outputs": [],
   "source": [
    "#your code here"
   ]
  },
  {
   "cell_type": "markdown",
   "metadata": {},
   "source": [
    "Answer: "
   ]
  },
  {
   "cell_type": "markdown",
   "metadata": {},
   "source": [
    "What is the standard error (SE) of the estimated percentage from the poll. \n",
    "\n",
    "**Hint**: Remember the SE is the standard deviation (SD) of the distribution of a random variable. "
   ]
  },
  {
   "cell_type": "code",
   "execution_count": 21,
   "metadata": {
    "collapsed": false
   },
   "outputs": [],
   "source": [
    "#your code here"
   ]
  },
  {
   "cell_type": "markdown",
   "metadata": {},
   "source": [
    "#### Problem 2(c)\n",
    "\n",
    "Now suppose we run M polls where M is the number of polls that happened in November (calculated in Problem 2(a)). Run 1,000 simulations and compute the mean of the M polls for each simulation. "
   ]
  },
  {
   "cell_type": "code",
   "execution_count": 22,
   "metadata": {
    "collapsed": false
   },
   "outputs": [],
   "source": [
    "#your code here"
   ]
  },
  {
   "cell_type": "markdown",
   "metadata": {},
   "source": [
    "What is the distribution of the average of polls?\n",
    "\n",
    "**Hint**: Show a plot. "
   ]
  },
  {
   "cell_type": "code",
   "execution_count": 23,
   "metadata": {
    "collapsed": false
   },
   "outputs": [],
   "source": [
    "#your code here"
   ]
  },
  {
   "cell_type": "markdown",
   "metadata": {},
   "source": [
    "Answer: "
   ]
  },
  {
   "cell_type": "markdown",
   "metadata": {},
   "source": [
    "What is the standard error (SE) of the average of polls? "
   ]
  },
  {
   "cell_type": "code",
   "execution_count": 24,
   "metadata": {
    "collapsed": false
   },
   "outputs": [],
   "source": [
    "#your code here"
   ]
  },
  {
   "cell_type": "markdown",
   "metadata": {},
   "source": [
    "Answer: "
   ]
  },
  {
   "cell_type": "markdown",
   "metadata": {},
   "source": [
    "Is the SE of the average of polls larger, the same, or smaller than that the SD of a single poll (calculated in Problem 2(b))? By how much?\n",
    "\n",
    "**Hint**: Compute a ratio of the two quantities.  "
   ]
  },
  {
   "cell_type": "code",
   "execution_count": 25,
   "metadata": {
    "collapsed": false
   },
   "outputs": [],
   "source": [
    "#your code here"
   ]
  },
  {
   "cell_type": "markdown",
   "metadata": {},
   "source": [
    "Answer: "
   ]
  },
  {
   "cell_type": "markdown",
   "metadata": {},
   "source": [
    "#### Problem 2(d) \n",
    "\n",
    "Repeat Problem 2(c) but now record the *across poll* standard deviation in each simulation. "
   ]
  },
  {
   "cell_type": "code",
   "execution_count": 26,
   "metadata": {
    "collapsed": false
   },
   "outputs": [],
   "source": [
    "#your code here"
   ]
  },
  {
   "cell_type": "markdown",
   "metadata": {},
   "source": [
    "What is the distribution of the *across M polls* standard deviation?\n",
    "\n",
    "**Hint**: Show a plot. "
   ]
  },
  {
   "cell_type": "code",
   "execution_count": 27,
   "metadata": {
    "collapsed": false
   },
   "outputs": [],
   "source": [
    "#your code here"
   ]
  },
  {
   "cell_type": "markdown",
   "metadata": {},
   "source": [
    "Answer: "
   ]
  },
  {
   "cell_type": "markdown",
   "metadata": {},
   "source": [
    "#### Problem 2(e) \n",
    "\n",
    "What is the standard deviation of M polls in our real (not simulated) 2012 presidential election data ? "
   ]
  },
  {
   "cell_type": "code",
   "execution_count": 28,
   "metadata": {
    "collapsed": false
   },
   "outputs": [],
   "source": [
    "#your code here"
   ]
  },
  {
   "cell_type": "markdown",
   "metadata": {},
   "source": [
    "Is this larger, the same, or smaller than what we expeced if polls were not biased."
   ]
  },
  {
   "cell_type": "code",
   "execution_count": 29,
   "metadata": {
    "collapsed": false
   },
   "outputs": [],
   "source": [
    "#your code here"
   ]
  },
  {
   "cell_type": "markdown",
   "metadata": {},
   "source": [
    "Answer: "
   ]
  },
  {
   "cell_type": "markdown",
   "metadata": {},
   "source": [
    "#### Problem 2(f)\n",
    "\n",
    "**For AC209 Students**: Learn about the normal approximation for the binomial distribution and derive the results of Problem 2(b) and 2(c) analytically (using this approximation). Compare the results obtained analytically to those obtained from simulations."
   ]
  },
  {
   "cell_type": "code",
   "execution_count": 30,
   "metadata": {
    "collapsed": false
   },
   "outputs": [],
   "source": [
    "#your code here"
   ]
  },
  {
   "cell_type": "markdown",
   "metadata": {},
   "source": [
    "Answer: "
   ]
  },
  {
   "cell_type": "markdown",
   "metadata": {},
   "source": [
    "## Discussion for Problem 2\n",
    "\n",
    "*Write a brief discussion of your conclusions to the questions and tasks above in 100 words or less.*\n",
    "\n",
    "---\n"
   ]
  },
  {
   "cell_type": "markdown",
   "metadata": {},
   "source": [
    "## Problem 3: Is the average of polls better than just one poll?"
   ]
  },
  {
   "cell_type": "markdown",
   "metadata": {},
   "source": [
    "#### Problem 3(a)\n",
    "\n",
    "Most undecided voters vote for one of the two candidates at the election. Therefore, the reported percentages underestimate the final value of both candidates. However, if we assume the undecided will split evenly, then the observed difference should be an unbiased estimate of the final difference. \n",
    "\n",
    "Add a new column to the `election` DataFrame containg the difference between Obama and Romeny called `Diff`. "
   ]
  },
  {
   "cell_type": "code",
   "execution_count": 31,
   "metadata": {
    "collapsed": false
   },
   "outputs": [],
   "source": [
    "#your code here"
   ]
  },
  {
   "cell_type": "markdown",
   "metadata": {},
   "source": [
    "#### Problem 3(b)\n",
    "\n",
    "Make a plot of the differences for the week before the election (e.g. 5 days) where the days are on the x-axis and the differences are on the y-axis.  Add a horizontal line showing 3.9%: the difference between Obama and Romney on election day."
   ]
  },
  {
   "cell_type": "code",
   "execution_count": 32,
   "metadata": {
    "collapsed": false
   },
   "outputs": [],
   "source": [
    "#your code here"
   ]
  },
  {
   "cell_type": "markdown",
   "metadata": {},
   "source": [
    "#### Problem 3(c) \n",
    "\n",
    "Make a plot showing the differences by pollster where the pollsters are on the x-axis and the differences on the y-axis. "
   ]
  },
  {
   "cell_type": "code",
   "execution_count": 33,
   "metadata": {
    "collapsed": false
   },
   "outputs": [],
   "source": [
    "#your code here"
   ]
  },
  {
   "cell_type": "markdown",
   "metadata": {},
   "source": [
    "Is the *across poll* difference larger than the *between pollster* difference? "
   ]
  },
  {
   "cell_type": "markdown",
   "metadata": {},
   "source": [
    "Answer: "
   ]
  },
  {
   "cell_type": "markdown",
   "metadata": {},
   "source": [
    "#### Problem 3(d)\n",
    "\n",
    "Take the average for each pollster and then compute the average of that. Given this difference how confident would you have been of an Obama victory?\n",
    "\n",
    "**Hint**: Compute an estimate of the SE of this average based exclusively on the observed data. "
   ]
  },
  {
   "cell_type": "code",
   "execution_count": 34,
   "metadata": {
    "collapsed": false
   },
   "outputs": [],
   "source": [
    "#your code here"
   ]
  },
  {
   "cell_type": "markdown",
   "metadata": {},
   "source": [
    "Answer: "
   ]
  },
  {
   "cell_type": "markdown",
   "metadata": {},
   "source": [
    "#### Problem 3(e)\n",
    "\n",
    "**For AC209 Students**: Show the difference against time and see if you can detect a trend towards the end. Use this trend to see if it improves the final estimate."
   ]
  },
  {
   "cell_type": "code",
   "execution_count": 35,
   "metadata": {
    "collapsed": false
   },
   "outputs": [],
   "source": [
    "#your code here"
   ]
  },
  {
   "cell_type": "markdown",
   "metadata": {},
   "source": [
    "Answer: "
   ]
  },
  {
   "cell_type": "markdown",
   "metadata": {},
   "source": [
    "## Discussion for Problem 3\n",
    "\n",
    "*Write a brief discussion of your conclusions to the questions and tasks above in 100 words or less.*\n",
    "\n",
    "---\n"
   ]
  },
  {
   "cell_type": "markdown",
   "metadata": {},
   "source": [
    "## Problem 4\n",
    "\n",
    "In this last problem, we will use the polls from the [2014 Senate Midterm Elections](http://elections.huffingtonpost.com/pollster) from the [HuffPost Pollster API](http://elections.huffingtonpost.com/pollster/api) to create a preliminary prediction of the result of each state. \n",
    "\n",
    "The HuffPost Pollster API allows you to access the data as a CSV or a JSON response by tacking \".csv\" or \".json\" at the end of the URLs. For example the 2012 Presidential Election could be accessed as a [.json](http://elections.huffingtonpost.com/pollster/2012-general-election-romney-vs-obama.json) instead of a [.csv](http://elections.huffingtonpost.com/pollster/2012-general-election-romney-vs-obama.csv)"
   ]
  },
  {
   "cell_type": "markdown",
   "metadata": {},
   "source": [
    "#### Problem 4(a)\n",
    "\n",
    "Read in the polls for **all** of the 2014 Senate Elections using the HuffPost API. For example, we can consider the [2014 Senate race in Kentucky between Mitch McConnell and Alison Grimes](http://elections.huffingtonpost.com/pollster/2014-kentucky-senate-mcconnell-vs-grimes). \n",
    "\n",
    "To search for the 2014 Senate races, use the `topics` parameter in the API [[read more about topics here](http://elections.huffingtonpost.com/pollster/api)].  "
   ]
  },
  {
   "cell_type": "code",
   "execution_count": 36,
   "metadata": {
    "collapsed": false
   },
   "outputs": [],
   "source": [
    "url_str = \"http://elections.huffingtonpost.com/pollster/api/charts/?topic=2014-senate\""
   ]
  },
  {
   "cell_type": "markdown",
   "metadata": {},
   "source": [
    "To list all the URLs related to the 2014 Senate races using the pollster API, we can use a list comprehension:"
   ]
  },
  {
   "cell_type": "code",
   "execution_count": 37,
   "metadata": {
    "collapsed": false
   },
   "outputs": [
    {
     "data": {
      "text/plain": [
       "[u'http://elections.huffingtonpost.com/pollster/2014-kentucky-senate-mcconnell-vs-grimes.csv',\n",
       " u'http://elections.huffingtonpost.com/pollster/2014-arkansas-senate-cotton-vs-pryor.csv',\n",
       " u'http://elections.huffingtonpost.com/pollster/2014-michigan-senate-land-vs-peters.csv',\n",
       " u'http://elections.huffingtonpost.com/pollster/2014-louisiana-senate-cassidy-vs-landrieu.csv',\n",
       " u'http://elections.huffingtonpost.com/pollster/2014-new-hampshire-senate-brown-vs-shaheen.csv',\n",
       " u'http://elections.huffingtonpost.com/pollster/2014-west-virginia-senate-capito-vs-tennant.csv',\n",
       " u'http://elections.huffingtonpost.com/pollster/2014-new-hampshire-senate-bass-vs-shaheen.csv',\n",
       " u'http://elections.huffingtonpost.com/pollster/2014-north-carolina-senate-tillis-vs-hagan.csv',\n",
       " u'http://elections.huffingtonpost.com/pollster/2014-virginia-senate-gillespie-vs-warner.csv',\n",
       " u'http://elections.huffingtonpost.com/pollster/2014-colorado-senate-gardner-vs-udall.csv',\n",
       " u'http://elections.huffingtonpost.com/pollster/2014-illinois-senate-oberweis-vs-durbin.csv',\n",
       " u'http://elections.huffingtonpost.com/pollster/2014-alaska-senate-sullivan-vs-begich.csv',\n",
       " u'http://elections.huffingtonpost.com/pollster/2014-iowa-senate-ernst-vs-braley.csv',\n",
       " u'http://elections.huffingtonpost.com/pollster/2014-mississippi-senate-cochran-vs-childers.csv',\n",
       " u'http://elections.huffingtonpost.com/pollster/2014-oregon-senate-wehby-vs-merkley.csv',\n",
       " u'http://elections.huffingtonpost.com/pollster/2014-georgia-senate-perdue-vs-nunn.csv',\n",
       " u'http://elections.huffingtonpost.com/pollster/2014-louisiana-senate-sasse-vs-domina.csv',\n",
       " u'http://elections.huffingtonpost.com/pollster/2014-south-dakota-senate-rounds-vs-weiland.csv',\n",
       " u'http://elections.huffingtonpost.com/pollster/2014-maine-senate-collins-vs-bellows.csv',\n",
       " u'http://elections.huffingtonpost.com/pollster/2014-minnesota-senate-mcfadden-vs-franken.csv',\n",
       " u'http://elections.huffingtonpost.com/pollster/2014-texas-senate-cornyn-vs-alameel.csv',\n",
       " u'http://elections.huffingtonpost.com/pollster/2014-south-carolina-senate-graham-vs-hutto.csv',\n",
       " u'http://elections.huffingtonpost.com/pollster/2014-south-carolina-senate-scott-vs-dickerson.csv',\n",
       " u'http://elections.huffingtonpost.com/pollster/2014-oklahoma-senate-inhofe-vs-silverstein.csv',\n",
       " u'http://elections.huffingtonpost.com/pollster/2014-new-mexico-senate-weh-vs-udall.csv',\n",
       " u'http://elections.huffingtonpost.com/pollster/2014-new-jersey-senate-bell-vs-booker.csv',\n",
       " u'http://elections.huffingtonpost.com/pollster/2014-idaho-senate-risch-vs-mitchell.csv',\n",
       " u'http://elections.huffingtonpost.com/pollster/2014-tennessee-senate-alexander-vs-ball.csv',\n",
       " u'http://elections.huffingtonpost.com/pollster/2014-wyoming-senate.csv',\n",
       " u'http://elections.huffingtonpost.com/pollster/2014-kansas-senate-roberts-vs-orman-vs-taylor.csv',\n",
       " u'http://elections.huffingtonpost.com/pollster/2014-hawaii-senate-cavasso-vs-schatz.csv',\n",
       " u'http://elections.huffingtonpost.com/pollster/2014-oklahoma-senate-lankford-vs-johnson.csv',\n",
       " u'http://elections.huffingtonpost.com/pollster/2014-montana-senate-daines-vs-curtis.csv',\n",
       " u'http://elections.huffingtonpost.com/pollster/2014-rhode-island-senate-zaccaria-vs-reed.csv',\n",
       " u'http://elections.huffingtonpost.com/pollster/2014-massachusetts-senate-herr-vs-markey.csv',\n",
       " u'http://elections.huffingtonpost.com/pollster/2014-delaware-senate-wade-vs-coons.csv']"
      ]
     },
     "execution_count": 37,
     "metadata": {},
     "output_type": "execute_result"
    }
   ],
   "source": [
    "election_urls = [election['url'] + '.csv' for election in requests.get(url_str).json()]\n",
    "election_urls"
   ]
  },
  {
   "cell_type": "markdown",
   "metadata": {},
   "source": [
    "Because there so many Senate races, we can create a dictionary of pandas DataFrames that will be keyed by the name of the election (a string). "
   ]
  },
  {
   "cell_type": "code",
   "execution_count": 38,
   "metadata": {
    "collapsed": false
   },
   "outputs": [],
   "source": [
    "def build_frame(url):\n",
    "    \"\"\"\n",
    "    Returns a pandas DataFrame object containing\n",
    "    the data returned from the given url\n",
    "    \"\"\"\n",
    "    source = requests.get(url).text\n",
    "    \n",
    "    # Use StringIO because pd.DataFrame.from_csv requires .read() method\n",
    "    s = StringIO(source)\n",
    "    \n",
    "    return pd.DataFrame.from_csv(s, index_col=None).convert_objects(\n",
    "            convert_dates=\"coerce\", convert_numeric=True)"
   ]
  },
  {
   "cell_type": "code",
   "execution_count": 39,
   "metadata": {
    "collapsed": false
   },
   "outputs": [],
   "source": [
    "# Makes a dictionary of pandas DataFrames keyed on election string.\n",
    "dfs = dict((election.split(\"/\")[-1][:-4], build_frame(election)) for election in election_urls)"
   ]
  },
  {
   "cell_type": "markdown",
   "metadata": {},
   "source": [
    "Show the head of the DataFrame containing the polls for the 2014 Senate race in Kentucky between McConnell and Grimes."
   ]
  },
  {
   "cell_type": "code",
   "execution_count": 40,
   "metadata": {
    "collapsed": false
   },
   "outputs": [],
   "source": [
    "#your code here"
   ]
  },
  {
   "cell_type": "markdown",
   "metadata": {},
   "source": [
    "#### Problem 4(b)\n",
    "\n",
    "For each 2014 Senate race, create a preliminary prediction of the result for that state."
   ]
  },
  {
   "cell_type": "code",
   "execution_count": 42,
   "metadata": {
    "collapsed": false
   },
   "outputs": [],
   "source": [
    "#your code here"
   ]
  },
  {
   "cell_type": "markdown",
   "metadata": {},
   "source": [
    "# Submission Instructions\n",
    "\n",
    "To submit your homework, create a folder named **lastname_firstinitial_hw#** and place your IPython notebooks, data files, and any other files in this folder. Your IPython Notebooks should be completely executed with the results visible in the notebook. We should not have to run any code.  Compress the folder (please use .zip compression) and submit to the CS109 dropbox in the appropriate folder. *If we cannot access your work because these directions are not followed correctly, we will not grade your work.*\n"
   ]
  },
  {
   "cell_type": "code",
   "execution_count": null,
   "metadata": {
    "collapsed": false
   },
   "outputs": [],
   "source": []
  }
 ],
 "metadata": {
  "kernelspec": {
   "display_name": "Python 3",
   "language": "python",
   "name": "python3"
  },
  "language_info": {
   "codemirror_mode": {
    "name": "ipython",
    "version": 3
   },
   "file_extension": ".py",
   "mimetype": "text/x-python",
   "name": "python",
   "nbconvert_exporter": "python",
   "pygments_lexer": "ipython3",
   "version": "3.5.1"
  }
 },
 "nbformat": 4,
 "nbformat_minor": 0
}
