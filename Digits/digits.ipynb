{
 "cells": [
  {
   "cell_type": "code",
   "execution_count": 76,
   "metadata": {
    "collapsed": true
   },
   "outputs": [],
   "source": [
    "import numpy as np\n",
    "import pandas as pd"
   ]
  },
  {
   "cell_type": "code",
   "execution_count": 77,
   "metadata": {
    "collapsed": false
   },
   "outputs": [],
   "source": [
    "df = pd.read_csv('./input/train.csv')\n",
    "df_init = df.copy(deep=True)\n",
    "#df = pd.read_csv('./input/test.csv')"
   ]
  },
  {
   "cell_type": "code",
   "execution_count": 78,
   "metadata": {
    "collapsed": false
   },
   "outputs": [],
   "source": [
    "data_cols = [col for col in df.columns if col != 'label']\n",
    "df_data = df[data_cols]\n",
    "df_target = df.label"
   ]
  },
  {
   "cell_type": "code",
   "execution_count": 79,
   "metadata": {
    "collapsed": false
   },
   "outputs": [
    {
     "name": "stdout",
     "output_type": "stream",
     "text": [
      "784\n",
      "708\n"
     ]
    }
   ],
   "source": [
    "print(len(df_data.columns))\n",
    "drop_list = []\n",
    "for col in df_data.columns:\n",
    "    l = df_data[col].unique()\n",
    "    if len(l) == 1:\n",
    "        drop_list.append(col)\n",
    "        \n",
    "df_data = df_data.drop(drop_list, axis=1)\n",
    "print(len(df_data.columns))"
   ]
  },
  {
   "cell_type": "code",
   "execution_count": 80,
   "metadata": {
    "collapsed": false
   },
   "outputs": [],
   "source": [
    "# from sklearn.decomposition import PCA\n",
    "# pca = PCA(n_components=100)\n",
    "# pca.fit(df_data)\n",
    "# print(pca.explained_variance_ratio_.sum())\n",
    "# df_pca = pca.transform(df_data)"
   ]
  },
  {
   "cell_type": "code",
   "execution_count": 81,
   "metadata": {
    "collapsed": false
   },
   "outputs": [],
   "source": [
    "# from sklearn import preprocessing\n",
    "# scaler = preprocessing.StandardScaler().fit(df_data)\n",
    "# df_scaled = scaler.transform(df_data)"
   ]
  },
  {
   "cell_type": "code",
   "execution_count": 82,
   "metadata": {
    "collapsed": false
   },
   "outputs": [
    {
     "name": "stdout",
     "output_type": "stream",
     "text": [
      "no scale 0.958273809524\n",
      "with scale 0.958035714286\n"
     ]
    }
   ],
   "source": [
    "from sklearn.ensemble import RandomForestClassifier\n",
    "from sklearn import cross_validation\n",
    "\n",
    "def rf(df_):\n",
    "    clf = RandomForestClassifier(n_estimators=60)\n",
    "    X_train, X_test, y_train, y_test = cross_validation.train_test_split(df_, df_target, test_size=0.4)\n",
    "    clf.fit(X_train, y_train)    \n",
    "    return clf, clf.score(X_test, y_test)\n",
    "\n",
    "_, sc = rf(df_data)\n",
    "print('no scale', sc)\n",
    "_, sc_scale = rf(df_data / 255)\n",
    "print('with scale', sc_scale)"
   ]
  },
  {
   "cell_type": "code",
   "execution_count": 95,
   "metadata": {
    "collapsed": false
   },
   "outputs": [
    {
     "name": "stdout",
     "output_type": "stream",
     "text": [
      "30 0.852210781345\n",
      "40 0.867353119322\n",
      "50 0.867353119322\n",
      "60 0.874621441551\n",
      "70 0.888552392489\n",
      "80 0.889158086008\n",
      "90 0.886735311932\n"
     ]
    }
   ],
   "source": [
    "df_data_train = df_data.ix[:5000]\n",
    "df_target_train = df_target.ix[:5000]\n",
    "from sklearn.ensemble import GradientBoostingClassifier\n",
    "lr = 0.05\n",
    "n_est = 50\n",
    "\n",
    "for n in np.arange(30, 100, 10):\n",
    "    clf = GradientBoostingClassifier(learning_rate=lr, n_estimators=n)\n",
    "    X_train, X_test, y_train, y_test = cross_validation.train_test_split(df_data_train, df_target_train, test_size=0.33)\n",
    "    clf.fit(X_train, y_train)\n",
    "    print(n, clf.score(X_test, y_test))"
   ]
  },
  {
   "cell_type": "markdown",
   "metadata": {},
   "source": [
    "Selected values: learning_rate = 0.05, n_estimators = 80"
   ]
  },
  {
   "cell_type": "code",
   "execution_count": null,
   "metadata": {
    "collapsed": false
   },
   "outputs": [],
   "source": [
    "from sklearn.ensemble import RandomForestClassifier\n",
    "from sklearn import cross_validation\n",
    "\n",
    "n_trees = np.arange(30, 70, 10)\n",
    "for n in n_trees:\n",
    "    clf = RandomForestClassifier(n_estimators=n)\n",
    "    X_train, X_test, y_train, y_test = cross_validation.train_test_split(df_data, df_target, test_size=0.4)\n",
    "    clf.fit(X_train, y_train)    \n",
    "    print(n, clf.score(X_test, y_test))"
   ]
  },
  {
   "cell_type": "code",
   "execution_count": null,
   "metadata": {
    "collapsed": false
   },
   "outputs": [],
   "source": [
    "from sklearn import neighbors\n",
    "from sklearn import cross_validation \n",
    "clf = neighbors.KNeighborsClassifier(n_neighbors=5)\n",
    "X_train, X_test, y_train, y_test = cross_validation.train_test_split(df_data, df_target, test_size=0.4)\n",
    "clf.fit(X_train, y_train)\n",
    "print(clf.score(X_test, y_test))"
   ]
  },
  {
   "cell_type": "code",
   "execution_count": null,
   "metadata": {
    "collapsed": false
   },
   "outputs": [],
   "source": [
    "clf = RandomForestClassifier(n_estimators=60)\n",
    "clf.fit(df_data, df_target)"
   ]
  },
  {
   "cell_type": "code",
   "execution_count": null,
   "metadata": {
    "collapsed": false
   },
   "outputs": [],
   "source": [
    "df_test = pd.read_csv('./input/test.csv')\n",
    "res = clf.predict(df_test)\n",
    "print(res)"
   ]
  },
  {
   "cell_type": "code",
   "execution_count": null,
   "metadata": {
    "collapsed": false
   },
   "outputs": [],
   "source": [
    "df_test['ImageId'] = np.arange(1, 28001)\n",
    "df_test['Label'] = res\n",
    "df_test.head()\n",
    "df_test[['ImageId', 'Label']].to_csv('./submission/submission.csv', index=False)"
   ]
  }
 ],
 "metadata": {
  "kernelspec": {
   "display_name": "Python 3",
   "language": "python",
   "name": "python3"
  },
  "language_info": {
   "codemirror_mode": {
    "name": "ipython",
    "version": 3
   },
   "file_extension": ".py",
   "mimetype": "text/x-python",
   "name": "python",
   "nbconvert_exporter": "python",
   "pygments_lexer": "ipython3",
   "version": "3.5.1"
  }
 },
 "nbformat": 4,
 "nbformat_minor": 0
}
