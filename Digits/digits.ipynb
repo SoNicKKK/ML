{
 "cells": [
  {
   "cell_type": "code",
   "execution_count": 2,
   "metadata": {
    "collapsed": true
   },
   "outputs": [],
   "source": [
    "import numpy as np\n",
    "import pandas as pd"
   ]
  },
  {
   "cell_type": "code",
   "execution_count": 3,
   "metadata": {
    "collapsed": false
   },
   "outputs": [],
   "source": [
    "df = pd.read_csv('./input/train.csv')\n",
    "df_init = df.copy(deep=True)\n",
    "#df = pd.read_csv('./input/test.csv')"
   ]
  },
  {
   "cell_type": "code",
   "execution_count": 4,
   "metadata": {
    "collapsed": false
   },
   "outputs": [],
   "source": [
    "data_cols = [col for col in df.columns if col != 'label']\n",
    "df_data = df[data_cols]\n",
    "df_target = df.label"
   ]
  },
  {
   "cell_type": "code",
   "execution_count": 5,
   "metadata": {
    "collapsed": false
   },
   "outputs": [
    {
     "name": "stdout",
     "output_type": "stream",
     "text": [
      "784\n",
      "708\n"
     ]
    }
   ],
   "source": [
    "print(len(df_data.columns))\n",
    "drop_list = []\n",
    "for col in df_data.columns:\n",
    "    l = df_data[col].unique()\n",
    "    if len(l) == 1:\n",
    "        drop_list.append(col)\n",
    "        \n",
    "df_data = df_data.drop(drop_list, axis=1)\n",
    "print(len(df_data.columns))"
   ]
  },
  {
   "cell_type": "code",
   "execution_count": 35,
   "metadata": {
    "collapsed": false
   },
   "outputs": [
    {
     "data": {
      "text/plain": [
       "<matplotlib.image.AxesImage at 0x19a165d85c0>"
      ]
     },
     "execution_count": 35,
     "metadata": {},
     "output_type": "execute_result"
    },
    {
     "data": {
      "image/png": "[encoded data removed]",
      "text/plain": [
       "<matplotlib.figure.Figure at 0x19a1658c780>"
      ]
     },
     "metadata": {},
     "output_type": "display_data"
    }
   ],
   "source": [
    "import matplotlib.pyplot as plt\n",
    "%matplotlib inline\n",
    "X = df_init[data_cols]\n",
    "X.head()\n",
    "plt.imshow((X.iloc[0].values / 16).astype(int).reshape(28, 28))"
   ]
  },
  {
   "cell_type": "code",
   "execution_count": 78,
   "metadata": {
    "collapsed": false
   },
   "outputs": [
    {
     "data": {
      "text/plain": [
       "(2000, 784)"
      ]
     },
     "execution_count": 78,
     "metadata": {},
     "output_type": "execute_result"
    }
   ],
   "source": [
    "X_batch = X.iloc[:2000]\n",
    "X_batch.shape"
   ]
  },
  {
   "cell_type": "code",
   "execution_count": 84,
   "metadata": {
    "collapsed": false
   },
   "outputs": [
    {
     "name": "stdout",
     "output_type": "stream",
     "text": [
      "0.96369047619\n",
      "0.961904761905\n"
     ]
    }
   ],
   "source": [
    "from sklearn.ensemble import RandomForestClassifier\n",
    "from sklearn import cross_validation\n",
    "n_batch = 42000\n",
    "X_batch = X.iloc[:n_batch]\n",
    "y = df_init['label']\n",
    "y_batch = y.iloc[:n_batch]\n",
    "\n",
    "clf = RandomForestClassifier(n_estimators=80)\n",
    "X_train, X_test, y_train, y_test = cross_validation.train_test_split(X_batch, y_batch, test_size=0.4)\n",
    "clf.fit(X_train, y_train)\n",
    "print(clf.score(X_test, y_test))\n",
    "\n",
    "def binarize(x):\n",
    "    arr = x.values.reshape(28, 28)\n",
    "    eroded_square = ndimage.binary_erosion(arr)\n",
    "    reconstruction = ndimage.binary_propagation(eroded_square, mask=arr)\n",
    "    return pd.Series(reconstruction.astype(int).ravel())\n",
    "\n",
    "X_batch = X_batch.apply(lambda x: binarize(x), axis=1)\n",
    "clf = RandomForestClassifier(n_estimators=80)\n",
    "X_train, X_test, y_train, y_test = cross_validation.train_test_split(X_batch, y_batch, test_size=0.4)\n",
    "clf.fit(X_train, y_train)\n",
    "print(clf.score(X_test, y_test))"
   ]
  },
  {
   "cell_type": "code",
   "execution_count": 77,
   "metadata": {
    "collapsed": false
   },
   "outputs": [
    {
     "data": {
      "text/plain": [
       "0.89242424242424245"
      ]
     },
     "execution_count": 77,
     "metadata": {},
     "output_type": "execute_result"
    }
   ],
   "source": [
    "from sklearn.ensemble import RandomForestClassifier\n",
    "from sklearn import cross_validation\n",
    "clf = RandomForestClassifier(n_estimators=80)\n",
    "y = df_init['label']\n",
    "y_batch = y.iloc[:2000]\n",
    "X_train, X_test, y_train, y_test = cross_validation.train_test_split(X_batch, y_batch, test_size=0.33)\n",
    "clf.fit(X_train, y_train)\n",
    "clf.score(X_test, y_test)"
   ]
  },
  {
   "cell_type": "code",
   "execution_count": 59,
   "metadata": {
    "collapsed": false
   },
   "outputs": [
    {
     "name": "stderr",
     "output_type": "stream",
     "text": [
      "C:\\Users\\oracle\\Anaconda3\\lib\\site-packages\\pandas\\core\\indexing.py:117: SettingWithCopyWarning: \n",
      "A value is trying to be set on a copy of a slice from a DataFrame\n",
      "\n",
      "See the caveats in the documentation: http://pandas.pydata.org/pandas-docs/stable/indexing.html#indexing-view-versus-copy\n",
      "  self._setitem_with_indexer(indexer, value)\n",
      "C:\\Users\\oracle\\Anaconda3\\lib\\site-packages\\ipykernel\\__main__.py:13: SettingWithCopyWarning: \n",
      "A value is trying to be set on a copy of a slice from a DataFrame\n",
      "\n",
      "See the caveats in the documentation: http://pandas.pydata.org/pandas-docs/stable/indexing.html#indexing-view-versus-copy\n"
     ]
    },
    {
     "name": "stdout",
     "output_type": "stream",
     "text": [
      "(20, 784)\n"
     ]
    },
    {
     "data": {
      "text/plain": [
       "0    687\n",
       "1     97\n",
       "Name: 0, dtype: int64"
      ]
     },
     "execution_count": 59,
     "metadata": {},
     "output_type": "execute_result"
    },
    {
     "data": {
      "image/png": "[encoded data removed]",
      "text/plain": [
       "<matplotlib.figure.Figure at 0x19a481414a8>"
      ]
     },
     "metadata": {},
     "output_type": "display_data"
    }
   ],
   "source": [
    "from scipy import misc\n",
    "from scipy import ndimage\n",
    "X_batch = X.iloc[:20]\n",
    "print(X_batch.shape)\n",
    "arr = X.iloc[0].values.reshape(28, 28)\n",
    "plt.subplots(1, 2)\n",
    "plt.subplot(1, 2, 1)\n",
    "plt.imshow(arr, cmap=plt.cm.gray, interpolation='nearest') \n",
    "eroded_square = ndimage.binary_erosion(arr)\n",
    "reconstruction = ndimage.binary_propagation(eroded_square, mask=arr)\n",
    "plt.subplot(1, 2, 2)\n",
    "plt.imshow(reconstruction, cmap=plt.cm.gray)\n",
    "X.iloc[0] = reconstruction.astype(int).ravel()"
   ]
  },
  {
   "cell_type": "code",
   "execution_count": 82,
   "metadata": {
    "collapsed": false
   },
   "outputs": [
    {
     "name": "stdout",
     "output_type": "stream",
     "text": [
      "no scale 0.958273809524\n",
      "with scale 0.958035714286\n"
     ]
    }
   ],
   "source": [
    "from sklearn.ensemble import RandomForestClassifier\n",
    "from sklearn import cross_validation\n",
    "\n",
    "\n",
    "def rf(df_):\n",
    "    clf = RandomForestClassifier(n_estimators=60)\n",
    "    X_train, X_test, y_train, y_test = cross_validation.train_test_split(df_, df_target, test_size=0.4)\n",
    "    clf.fit(X_train, y_train)    \n",
    "    return clf, clf.score(X_test, y_test)\n",
    "\n",
    "_, sc = rf(df_data)\n",
    "print('no scale', sc)\n",
    "_, sc_scale = rf(df_data / 255)\n",
    "print('with scale', sc_scale)"
   ]
  },
  {
   "cell_type": "markdown",
   "metadata": {},
   "source": [
    "Selected values: learning_rate = 0.05, n_estimators = 80"
   ]
  },
  {
   "cell_type": "code",
   "execution_count": null,
   "metadata": {
    "collapsed": false
   },
   "outputs": [],
   "source": [
    "from sklearn.ensemble import RandomForestClassifier\n",
    "from sklearn import cross_validation\n",
    "\n",
    "n_trees = np.arange(30, 70, 10)\n",
    "for n in n_trees:\n",
    "    clf = RandomForestClassifier(n_estimators=n)\n",
    "    X_train, X_test, y_train, y_test = cross_validation.train_test_split(df_data, df_target, test_size=0.4)\n",
    "    clf.fit(X_train, y_train)    \n",
    "    print(n, clf.score(X_test, y_test))"
   ]
  },
  {
   "cell_type": "code",
   "execution_count": null,
   "metadata": {
    "collapsed": false
   },
   "outputs": [],
   "source": [
    "from sklearn import neighbors\n",
    "from sklearn import cross_validation \n",
    "clf = neighbors.KNeighborsClassifier(n_neighbors=5)\n",
    "X_train, X_test, y_train, y_test = cross_validation.train_test_split(df_data, df_target, test_size=0.4)\n",
    "clf.fit(X_train, y_train)\n",
    "print(clf.score(X_test, y_test))"
   ]
  },
  {
   "cell_type": "code",
   "execution_count": null,
   "metadata": {
    "collapsed": false
   },
   "outputs": [],
   "source": [
    "clf = RandomForestClassifier(n_estimators=60)\n",
    "clf.fit(df_data, df_target)"
   ]
  },
  {
   "cell_type": "code",
   "execution_count": null,
   "metadata": {
    "collapsed": false
   },
   "outputs": [],
   "source": [
    "df_test = pd.read_csv('./input/test.csv')\n",
    "res = clf.predict(df_test)\n",
    "print(res)"
   ]
  },
  {
   "cell_type": "code",
   "execution_count": null,
   "metadata": {
    "collapsed": false
   },
   "outputs": [],
   "source": [
    "df_test['ImageId'] = np.arange(1, 28001)\n",
    "df_test['Label'] = res\n",
    "df_test.head()\n",
    "df_test[['ImageId', 'Label']].to_csv('./submission/submission.csv', index=False)"
   ]
  }
 ],
 "metadata": {
  "kernelspec": {
   "display_name": "Python 3",
   "language": "python",
   "name": "python3"
  },
  "language_info": {
   "codemirror_mode": {
    "name": "ipython",
    "version": 3
   },
   "file_extension": ".py",
   "mimetype": "text/x-python",
   "name": "python",
   "nbconvert_exporter": "python",
   "pygments_lexer": "ipython3",
   "version": "3.5.1"
  }
 },
 "nbformat": 4,
 "nbformat_minor": 0
}
