{
 "cells": [
  {
   "cell_type": "code",
   "execution_count": 1,
   "metadata": {
    "collapsed": false
   },
   "outputs": [
    {
     "name": "stdout",
     "output_type": "stream",
     "text": [
      "http://math.illinois.edu/~shahkar2/cbmg/numpy-exercises.html\n"
     ]
    },
    {
     "data": {
      "text/plain": [
       "array([-1.3     , -1.240625, -1.18125 , -1.121875, -1.0625  , -1.003125,\n",
       "       -0.94375 , -0.884375, -0.825   , -0.765625, -0.70625 , -0.646875,\n",
       "       -0.5875  , -0.528125, -0.46875 , -0.409375, -0.35    , -0.290625,\n",
       "       -0.23125 , -0.171875, -0.1125  , -0.053125,  0.00625 ,  0.065625,\n",
       "        0.125   ,  0.184375,  0.24375 ,  0.303125,  0.3625  ,  0.421875,\n",
       "        0.48125 ,  0.540625,  0.6     ,  0.659375,  0.71875 ,  0.778125,\n",
       "        0.8375  ,  0.896875,  0.95625 ,  1.015625,  1.075   ,  1.134375,\n",
       "        1.19375 ,  1.253125,  1.3125  ,  1.371875,  1.43125 ,  1.490625,\n",
       "        1.55    ,  1.609375,  1.66875 ,  1.728125,  1.7875  ,  1.846875,\n",
       "        1.90625 ,  1.965625,  2.025   ,  2.084375,  2.14375 ,  2.203125,\n",
       "        2.2625  ,  2.321875,  2.38125 ,  2.440625,  2.5     ])"
      ]
     },
     "execution_count": 1,
     "metadata": {},
     "output_type": "execute_result"
    }
   ],
   "source": [
    "print('http://math.illinois.edu/~shahkar2/cbmg/numpy-exercises.html')\n",
    "\n",
    "import numpy as np\n",
    "\n",
    "# Create a uniform subdivision of the interval -1.3 to 2.5 with 64 subdivisions\n",
    "np.linspace(-1.3, 2.5, 65)"
   ]
  },
  {
   "cell_type": "code",
   "execution_count": 2,
   "metadata": {
    "collapsed": false
   },
   "outputs": [
    {
     "data": {
      "text/plain": [
       "array([1, 2, 3, 1, 2, 3, 1, 2, 3, 1, 2, 3, 1, 2, 3, 1, 2, 3, 1, 2, 3, 1, 2,\n",
       "       3, 1, 2, 3])"
      ]
     },
     "execution_count": 2,
     "metadata": {},
     "output_type": "execute_result"
    }
   ],
   "source": [
    "# Generate an array of length 3n filled with the cyclic pattern 1, 2, 3\n",
    "n = 3;\n",
    "np.tile([1,2,3] , 3*n)"
   ]
  },
  {
   "cell_type": "code",
   "execution_count": 3,
   "metadata": {
    "collapsed": false
   },
   "outputs": [
    {
     "data": {
      "text/plain": [
       "array([ 1,  3,  5,  7,  9, 11, 13, 15, 17, 19])"
      ]
     },
     "execution_count": 3,
     "metadata": {},
     "output_type": "execute_result"
    }
   ],
   "source": [
    "# Create an array of the first 10 odd integers\n",
    "np.arange(20, step = 2) + 1"
   ]
  },
  {
   "cell_type": "code",
   "execution_count": 4,
   "metadata": {
    "collapsed": false
   },
   "outputs": [
    {
     "name": "stdout",
     "output_type": "stream",
     "text": [
      "[[1 1 1 1 1 1 1 1 1 1 1 1]\n",
      " [1 0 0 0 0 0 0 0 0 0 0 1]\n",
      " [1 0 0 0 0 0 0 0 0 0 0 1]\n",
      " [1 0 0 0 0 0 0 0 0 0 0 1]\n",
      " [1 0 0 0 0 0 0 0 0 0 0 1]\n",
      " [1 0 0 0 0 0 0 0 0 0 0 1]\n",
      " [1 0 0 0 0 0 0 0 0 0 0 1]\n",
      " [1 0 0 0 0 0 0 0 0 0 0 1]\n",
      " [1 0 0 0 0 0 0 0 0 0 0 1]\n",
      " [1 0 0 0 0 0 0 0 0 0 0 1]\n",
      " [1 0 0 0 0 0 0 0 0 0 0 1]\n",
      " [1 1 1 1 1 1 1 1 1 1 1 1]]\n",
      "[[1 1 1 1 1 1 1 1 1 1 1 1]\n",
      " [1 0 0 0 0 0 0 0 0 0 0 1]\n",
      " [1 0 0 0 0 0 0 0 0 0 0 1]\n",
      " [1 0 0 0 0 0 0 0 0 0 0 1]\n",
      " [1 0 0 0 0 0 0 0 0 0 0 1]\n",
      " [1 0 0 0 0 0 0 0 0 0 0 1]\n",
      " [1 0 0 0 0 0 0 0 0 0 0 1]\n",
      " [1 0 0 0 0 0 0 0 0 0 0 1]\n",
      " [1 0 0 0 0 0 0 0 0 0 0 1]\n",
      " [1 0 0 0 0 0 0 0 0 0 0 1]\n",
      " [1 0 0 0 0 0 0 0 0 0 0 1]\n",
      " [1 1 1 1 1 1 1 1 1 1 1 1]]\n"
     ]
    }
   ],
   "source": [
    "# Create a 10 x 10 arrays of zeros and then \"frame\" it with a border of ones\n",
    "a = np.zeros((10, 10), dtype = int)\n",
    "b = np.zeros(10, dtype = int) + 1\n",
    "res1 = np.vstack((a, b))\n",
    "res2 = np.vstack((b, res1))\n",
    "col = np.zeros((12,1), dtype = int)+1\n",
    "res3 = np.hstack((col,res2))\n",
    "result1 = np.hstack((res3,col))\n",
    "print(result1)\n",
    "\n",
    "a1 = np.zeros((12, 12), dtype = int)\n",
    "a1[0,:] = 1\n",
    "a1[-1,:] = 1\n",
    "a1[:,0] = 1\n",
    "a1[:,-1] = 1\n",
    "print(a1)"
   ]
  },
  {
   "cell_type": "code",
   "execution_count": 5,
   "metadata": {
    "collapsed": false
   },
   "outputs": [
    {
     "data": {
      "text/plain": [
       "array([[0, 1, 0, 1, 0, 1, 0, 1],\n",
       "       [1, 0, 1, 0, 1, 0, 1, 0],\n",
       "       [0, 1, 0, 1, 0, 1, 0, 1],\n",
       "       [1, 0, 1, 0, 1, 0, 1, 0],\n",
       "       [0, 1, 0, 1, 0, 1, 0, 1],\n",
       "       [1, 0, 1, 0, 1, 0, 1, 0],\n",
       "       [0, 1, 0, 1, 0, 1, 0, 1],\n",
       "       [1, 0, 1, 0, 1, 0, 1, 0]])"
      ]
     },
     "execution_count": 5,
     "metadata": {},
     "output_type": "execute_result"
    }
   ],
   "source": [
    "# Create an 8 x 8 array with a checkerboard pattern of zeros and ones\n",
    "a = np.hstack((np.tile((0, 1),4), np.tile((1, 0),4)))\n",
    "np.tile(a, 4).reshape(8, 8)"
   ]
  },
  {
   "cell_type": "code",
   "execution_count": 6,
   "metadata": {
    "collapsed": false
   },
   "outputs": [
    {
     "name": "stdout",
     "output_type": "stream",
     "text": [
      "[[ 20  23  26  29]\n",
      " [ 56  68  80  92]\n",
      " [ 92 113 134 155]\n",
      " [128 158 188 218]]\n",
      "[[ 5]\n",
      " [14]\n",
      " [23]\n",
      " [32]]\n"
     ]
    },
    {
     "data": {
      "text/plain": [
       "array([20, 23, 26, 29])"
      ]
     },
     "execution_count": 6,
     "metadata": {},
     "output_type": "execute_result"
    }
   ],
   "source": [
    "# Try using the dot function on a vector-vector, matrix-vector and matrix-matrix example\n",
    "a = np.arange(3*4).reshape(4,3)\n",
    "b = np.arange(3*4).reshape(3,4)\n",
    "v = np.arange(3)\n",
    "vr = v.reshape(3,1)\n",
    "print(np.dot(a,b))\n",
    "print(np.dot(a,vr))\n",
    "np.dot(v,b)"
   ]
  },
  {
   "cell_type": "code",
   "execution_count": 7,
   "metadata": {
    "collapsed": false
   },
   "outputs": [
    {
     "data": {
      "image/png": "[encoded data removed]",
      "text/plain": [
       "<matplotlib.figure.Figure at 0x374b4dc0f0>"
      ]
     },
     "metadata": {},
     "output_type": "display_data"
    }
   ],
   "source": [
    "# Create a plot of  x2⋅sin(1/x2)+x on the interval  [−1,1][−1,1]  using 250 points. Remember to label the axes!\n",
    "import matplotlib.pyplot as plt\n",
    "%matplotlib inline\n",
    "x = np.linspace(-1, 1, 250)\n",
    "plt.plot(x, x**2 * np.sin(1/x**2) + x)\n",
    "plt.xlabel('x')\n",
    "plt.ylabel('y')\n",
    "plt.grid(True)"
   ]
  },
  {
   "cell_type": "code",
   "execution_count": 8,
   "metadata": {
    "collapsed": false
   },
   "outputs": [
    {
     "data": {
      "image/png": "[encoded data removed]",
      "text/plain": [
       "<matplotlib.figure.Figure at 0x374d006160>"
      ]
     },
     "metadata": {},
     "output_type": "display_data"
    }
   ],
   "source": [
    "# Create a semilogy plot of the relative difference of 1/(1+x2) and  1/x2 on the interval [5,25][5,25] . \n",
    "# (The relative difference of numbers a and b is given by |1−a/b|.\n",
    "# It provides a better sense of error relative to the order of magnitudes of a and b)\n",
    "x = np.linspace(5, 25, 250)\n",
    "f1 = 1/(1 + x**2)\n",
    "f2 = 1/x**2\n",
    "plt.semilogy(x, np.abs(1 - f1/f2))\n",
    "plt.grid(True)"
   ]
  },
  {
   "cell_type": "code",
   "execution_count": 9,
   "metadata": {
    "collapsed": false
   },
   "outputs": [
    {
     "data": {
      "text/plain": [
       "<matplotlib.colorbar.Colorbar at 0x374da9be80>"
      ]
     },
     "execution_count": 9,
     "metadata": {},
     "output_type": "execute_result"
    },
    {
     "data": {
      "image/png": "[encoded data removed]",
      "text/plain": [
       "<matplotlib.figure.Figure at 0x374d00ecc0>"
      ]
     },
     "metadata": {},
     "output_type": "display_data"
    }
   ],
   "source": [
    "# Create a color plot of sin(x)sin(y) on the interval [−π,π]×[−π,π]\n",
    "# http://matplotlib.org/examples/mplot3d/surface3d_demo.html\n",
    "\n",
    "from matplotlib import cm\n",
    "from mpl_toolkits.mplot3d import Axes3D\n",
    "from matplotlib.ticker import LinearLocator, FormatStrFormatter\n",
    "fig = plt.figure()\n",
    "ax = plt.axes(projection='3d')\n",
    "x = np.linspace(-np.pi, np.pi, 200)\n",
    "y = x\n",
    "xv, yv = np.meshgrid(x, y)\n",
    "zv = np.sin(xv) * np.sin(yv)\n",
    "surf = ax.plot_surface(xv, yv, zv, cmap=cm.coolwarm, linewidth=0.1, antialiased=True)\n",
    "\n",
    "ax.view_init(elev=25, azim=-58)\n",
    "ax.dist = 10\n",
    "\n",
    "ax.xaxis.set_major_locator(LinearLocator(5))\n",
    "ax.yaxis.set_major_locator(LinearLocator(5))\n",
    "ax.zaxis.set_major_locator(LinearLocator(5))\n",
    "ax.zaxis.set_major_formatter(FormatStrFormatter('%.02f'))\n",
    "fig.colorbar(surf, shrink=0.8, aspect=10)\n"
   ]
  },
  {
   "cell_type": "code",
   "execution_count": 11,
   "metadata": {
    "collapsed": false
   },
   "outputs": [
    {
     "name": "stdout",
     "output_type": "stream",
     "text": [
      "[[0 1 2 3]\n",
      " [1 2 3 4]\n",
      " [2 3 4 5]\n",
      " [3 4 5 6]]\n"
     ]
    }
   ],
   "source": [
    "# Create a function which creates an n×n array with (i,j)-entry equal to i+j\n",
    "\n",
    "def arr(n):\n",
    "    x = np.tile(np.arange(n), n).reshape(n,n)\n",
    "    for i in range(n):\n",
    "        x[i,:] = x[i,:] + i\n",
    "    return(x)\n",
    "\n",
    "print(arr(4))\n"
   ]
  },
  {
   "cell_type": "code",
   "execution_count": 64,
   "metadata": {
    "collapsed": false
   },
   "outputs": [
    {
     "data": {
      "text/plain": [
       "[(1.0, 0.0),\n",
       " (0.99383350853889196, 0.11088262850995298),\n",
       " (0.97541008538944751, 0.22039774345612226),\n",
       " (0.9449569463147377, 0.32719469679615221),\n",
       " (0.90284966935889865, 0.42995636352835553),\n",
       " (0.84960756284952776, 0.52741538577186553),\n",
       " (0.78588726077694804, 0.61836980306973699),\n",
       " (0.71247462453841903, 0.70169787614673518),\n",
       " (0.63027505092294511, 0.77637192130066046),\n",
       " (0.54030230586813965, 0.8414709848078965)]"
      ]
     },
     "execution_count": 64,
     "metadata": {},
     "output_type": "execute_result"
    }
   ],
   "source": [
    "# Evaluate сos and sin on the interval [0,1] and then \n",
    "# stack the results into a tall array with rows being the (cos(x),sin(x)) entries\n",
    "\n",
    "x = np.linspace(0, 1, 10)\n",
    "list(zip(np.cos(x), np.sin(x)))\n"
   ]
  },
  {
   "cell_type": "code",
   "execution_count": 48,
   "metadata": {
    "collapsed": false
   },
   "outputs": [
    {
     "name": "stdout",
     "output_type": "stream",
     "text": [
      "[[ 0.48809654  0.2307168   0.62348657  0.57384801  0.71505875]\n",
      " [ 0.40707684  0.44283953  0.63301432  0.40363417  0.96196862]\n",
      " [ 0.1450418   0.01267748  0.22669697  0.42228436  0.64605057]]\n",
      "6.93249132348\n",
      "[ 1.04021517  0.68623381  1.48319785  1.39976654  2.32307794]\n",
      "[ 2.63120667  2.84853348  1.45275117]\n"
     ]
    }
   ],
   "source": [
    "# Create a random 3×5 array using the np.random.rand(3, 5) function and compute: \n",
    "# the sum of all the entries, \n",
    "# the sum of the rows \n",
    "# and the sum of the columns.\n",
    "# (Just like sorted had an optional key= argument, many Numpy functions have an optional axis= argument!)\n",
    "\n",
    "x = np.random.rand(3, 5)\n",
    "print(x)\n",
    "print(np.sum(x))\n",
    "print(np.sum(x, axis = 0))\n",
    "print(np.sum(x, axis = 1))"
   ]
  },
  {
   "cell_type": "code",
   "execution_count": 2,
   "metadata": {
    "collapsed": false
   },
   "outputs": [
    {
     "name": "stdout",
     "output_type": "stream",
     "text": [
      "[[ 0.00815778  0.38207265  0.4008108   0.36591829  0.01425929]\n",
      " [ 0.1350654   0.49628194  0.89098166  0.47263053  0.98921887]\n",
      " [ 0.81362769  0.42141703  0.01568711  0.56524087  0.51465802]\n",
      " [ 0.45623609  0.3972879   0.89374168  0.11896537  0.2008517 ]\n",
      " [ 0.26118821  0.25968544  0.65686409  0.51592405  0.07941246]]\n",
      "[[ 0.81362769  0.42141703  0.01568711  0.56524087  0.51465802]\n",
      " [ 0.00815778  0.38207265  0.4008108   0.36591829  0.01425929]\n",
      " [ 0.26118821  0.25968544  0.65686409  0.51592405  0.07941246]\n",
      " [ 0.1350654   0.49628194  0.89098166  0.47263053  0.98921887]\n",
      " [ 0.45623609  0.3972879   0.89374168  0.11896537  0.2008517 ]]\n"
     ]
    }
   ],
   "source": [
    "# Create a random 5×5 array using the function np.random.rand(5, 5). \n",
    "# We want to sort the rows according to the second column. Try combining array slicing + argsort + indexing to do this\n",
    "\n",
    "x = np.random.rand(5, 5)\n",
    "print(x)\n",
    "a = np.argsort(x[:,2])\n",
    "for i in a:    \n",
    "    x = np.vstack((x, x[i,:]))\n",
    "\n",
    "print(x[5:,:])   \n",
    "    "
   ]
  },
  {
   "cell_type": "code",
   "execution_count": 149,
   "metadata": {
    "collapsed": false
   },
   "outputs": [
    {
     "name": "stdout",
     "output_type": "stream",
     "text": [
      "End\n"
     ]
    }
   ],
   "source": [
    "# Read slot_trains and create csv\n",
    "\n",
    "import pandas as pd\n",
    "\n",
    "plan = []\n",
    "with open('train_op.txt') as f:\n",
    "    for line in f:\n",
    "        plan.append(line)\n",
    "\n",
    "cols = ['train', 'st_from', 'st_to', 'link', 'time_start', 'time_end']\n",
    "df = pd.DataFrame(columns=cols)\n",
    "for tr_str in plan:\n",
    "    a = tr_str.split('track')        \n",
    "    train_id = a[0][a[0].index('id')+3:a[0].index('route')-2]    \n",
    "    # if train_id == '200020209275': print(a, len(a))\n",
    "    for i in range(1, len(a)):                \n",
    "        st_from = a[i][9:19]\n",
    "        st_to = a[i][29:39]\n",
    "        link = [st_from, st_to]\n",
    "        time_start = a[i][52:62]\n",
    "        time_end = a[i][73:83]         \n",
    "        df.loc[len(df.index)] = [train_id, st_from, st_to, link, time_start, time_end]\n",
    "        \n",
    "df.to_csv('train_op.csv', index=False)\n",
    "print('End')\n",
    "#travel_time = float(df['time_end'].iloc[-1]) - float(df['time_start'][0])\n",
    "#print('Travel time', datetime.timedelta(seconds=travel_time))"
   ]
  },
  {
   "cell_type": "code",
   "execution_count": 66,
   "metadata": {
    "collapsed": false
   },
   "outputs": [],
   "source": [
    "import datetime\n",
    "tr = pd.read_csv('train_op.csv')\n",
    "for train in tr.train.drop_duplicates():    \n",
    "    t = tr.loc[tr.train == train].reset_index()        \n",
    "    travel_time = float(t['time_end'].iloc[-1]) - float(t['time_start'][0])\n",
    "    #print('Train', train, 'Travel time', datetime.timedelta(seconds=travel_time))"
   ]
  },
  {
   "cell_type": "code",
   "execution_count": 104,
   "metadata": {
    "collapsed": false
   },
   "outputs": [
    {
     "name": "stdout",
     "output_type": "stream",
     "text": [
      "End\n"
     ]
    }
   ],
   "source": [
    "# Read train_info and create csv\n",
    "\n",
    "train_info = []\n",
    "with open('train_info.txt') as f_tr:\n",
    "    for line in f_tr:\n",
    "        train_info.append(line)\n",
    "\n",
    "cols = ['train', 'number', 'weight', 'length']\n",
    "df_train_info = pd.DataFrame(columns=cols)\n",
    "for tr_str in train_info:\n",
    "    a = tr_str.split(',')\n",
    "    train = a[0][15:27]\n",
    "    number = a[1][7:-1]\n",
    "    weight = a[3][7:-1]\n",
    "    length = a[4][7:-1]\n",
    "    df_train_info.loc[len(df_train_info.index)] = [train, number, weight, length]\n",
    "    \n",
    "df_train_info.to_csv('train_info.csv', index=False)\n",
    "print('End')"
   ]
  },
  {
   "cell_type": "code",
   "execution_count": 166,
   "metadata": {
    "collapsed": false
   },
   "outputs": [],
   "source": [
    "# Add travel times to train_info\n",
    "\n",
    "tr_info = pd.read_csv('train_info.csv')\n",
    "tr_plan = pd.read_csv('train_op.csv')\n",
    "tr_info.loc[:,'travel_time'] = np.zeros(len(tr_info.index))\n",
    "for i in range(0, len(tr_info.index) - 1):    \n",
    "    train = int(tr_info.loc[i, 'train'])\n",
    "    t = tr_plan.loc[tr_plan.train == train].reset_index()       \n",
    "    if len(t.index != 0):\n",
    "        travel_time = float(t['time_end'].iloc[-1]) - float(t['time_start'][0])    \n",
    "        tr_info.loc[i, 'travel_time'] = travel_time\n",
    "# print(tr_info)"
   ]
  },
  {
   "cell_type": "code",
   "execution_count": 153,
   "metadata": {
    "collapsed": false
   },
   "outputs": [
    {
     "name": "stdout",
     "output_type": "stream",
     "text": [
      "End\n"
     ]
    }
   ],
   "source": [
    "# Load infrastructure and create csv\n",
    "\n",
    "plan = []\n",
    "with open('infra.txt') as f:\n",
    "    for line in f:\n",
    "        plan.append(line)   \n",
    "\n",
    "cols = ['link', 'time', 'dist']\n",
    "df_link = pd.DataFrame(columns=cols)\n",
    "for inf_str in plan:    \n",
    "    if inf_str[1:inf_str.find(\"(\")] == 'link':\n",
    "        st_from = inf_str[20:30]\n",
    "        st_to = inf_str[40:50]\n",
    "        attr = inf_str[65:-4].split(',')\n",
    "        time = attr[0][9:-1]\n",
    "        dist = attr[1][9:-1]        \n",
    "        df_link.loc[len(df_link.index)] = [[st_from, st_to], time, dist]\n",
    "        \n",
    "# print(df_link)\n",
    "df_link.to_csv('infra.csv', index=False)\n",
    "print('End')"
   ]
  },
  {
   "cell_type": "code",
   "execution_count": 209,
   "metadata": {
    "collapsed": false
   },
   "outputs": [
    {
     "name": "stdout",
     "output_type": "stream",
     "text": [
      "3314.0\n"
     ]
    }
   ],
   "source": [
    "# Add distance to train_plan and train_info\n",
    "# Count average weight\n",
    "\n",
    "infra = pd.read_csv('infra.csv')\n",
    "tr_plan['dist'] = tr_plan.link.map(infra.set_index('link').dist)\n",
    "tra = tr_plan[['train', 'dist']].groupby('train').sum()\n",
    "tr_info['dist'] = tr_info.train.map(tra.dist)\n",
    "tr_info.set_index('train')\n",
    "a = tr_info.weight * tr_info.dist\n",
    "print(np.round(a.sum() / tr_info.dist.sum()))\n",
    "\n"
   ]
  },
  {
   "cell_type": "code",
   "execution_count": 210,
   "metadata": {
    "collapsed": false
   },
   "outputs": [
    {
     "name": "stdout",
     "output_type": "stream",
     "text": [
      "End\n"
     ]
    }
   ],
   "source": [
    "plan = []\n",
    "with open('infra.txt') as f:\n",
    "    for line in f:\n",
    "        plan.append(line)   \n",
    "\n",
    "cols = ['link', 'time', 'dist']\n",
    "df_link = pd.DataFrame(columns=cols)\n",
    "for inf_str in plan:    \n",
    "    if inf_str[1:inf_str.find(\"(\")] == 'link':\n",
    "        st_from = inf_str[20:30]\n",
    "        st_to = inf_str[40:50]\n",
    "        attr = inf_str[65:-4].split(',')\n",
    "        time = attr[0][9:-1]\n",
    "        dist = attr[1][9:-1]        \n",
    "        df_link.loc[len(df_link.index)] = [[st_from, st_to], time, dist]\n",
    "        \n",
    "# print(df_link)\n",
    "df_link.to_csv('infra.csv', index=False)\n",
    "print('End')"
   ]
  },
  {
   "cell_type": "code",
   "execution_count": 212,
   "metadata": {
    "collapsed": false
   },
   "outputs": [
    {
     "data": {
      "text/plain": [
       "'Hello, world!'"
      ]
     },
     "execution_count": 212,
     "metadata": {},
     "output_type": "execute_result"
    }
   ],
   "source": [
    "'Hello, world!'"
   ]
  }
 ],
 "metadata": {
  "kernelspec": {
   "display_name": "Python 3",
   "language": "python",
   "name": "python3"
  },
  "language_info": {
   "codemirror_mode": {
    "name": "ipython",
    "version": 3
   },
   "file_extension": ".py",
   "mimetype": "text/x-python",
   "name": "python",
   "nbconvert_exporter": "python",
   "pygments_lexer": "ipython3",
   "version": "3.5.1"
  }
 },
 "nbformat": 4,
 "nbformat_minor": 0
}
